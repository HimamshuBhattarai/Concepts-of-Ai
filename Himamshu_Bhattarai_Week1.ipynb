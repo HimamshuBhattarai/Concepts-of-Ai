{
 "cells": [
  {
   "cell_type": "code",
   "execution_count": 1,
   "id": "80a1b191-afbe-4994-9502-e9b3df3e1871",
   "metadata": {},
   "outputs": [],
   "source": [
    "import numpy as np"
   ]
  },
  {
   "cell_type": "markdown",
   "id": "bafe986b-3aa4-4c1c-98c0-71ac87e108d2",
   "metadata": {},
   "source": [
    "<h1>Problem 1 </h1>"
   ]
  },
  {
   "cell_type": "code",
   "execution_count": 2,
   "id": "4990a9df-6187-4ddf-a5f8-c1f1f4ae0fee",
   "metadata": {},
   "outputs": [],
   "source": [
    "arr1=np.array([])"
   ]
  },
  {
   "cell_type": "code",
   "execution_count": 3,
   "id": "3959f366-44d4-4e3f-b3c6-d0c3dee9a26f",
   "metadata": {},
   "outputs": [
    {
     "data": {
      "text/plain": [
       "array([[1., 1.],\n",
       "       [1., 1.],\n",
       "       [1., 1.],\n",
       "       [1., 1.]])"
      ]
     },
     "execution_count": 3,
     "metadata": {},
     "output_type": "execute_result"
    }
   ],
   "source": [
    "arr2=np.ones((4,2))\n",
    "\n",
    "arr2"
   ]
  },
  {
   "cell_type": "code",
   "execution_count": 4,
   "id": "b9dfa672-b92e-43d4-bb4e-aa61e310f211",
   "metadata": {},
   "outputs": [
    {
     "data": {
      "text/plain": [
       "array([2, 2, 2])"
      ]
     },
     "execution_count": 4,
     "metadata": {},
     "output_type": "execute_result"
    }
   ],
   "source": [
    "arr3 = np.full(3,2)\n",
    "arr3"
   ]
  },
  {
   "cell_type": "code",
   "execution_count": 5,
   "id": "ddfca06b-5585-49a5-9421-11bad697546b",
   "metadata": {},
   "outputs": [
    {
     "data": {
      "text/plain": [
       "array([[0., 0.],\n",
       "       [0., 0.],\n",
       "       [0., 0.],\n",
       "       [0., 0.]])"
      ]
     },
     "execution_count": 5,
     "metadata": {},
     "output_type": "execute_result"
    }
   ],
   "source": [
    "arr4=np.zeros_like(arr2)\n",
    "arr4"
   ]
  },
  {
   "cell_type": "code",
   "execution_count": 6,
   "id": "a8e994b4-7671-4571-90cf-ea104ffd4ca9",
   "metadata": {},
   "outputs": [
    {
     "data": {
      "text/plain": [
       "array([[1., 1.],\n",
       "       [1., 1.],\n",
       "       [1., 1.],\n",
       "       [1., 1.]])"
      ]
     },
     "execution_count": 6,
     "metadata": {},
     "output_type": "execute_result"
    }
   ],
   "source": [
    "arr5=np.ones_like(arr4)\n",
    "arr5"
   ]
  },
  {
   "cell_type": "code",
   "execution_count": 7,
   "id": "b37810f4-2bb3-4e27-8e18-97d14c752213",
   "metadata": {},
   "outputs": [
    {
     "data": {
      "text/plain": [
       "array([1, 2, 3, 4])"
      ]
     },
     "execution_count": 7,
     "metadata": {},
     "output_type": "execute_result"
    }
   ],
   "source": [
    "new_list=[1,2,3,4]\n",
    "np.array(new_list)"
   ]
  },
  {
   "cell_type": "markdown",
   "id": "782515cc-0b6c-4a15-afbd-0be152b5c1fc",
   "metadata": {},
   "source": [
    "<h1>Problem 2</h1>"
   ]
  },
  {
   "cell_type": "code",
   "execution_count": 8,
   "id": "82867e16-0940-46cf-a438-82a58b8dc094",
   "metadata": {},
   "outputs": [
    {
     "data": {
      "text/plain": [
       "array([10, 11, 12, 13, 14, 15, 16, 17, 18, 19, 20, 21, 22, 23, 24, 25, 26,\n",
       "       27, 28, 29, 30, 31, 32, 33, 34, 35, 36, 37, 38, 39, 40, 41, 42, 43,\n",
       "       44, 45, 46, 47, 48])"
      ]
     },
     "execution_count": 8,
     "metadata": {},
     "output_type": "execute_result"
    }
   ],
   "source": [
    "arr6=np.arange(10,49)\n",
    "arr6"
   ]
  },
  {
   "cell_type": "code",
   "execution_count": 9,
   "id": "1289fb57-f659-4a18-92ae-389f54b79b90",
   "metadata": {},
   "outputs": [
    {
     "data": {
      "text/plain": [
       "(3, 3)"
      ]
     },
     "execution_count": 9,
     "metadata": {},
     "output_type": "execute_result"
    }
   ],
   "source": [
    "arr7 = np.array([[1,2,3],\n",
    "                 [3,7,4],\n",
    "                 [1,0,7]])\n",
    "arr7.shape"
   ]
  },
  {
   "cell_type": "code",
   "execution_count": 10,
   "id": "70971e4b-d935-46fd-8466-6dc95eec51b5",
   "metadata": {},
   "outputs": [
    {
     "data": {
      "text/plain": [
       "array([[1., 0., 0.],\n",
       "       [0., 1., 0.],\n",
       "       [0., 0., 1.]])"
      ]
     },
     "execution_count": 10,
     "metadata": {},
     "output_type": "execute_result"
    }
   ],
   "source": [
    "arr8=np.eye(3,3)\n",
    "arr8"
   ]
  },
  {
   "cell_type": "code",
   "execution_count": 11,
   "id": "066c6f0f-29f2-48f3-8d2a-fe8c7b7e8857",
   "metadata": {},
   "outputs": [
    {
     "data": {
      "text/plain": [
       "0.5245904458636662"
      ]
     },
     "execution_count": 11,
     "metadata": {},
     "output_type": "execute_result"
    }
   ],
   "source": [
    "arr9=np.random.random(30)\n",
    "arr9.mean()"
   ]
  },
  {
   "cell_type": "code",
   "execution_count": 12,
   "id": "8ee73f2b-b3a6-42e0-b0b6-add3047e1abb",
   "metadata": {},
   "outputs": [],
   "source": [
    "arr10=np.random.rand(10,10)"
   ]
  },
  {
   "cell_type": "code",
   "execution_count": 13,
   "id": "2a04e2da-6db2-457c-a079-c28810f64cbf",
   "metadata": {},
   "outputs": [
    {
     "data": {
      "text/plain": [
       "0.00030770362610876845"
      ]
     },
     "execution_count": 13,
     "metadata": {},
     "output_type": "execute_result"
    }
   ],
   "source": [
    "arr10.min()"
   ]
  },
  {
   "cell_type": "code",
   "execution_count": 14,
   "id": "fdb5cb27-35be-4c69-ab76-fb87fd3f8da2",
   "metadata": {},
   "outputs": [
    {
     "data": {
      "text/plain": [
       "0.9885804160385909"
      ]
     },
     "execution_count": 14,
     "metadata": {},
     "output_type": "execute_result"
    }
   ],
   "source": [
    "arr10.max()"
   ]
  },
  {
   "cell_type": "code",
   "execution_count": 15,
   "id": "36e4f152-52d8-409e-8c32-0924fd39c37d",
   "metadata": {},
   "outputs": [],
   "source": [
    "arr11=np.zeros(10)"
   ]
  },
  {
   "cell_type": "code",
   "execution_count": 16,
   "id": "4408e9b1-ac65-4bf2-92ef-3fd04e96a0ed",
   "metadata": {},
   "outputs": [],
   "source": [
    "arr11[5]=1"
   ]
  },
  {
   "cell_type": "code",
   "execution_count": 17,
   "id": "64cea898-e383-49c2-b871-c1ec66ca0347",
   "metadata": {},
   "outputs": [
    {
     "data": {
      "text/plain": [
       "array([0., 0., 0., 0., 0., 1., 0., 0., 0., 0.])"
      ]
     },
     "execution_count": 17,
     "metadata": {},
     "output_type": "execute_result"
    }
   ],
   "source": [
    "arr11"
   ]
  },
  {
   "cell_type": "code",
   "execution_count": 18,
   "id": "5f5637a7-d9fb-4fec-9365-3508702b9bcd",
   "metadata": {},
   "outputs": [
    {
     "data": {
      "text/plain": [
       "array([[12, 90, 11],\n",
       "       [13, 89, 16],\n",
       "       [15, 78, 61]])"
      ]
     },
     "execution_count": 18,
     "metadata": {},
     "output_type": "execute_result"
    }
   ],
   "source": [
    "arr12=np.array([[12,90,11],\n",
    "               [13,89,16],\n",
    "               [15,78,61]])\n",
    "arr12"
   ]
  },
  {
   "cell_type": "code",
   "execution_count": 84,
   "id": "25a6d7cf-f345-40f4-b270-3311ac90fa46",
   "metadata": {},
   "outputs": [],
   "source": [
    "arr12[2,1]=1"
   ]
  },
  {
   "cell_type": "code",
   "execution_count": 86,
   "id": "00140355-e86d-417a-b4d0-0a4a14aaef0f",
   "metadata": {},
   "outputs": [
    {
     "data": {
      "text/plain": [
       "array([[1, 1, 1],\n",
       "       [1, 0, 1],\n",
       "       [1, 1, 1]])"
      ]
     },
     "execution_count": 86,
     "metadata": {},
     "output_type": "execute_result"
    }
   ],
   "source": [
    "arr12"
   ]
  },
  {
   "cell_type": "code",
   "execution_count": 142,
   "id": "0571e80b-2567-428a-9943-bf51bb4e401f",
   "metadata": {},
   "outputs": [
    {
     "data": {
      "text/plain": [
       "[0, 4, 0, 0, 2, 1]"
      ]
     },
     "execution_count": 142,
     "metadata": {},
     "output_type": "execute_result"
    }
   ],
   "source": [
    "arr13=[1,2,0,0,4,0]\n",
    "reversed=arr13[::-1]  \n",
    "reversed"
   ]
  },
  {
   "cell_type": "markdown",
   "id": "3835fb74-a611-4ca5-af9d-a2c97792e231",
   "metadata": {},
   "source": [
    "<h1>Problem 3</h1>"
   ]
  },
  {
   "cell_type": "code",
   "execution_count": 173,
   "id": "de57b1bd-df20-4c3b-8398-c7b83d811806",
   "metadata": {},
   "outputs": [
    {
     "data": {
      "text/plain": [
       "array([ 9, 10, 11, 12])"
      ]
     },
     "execution_count": 173,
     "metadata": {},
     "output_type": "execute_result"
    }
   ],
   "source": [
    "x = np.array([[1,2],[3,5]])  \n",
    "y = np.array([[5,6],[7,8]])\n",
    "v = np.array([9,10]) \n",
    "w = np.array([11,12])\n",
    "\n",
    "sum1=x+y\n",
    "sum2=v+w\n",
    "\n",
    "sub1=x-y\n",
    "sub2=v-w\n",
    "\n",
    "multi1=2*(x)\n",
    "multi2=2*(y)\n",
    "multi3=2*(v)\n",
    "multi4=2*(w)\n",
    "\n",
    "dot1=np.dot(v,w)\n",
    "dot2=np.dot(x,v)\n",
    "dot3=np.dot(x,y)\n",
    "\n",
    "conc1=np.concatenate((x,y),axis=1)\n",
    "conc1\n",
    "\n",
    "conc2=np.concatenate((v,w), axis=0)\n",
    "conc2\n"
   ]
  },
  {
   "cell_type": "markdown",
   "id": "2f6af877-bd57-402f-aa19-2def8c355fb0",
   "metadata": {},
   "source": [
    "<h1>Problem 4</h1>"
   ]
  },
  {
   "cell_type": "code",
   "execution_count": 189,
   "id": "2333ecd2-0bf2-48c5-8802-aa381aec46aa",
   "metadata": {},
   "outputs": [],
   "source": [
    "A = np.array([[3,4],[7,8]]) \n",
    "B = np.array([[5,3],[2,1]])\n",
    "\n",
    "inverse=np.linalg.inv(A)\n",
    "mult=np.dot(A,inverse)\n",
    "\n",
    "Equal1=np.dot(A,B)\n",
    "Equal2=np.dot(B,A)\n",
    "Equal3=Equal1==Equal2\n",
    "\n",
    "inverse1=np.transpose(Equal1)\n",
    "inverse2=np.transpose(B)\n",
    "inverse3=np.transpose(A)\n",
    "inverse4=np.dot(inverse2,inverse3)"
   ]
  },
  {
   "cell_type": "code",
   "execution_count": 179,
   "id": "b1cd83db-8a8e-4a6d-afba-a2362f3871d5",
   "metadata": {},
   "outputs": [
    {
     "data": {
      "text/plain": [
       "array([[1.0000000e+00, 4.4408921e-16],\n",
       "       [0.0000000e+00, 1.0000000e+00]])"
      ]
     },
     "execution_count": 179,
     "metadata": {},
     "output_type": "execute_result"
    }
   ],
   "source": [
    "mult"
   ]
  },
  {
   "cell_type": "code",
   "execution_count": 185,
   "id": "85930d6a-c61b-4b71-b17e-af6b3f914393",
   "metadata": {},
   "outputs": [
    {
     "data": {
      "text/plain": [
       "array([[False, False],\n",
       "       [False, False]])"
      ]
     },
     "execution_count": 185,
     "metadata": {},
     "output_type": "execute_result"
    }
   ],
   "source": [
    "Equal3"
   ]
  },
  {
   "cell_type": "code",
   "execution_count": 191,
   "id": "07f0bc1a-6228-4c62-9001-393ee484a26a",
   "metadata": {},
   "outputs": [
    {
     "data": {
      "text/plain": [
       "array([[ True,  True],\n",
       "       [ True,  True]])"
      ]
     },
     "execution_count": 191,
     "metadata": {},
     "output_type": "execute_result"
    }
   ],
   "source": [
    "inverse1==inverse4"
   ]
  },
  {
   "cell_type": "code",
   "execution_count": 222,
   "id": "6d0c7acd-b779-42b6-9a53-3ce0738d4fa5",
   "metadata": {},
   "outputs": [],
   "source": [
    "array=np.array([[2,-3,1],\n",
    "                [1,-1,2],\n",
    "                [3,1,-1]])\n",
    "array1=np.array([-1,-3,9]).reshape(3,1)\n",
    "\n",
    "inve=np.linalg.inv(array)\n",
    "\n",
    "ans=np.dot(inve,array1)\n",
    "\n",
    "\n",
    "\n",
    "                 "
   ]
  },
  {
   "cell_type": "code",
   "execution_count": 224,
   "id": "1e42e1c3-d089-4519-9cc8-76692fb51dc3",
   "metadata": {},
   "outputs": [
    {
     "data": {
      "text/plain": [
       "array([[ 2.],\n",
       "       [ 1.],\n",
       "       [-2.]])"
      ]
     },
     "execution_count": 224,
     "metadata": {},
     "output_type": "execute_result"
    }
   ],
   "source": [
    "ans"
   ]
  },
  {
   "cell_type": "code",
   "execution_count": null,
   "id": "08dec644-613a-4d29-b6b4-4980211dcda7",
   "metadata": {},
   "outputs": [],
   "source": []
  }
 ],
 "metadata": {
  "kernelspec": {
   "display_name": "Python 3 (ipykernel)",
   "language": "python",
   "name": "python3"
  },
  "language_info": {
   "codemirror_mode": {
    "name": "ipython",
    "version": 3
   },
   "file_extension": ".py",
   "mimetype": "text/x-python",
   "name": "python",
   "nbconvert_exporter": "python",
   "pygments_lexer": "ipython3",
   "version": "3.11.7"
  }
 },
 "nbformat": 4,
 "nbformat_minor": 5
}
