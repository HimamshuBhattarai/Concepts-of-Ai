{
 "cells": [
  {
   "cell_type": "code",
   "execution_count": 2,
   "id": "c84592e9-3e79-484a-a703-f1d8d998b020",
   "metadata": {},
   "outputs": [],
   "source": [
    "import pandas as pd\n",
    "import numpy as np\n",
    "import seaborn as sns\n",
    "import matplotlib.pyplot as plt\n",
    "import warnings\n",
    "warnings.filterwarnings('ignore')"
   ]
  },
  {
   "cell_type": "code",
   "execution_count": 3,
   "id": "e144f782-b8bf-4189-ada7-011531a03a97",
   "metadata": {},
   "outputs": [],
   "source": [
    "df = pd.read_csv('WHR-2024-5CS037.csv')"
   ]
  },
  {
   "cell_type": "markdown",
   "id": "cbe47346-8056-4362-8895-27bc64e8a5d8",
   "metadata": {},
   "source": [
    "<h1>Data Overview</h1>"
   ]
  },
  {
   "cell_type": "code",
   "execution_count": 5,
   "id": "95f073b0-6208-4f6e-9312-8f85759359a2",
   "metadata": {},
   "outputs": [
    {
     "data": {
      "text/html": [
       "<div>\n",
       "<style scoped>\n",
       "    .dataframe tbody tr th:only-of-type {\n",
       "        vertical-align: middle;\n",
       "    }\n",
       "\n",
       "    .dataframe tbody tr th {\n",
       "        vertical-align: top;\n",
       "    }\n",
       "\n",
       "    .dataframe thead th {\n",
       "        text-align: right;\n",
       "    }\n",
       "</style>\n",
       "<table border=\"1\" class=\"dataframe\">\n",
       "  <thead>\n",
       "    <tr style=\"text-align: right;\">\n",
       "      <th></th>\n",
       "      <th>Country name</th>\n",
       "      <th>score</th>\n",
       "      <th>Log GDP per capita</th>\n",
       "      <th>Social support</th>\n",
       "      <th>Healthy life expectancy</th>\n",
       "      <th>Freedom to make life choices</th>\n",
       "      <th>Generosity</th>\n",
       "      <th>Perceptions of corruption</th>\n",
       "      <th>Dystopia + residual</th>\n",
       "    </tr>\n",
       "  </thead>\n",
       "  <tbody>\n",
       "    <tr>\n",
       "      <th>0</th>\n",
       "      <td>Finland</td>\n",
       "      <td>7.741</td>\n",
       "      <td>1.844</td>\n",
       "      <td>1.572</td>\n",
       "      <td>0.695</td>\n",
       "      <td>0.859</td>\n",
       "      <td>0.142</td>\n",
       "      <td>0.546</td>\n",
       "      <td>2.082</td>\n",
       "    </tr>\n",
       "    <tr>\n",
       "      <th>1</th>\n",
       "      <td>Denmark</td>\n",
       "      <td>7.583</td>\n",
       "      <td>1.908</td>\n",
       "      <td>1.520</td>\n",
       "      <td>0.699</td>\n",
       "      <td>0.823</td>\n",
       "      <td>0.204</td>\n",
       "      <td>0.548</td>\n",
       "      <td>1.881</td>\n",
       "    </tr>\n",
       "    <tr>\n",
       "      <th>2</th>\n",
       "      <td>Iceland</td>\n",
       "      <td>7.525</td>\n",
       "      <td>1.881</td>\n",
       "      <td>1.617</td>\n",
       "      <td>0.718</td>\n",
       "      <td>0.819</td>\n",
       "      <td>0.258</td>\n",
       "      <td>0.182</td>\n",
       "      <td>2.050</td>\n",
       "    </tr>\n",
       "    <tr>\n",
       "      <th>3</th>\n",
       "      <td>Sweden</td>\n",
       "      <td>7.344</td>\n",
       "      <td>1.878</td>\n",
       "      <td>1.501</td>\n",
       "      <td>0.724</td>\n",
       "      <td>0.838</td>\n",
       "      <td>0.221</td>\n",
       "      <td>0.524</td>\n",
       "      <td>1.658</td>\n",
       "    </tr>\n",
       "    <tr>\n",
       "      <th>4</th>\n",
       "      <td>Israel</td>\n",
       "      <td>7.341</td>\n",
       "      <td>1.803</td>\n",
       "      <td>1.513</td>\n",
       "      <td>0.740</td>\n",
       "      <td>0.641</td>\n",
       "      <td>0.153</td>\n",
       "      <td>0.193</td>\n",
       "      <td>2.298</td>\n",
       "    </tr>\n",
       "    <tr>\n",
       "      <th>...</th>\n",
       "      <td>...</td>\n",
       "      <td>...</td>\n",
       "      <td>...</td>\n",
       "      <td>...</td>\n",
       "      <td>...</td>\n",
       "      <td>...</td>\n",
       "      <td>...</td>\n",
       "      <td>...</td>\n",
       "      <td>...</td>\n",
       "    </tr>\n",
       "    <tr>\n",
       "      <th>138</th>\n",
       "      <td>Congo (Kinshasa)</td>\n",
       "      <td>3.295</td>\n",
       "      <td>0.534</td>\n",
       "      <td>0.665</td>\n",
       "      <td>0.262</td>\n",
       "      <td>0.473</td>\n",
       "      <td>0.189</td>\n",
       "      <td>0.072</td>\n",
       "      <td>1.102</td>\n",
       "    </tr>\n",
       "    <tr>\n",
       "      <th>139</th>\n",
       "      <td>Sierra Leone</td>\n",
       "      <td>3.245</td>\n",
       "      <td>0.654</td>\n",
       "      <td>0.566</td>\n",
       "      <td>0.253</td>\n",
       "      <td>0.469</td>\n",
       "      <td>0.181</td>\n",
       "      <td>0.053</td>\n",
       "      <td>1.068</td>\n",
       "    </tr>\n",
       "    <tr>\n",
       "      <th>140</th>\n",
       "      <td>Lesotho</td>\n",
       "      <td>3.186</td>\n",
       "      <td>0.771</td>\n",
       "      <td>0.851</td>\n",
       "      <td>0.000</td>\n",
       "      <td>0.523</td>\n",
       "      <td>0.082</td>\n",
       "      <td>0.085</td>\n",
       "      <td>0.875</td>\n",
       "    </tr>\n",
       "    <tr>\n",
       "      <th>141</th>\n",
       "      <td>Lebanon</td>\n",
       "      <td>2.707</td>\n",
       "      <td>1.377</td>\n",
       "      <td>0.577</td>\n",
       "      <td>0.556</td>\n",
       "      <td>0.173</td>\n",
       "      <td>0.068</td>\n",
       "      <td>0.029</td>\n",
       "      <td>-0.073</td>\n",
       "    </tr>\n",
       "    <tr>\n",
       "      <th>142</th>\n",
       "      <td>Afghanistan</td>\n",
       "      <td>1.721</td>\n",
       "      <td>0.628</td>\n",
       "      <td>0.000</td>\n",
       "      <td>0.242</td>\n",
       "      <td>0.000</td>\n",
       "      <td>0.091</td>\n",
       "      <td>0.088</td>\n",
       "      <td>0.672</td>\n",
       "    </tr>\n",
       "  </tbody>\n",
       "</table>\n",
       "<p>143 rows × 9 columns</p>\n",
       "</div>"
      ],
      "text/plain": [
       "         Country name  score  Log GDP per capita  Social support  \\\n",
       "0             Finland  7.741               1.844           1.572   \n",
       "1             Denmark  7.583               1.908           1.520   \n",
       "2             Iceland  7.525               1.881           1.617   \n",
       "3              Sweden  7.344               1.878           1.501   \n",
       "4              Israel  7.341               1.803           1.513   \n",
       "..                ...    ...                 ...             ...   \n",
       "138  Congo (Kinshasa)  3.295               0.534           0.665   \n",
       "139      Sierra Leone  3.245               0.654           0.566   \n",
       "140           Lesotho  3.186               0.771           0.851   \n",
       "141           Lebanon  2.707               1.377           0.577   \n",
       "142       Afghanistan  1.721               0.628           0.000   \n",
       "\n",
       "     Healthy life expectancy  Freedom to make life choices  Generosity  \\\n",
       "0                      0.695                         0.859       0.142   \n",
       "1                      0.699                         0.823       0.204   \n",
       "2                      0.718                         0.819       0.258   \n",
       "3                      0.724                         0.838       0.221   \n",
       "4                      0.740                         0.641       0.153   \n",
       "..                       ...                           ...         ...   \n",
       "138                    0.262                         0.473       0.189   \n",
       "139                    0.253                         0.469       0.181   \n",
       "140                    0.000                         0.523       0.082   \n",
       "141                    0.556                         0.173       0.068   \n",
       "142                    0.242                         0.000       0.091   \n",
       "\n",
       "     Perceptions of corruption  Dystopia + residual  \n",
       "0                        0.546                2.082  \n",
       "1                        0.548                1.881  \n",
       "2                        0.182                2.050  \n",
       "3                        0.524                1.658  \n",
       "4                        0.193                2.298  \n",
       "..                         ...                  ...  \n",
       "138                      0.072                1.102  \n",
       "139                      0.053                1.068  \n",
       "140                      0.085                0.875  \n",
       "141                      0.029               -0.073  \n",
       "142                      0.088                0.672  \n",
       "\n",
       "[143 rows x 9 columns]"
      ]
     },
     "execution_count": 5,
     "metadata": {},
     "output_type": "execute_result"
    }
   ],
   "source": [
    "df"
   ]
  },
  {
   "cell_type": "code",
   "execution_count": 6,
   "id": "d5e8f879-a079-4042-9bf7-f040fc4028cf",
   "metadata": {},
   "outputs": [
    {
     "data": {
      "text/plain": [
       "(143, 9)"
      ]
     },
     "execution_count": 6,
     "metadata": {},
     "output_type": "execute_result"
    }
   ],
   "source": [
    "df.shape"
   ]
  },
  {
   "cell_type": "code",
   "execution_count": 7,
   "id": "0cefc65c-f9d2-4840-b841-ee639067b908",
   "metadata": {},
   "outputs": [
    {
     "data": {
      "text/plain": [
       "Country name                     object\n",
       "score                           float64\n",
       "Log GDP per capita              float64\n",
       "Social support                  float64\n",
       "Healthy life expectancy         float64\n",
       "Freedom to make life choices    float64\n",
       "Generosity                      float64\n",
       "Perceptions of corruption       float64\n",
       "Dystopia + residual             float64\n",
       "dtype: object"
      ]
     },
     "execution_count": 7,
     "metadata": {},
     "output_type": "execute_result"
    }
   ],
   "source": [
    "df.dtypes"
   ]
  },
  {
   "cell_type": "markdown",
   "id": "83a52e7c-c8a2-48af-9956-fdb0cae3397f",
   "metadata": {},
   "source": [
    "<h1>Basic Statistics</h1>"
   ]
  },
  {
   "cell_type": "code",
   "execution_count": 9,
   "id": "05e56cb3-1144-413d-8327-2f9da476d5e1",
   "metadata": {},
   "outputs": [
    {
     "data": {
      "text/plain": [
       "count    143.000000\n",
       "mean       5.527580\n",
       "std        1.170717\n",
       "min        1.721000\n",
       "25%        4.726000\n",
       "50%        5.785000\n",
       "75%        6.416000\n",
       "max        7.741000\n",
       "Name: score, dtype: float64"
      ]
     },
     "execution_count": 9,
     "metadata": {},
     "output_type": "execute_result"
    }
   ],
   "source": [
    "df['score'].describe()"
   ]
  },
  {
   "cell_type": "code",
   "execution_count": 10,
   "id": "abb87579-8efa-4956-a5a2-1d1ffaa16280",
   "metadata": {},
   "outputs": [
    {
     "data": {
      "text/plain": [
       "7.741"
      ]
     },
     "execution_count": 10,
     "metadata": {},
     "output_type": "execute_result"
    }
   ],
   "source": [
    "df['score'].max()"
   ]
  },
  {
   "cell_type": "code",
   "execution_count": 11,
   "id": "5b3bd082-11b3-4d6c-ad16-837ec3a946e2",
   "metadata": {},
   "outputs": [
    {
     "data": {
      "text/plain": [
       "1.721"
      ]
     },
     "execution_count": 11,
     "metadata": {},
     "output_type": "execute_result"
    }
   ],
   "source": [
    "df['score'].min()"
   ]
  },
  {
   "cell_type": "code",
   "execution_count": 12,
   "id": "490a232b-2152-4aa9-bf35-4b12c350a0a0",
   "metadata": {},
   "outputs": [],
   "source": [
    "unhappy_country = df[df['score'] == 1.721]\n",
    "happy_country = df[df['score'] == 7.741]"
   ]
  },
  {
   "cell_type": "code",
   "execution_count": 13,
   "id": "d009ea28-40f7-490a-86e1-867e8e1c6632",
   "metadata": {},
   "outputs": [
    {
     "data": {
      "text/html": [
       "<div>\n",
       "<style scoped>\n",
       "    .dataframe tbody tr th:only-of-type {\n",
       "        vertical-align: middle;\n",
       "    }\n",
       "\n",
       "    .dataframe tbody tr th {\n",
       "        vertical-align: top;\n",
       "    }\n",
       "\n",
       "    .dataframe thead th {\n",
       "        text-align: right;\n",
       "    }\n",
       "</style>\n",
       "<table border=\"1\" class=\"dataframe\">\n",
       "  <thead>\n",
       "    <tr style=\"text-align: right;\">\n",
       "      <th></th>\n",
       "      <th>Country name</th>\n",
       "      <th>score</th>\n",
       "      <th>Log GDP per capita</th>\n",
       "      <th>Social support</th>\n",
       "      <th>Healthy life expectancy</th>\n",
       "      <th>Freedom to make life choices</th>\n",
       "      <th>Generosity</th>\n",
       "      <th>Perceptions of corruption</th>\n",
       "      <th>Dystopia + residual</th>\n",
       "    </tr>\n",
       "  </thead>\n",
       "  <tbody>\n",
       "    <tr>\n",
       "      <th>142</th>\n",
       "      <td>Afghanistan</td>\n",
       "      <td>1.721</td>\n",
       "      <td>0.628</td>\n",
       "      <td>0.0</td>\n",
       "      <td>0.242</td>\n",
       "      <td>0.0</td>\n",
       "      <td>0.091</td>\n",
       "      <td>0.088</td>\n",
       "      <td>0.672</td>\n",
       "    </tr>\n",
       "  </tbody>\n",
       "</table>\n",
       "</div>"
      ],
      "text/plain": [
       "    Country name  score  Log GDP per capita  Social support  \\\n",
       "142  Afghanistan  1.721               0.628             0.0   \n",
       "\n",
       "     Healthy life expectancy  Freedom to make life choices  Generosity  \\\n",
       "142                    0.242                           0.0       0.091   \n",
       "\n",
       "     Perceptions of corruption  Dystopia + residual  \n",
       "142                      0.088                0.672  "
      ]
     },
     "execution_count": 13,
     "metadata": {},
     "output_type": "execute_result"
    }
   ],
   "source": [
    "unhappy_country"
   ]
  },
  {
   "cell_type": "code",
   "execution_count": 14,
   "id": "dcef190e-49b9-44de-bc16-3a2da7eea5aa",
   "metadata": {},
   "outputs": [
    {
     "data": {
      "text/html": [
       "<div>\n",
       "<style scoped>\n",
       "    .dataframe tbody tr th:only-of-type {\n",
       "        vertical-align: middle;\n",
       "    }\n",
       "\n",
       "    .dataframe tbody tr th {\n",
       "        vertical-align: top;\n",
       "    }\n",
       "\n",
       "    .dataframe thead th {\n",
       "        text-align: right;\n",
       "    }\n",
       "</style>\n",
       "<table border=\"1\" class=\"dataframe\">\n",
       "  <thead>\n",
       "    <tr style=\"text-align: right;\">\n",
       "      <th></th>\n",
       "      <th>Country name</th>\n",
       "      <th>score</th>\n",
       "      <th>Log GDP per capita</th>\n",
       "      <th>Social support</th>\n",
       "      <th>Healthy life expectancy</th>\n",
       "      <th>Freedom to make life choices</th>\n",
       "      <th>Generosity</th>\n",
       "      <th>Perceptions of corruption</th>\n",
       "      <th>Dystopia + residual</th>\n",
       "    </tr>\n",
       "  </thead>\n",
       "  <tbody>\n",
       "    <tr>\n",
       "      <th>0</th>\n",
       "      <td>Finland</td>\n",
       "      <td>7.741</td>\n",
       "      <td>1.844</td>\n",
       "      <td>1.572</td>\n",
       "      <td>0.695</td>\n",
       "      <td>0.859</td>\n",
       "      <td>0.142</td>\n",
       "      <td>0.546</td>\n",
       "      <td>2.082</td>\n",
       "    </tr>\n",
       "  </tbody>\n",
       "</table>\n",
       "</div>"
      ],
      "text/plain": [
       "  Country name  score  Log GDP per capita  Social support  \\\n",
       "0      Finland  7.741               1.844           1.572   \n",
       "\n",
       "   Healthy life expectancy  Freedom to make life choices  Generosity  \\\n",
       "0                    0.695                         0.859       0.142   \n",
       "\n",
       "   Perceptions of corruption  Dystopia + residual  \n",
       "0                      0.546                2.082  "
      ]
     },
     "execution_count": 14,
     "metadata": {},
     "output_type": "execute_result"
    }
   ],
   "source": [
    "happy_country"
   ]
  },
  {
   "cell_type": "markdown",
   "id": "9a8e662e-3e4e-4718-8e86-627299475fac",
   "metadata": {},
   "source": [
    "<h1>Missing Values</h1>"
   ]
  },
  {
   "cell_type": "code",
   "execution_count": 16,
   "id": "3224646a-87c7-45c4-b857-88b0025037ae",
   "metadata": {},
   "outputs": [
    {
     "data": {
      "text/plain": [
       "Country name                    0\n",
       "score                           0\n",
       "Log GDP per capita              3\n",
       "Social support                  3\n",
       "Healthy life expectancy         3\n",
       "Freedom to make life choices    3\n",
       "Generosity                      3\n",
       "Perceptions of corruption       3\n",
       "Dystopia + residual             3\n",
       "dtype: int64"
      ]
     },
     "execution_count": 16,
     "metadata": {},
     "output_type": "execute_result"
    }
   ],
   "source": [
    "df.isnull().sum()"
   ]
  },
  {
   "cell_type": "code",
   "execution_count": 17,
   "id": "3beb15b2-b4d7-4bbf-b8da-2d8d4d155fbf",
   "metadata": {},
   "outputs": [],
   "source": [
    "df = df.dropna()"
   ]
  },
  {
   "cell_type": "markdown",
   "id": "b28984d1-7066-4cb3-8b5a-4ba452b6554f",
   "metadata": {},
   "source": [
    "<h1>Filtering & Sorting</h1>"
   ]
  },
  {
   "cell_type": "code",
   "execution_count": 19,
   "id": "da0da5d9-d242-4a6e-bbcc-2f6277dc4cad",
   "metadata": {},
   "outputs": [],
   "source": [
    "greater_score = df[df['score'] >7.5]"
   ]
  },
  {
   "cell_type": "code",
   "execution_count": 20,
   "id": "16d86911-e37c-418e-a34b-b21e243c2e4c",
   "metadata": {},
   "outputs": [
    {
     "data": {
      "text/html": [
       "<div>\n",
       "<style scoped>\n",
       "    .dataframe tbody tr th:only-of-type {\n",
       "        vertical-align: middle;\n",
       "    }\n",
       "\n",
       "    .dataframe tbody tr th {\n",
       "        vertical-align: top;\n",
       "    }\n",
       "\n",
       "    .dataframe thead th {\n",
       "        text-align: right;\n",
       "    }\n",
       "</style>\n",
       "<table border=\"1\" class=\"dataframe\">\n",
       "  <thead>\n",
       "    <tr style=\"text-align: right;\">\n",
       "      <th></th>\n",
       "      <th>Country name</th>\n",
       "      <th>score</th>\n",
       "      <th>Log GDP per capita</th>\n",
       "      <th>Social support</th>\n",
       "      <th>Healthy life expectancy</th>\n",
       "      <th>Freedom to make life choices</th>\n",
       "      <th>Generosity</th>\n",
       "      <th>Perceptions of corruption</th>\n",
       "      <th>Dystopia + residual</th>\n",
       "    </tr>\n",
       "  </thead>\n",
       "  <tbody>\n",
       "    <tr>\n",
       "      <th>0</th>\n",
       "      <td>Finland</td>\n",
       "      <td>7.741</td>\n",
       "      <td>1.844</td>\n",
       "      <td>1.572</td>\n",
       "      <td>0.695</td>\n",
       "      <td>0.859</td>\n",
       "      <td>0.142</td>\n",
       "      <td>0.546</td>\n",
       "      <td>2.082</td>\n",
       "    </tr>\n",
       "    <tr>\n",
       "      <th>1</th>\n",
       "      <td>Denmark</td>\n",
       "      <td>7.583</td>\n",
       "      <td>1.908</td>\n",
       "      <td>1.520</td>\n",
       "      <td>0.699</td>\n",
       "      <td>0.823</td>\n",
       "      <td>0.204</td>\n",
       "      <td>0.548</td>\n",
       "      <td>1.881</td>\n",
       "    </tr>\n",
       "    <tr>\n",
       "      <th>2</th>\n",
       "      <td>Iceland</td>\n",
       "      <td>7.525</td>\n",
       "      <td>1.881</td>\n",
       "      <td>1.617</td>\n",
       "      <td>0.718</td>\n",
       "      <td>0.819</td>\n",
       "      <td>0.258</td>\n",
       "      <td>0.182</td>\n",
       "      <td>2.050</td>\n",
       "    </tr>\n",
       "  </tbody>\n",
       "</table>\n",
       "</div>"
      ],
      "text/plain": [
       "  Country name  score  Log GDP per capita  Social support  \\\n",
       "0      Finland  7.741               1.844           1.572   \n",
       "1      Denmark  7.583               1.908           1.520   \n",
       "2      Iceland  7.525               1.881           1.617   \n",
       "\n",
       "   Healthy life expectancy  Freedom to make life choices  Generosity  \\\n",
       "0                    0.695                         0.859       0.142   \n",
       "1                    0.699                         0.823       0.204   \n",
       "2                    0.718                         0.819       0.258   \n",
       "\n",
       "   Perceptions of corruption  Dystopia + residual  \n",
       "0                      0.546                2.082  \n",
       "1                      0.548                1.881  \n",
       "2                      0.182                2.050  "
      ]
     },
     "execution_count": 20,
     "metadata": {},
     "output_type": "execute_result"
    }
   ],
   "source": [
    "pd.DataFrame(greater_score)"
   ]
  },
  {
   "cell_type": "code",
   "execution_count": 21,
   "id": "99abe93e-ca18-4cf4-9862-428ede9c4f89",
   "metadata": {},
   "outputs": [
    {
     "data": {
      "text/html": [
       "<div>\n",
       "<style scoped>\n",
       "    .dataframe tbody tr th:only-of-type {\n",
       "        vertical-align: middle;\n",
       "    }\n",
       "\n",
       "    .dataframe tbody tr th {\n",
       "        vertical-align: top;\n",
       "    }\n",
       "\n",
       "    .dataframe thead th {\n",
       "        text-align: right;\n",
       "    }\n",
       "</style>\n",
       "<table border=\"1\" class=\"dataframe\">\n",
       "  <thead>\n",
       "    <tr style=\"text-align: right;\">\n",
       "      <th></th>\n",
       "      <th>Country name</th>\n",
       "      <th>score</th>\n",
       "      <th>Log GDP per capita</th>\n",
       "      <th>Social support</th>\n",
       "      <th>Healthy life expectancy</th>\n",
       "      <th>Freedom to make life choices</th>\n",
       "      <th>Generosity</th>\n",
       "      <th>Perceptions of corruption</th>\n",
       "      <th>Dystopia + residual</th>\n",
       "    </tr>\n",
       "  </thead>\n",
       "  <tbody>\n",
       "    <tr>\n",
       "      <th>1</th>\n",
       "      <td>Denmark</td>\n",
       "      <td>7.583</td>\n",
       "      <td>1.908</td>\n",
       "      <td>1.520</td>\n",
       "      <td>0.699</td>\n",
       "      <td>0.823</td>\n",
       "      <td>0.204</td>\n",
       "      <td>0.548</td>\n",
       "      <td>1.881</td>\n",
       "    </tr>\n",
       "    <tr>\n",
       "      <th>2</th>\n",
       "      <td>Iceland</td>\n",
       "      <td>7.525</td>\n",
       "      <td>1.881</td>\n",
       "      <td>1.617</td>\n",
       "      <td>0.718</td>\n",
       "      <td>0.819</td>\n",
       "      <td>0.258</td>\n",
       "      <td>0.182</td>\n",
       "      <td>2.050</td>\n",
       "    </tr>\n",
       "    <tr>\n",
       "      <th>0</th>\n",
       "      <td>Finland</td>\n",
       "      <td>7.741</td>\n",
       "      <td>1.844</td>\n",
       "      <td>1.572</td>\n",
       "      <td>0.695</td>\n",
       "      <td>0.859</td>\n",
       "      <td>0.142</td>\n",
       "      <td>0.546</td>\n",
       "      <td>2.082</td>\n",
       "    </tr>\n",
       "  </tbody>\n",
       "</table>\n",
       "</div>"
      ],
      "text/plain": [
       "  Country name  score  Log GDP per capita  Social support  \\\n",
       "1      Denmark  7.583               1.908           1.520   \n",
       "2      Iceland  7.525               1.881           1.617   \n",
       "0      Finland  7.741               1.844           1.572   \n",
       "\n",
       "   Healthy life expectancy  Freedom to make life choices  Generosity  \\\n",
       "1                    0.699                         0.823       0.204   \n",
       "2                    0.718                         0.819       0.258   \n",
       "0                    0.695                         0.859       0.142   \n",
       "\n",
       "   Perceptions of corruption  Dystopia + residual  \n",
       "1                      0.548                1.881  \n",
       "2                      0.182                2.050  \n",
       "0                      0.546                2.082  "
      ]
     },
     "execution_count": 21,
     "metadata": {},
     "output_type": "execute_result"
    }
   ],
   "source": [
    "greater_score.sort_values(by=['Log GDP per capita'],ascending=False)"
   ]
  },
  {
   "cell_type": "markdown",
   "id": "2dcf8fa7-4a65-4212-af92-3cc23c68b720",
   "metadata": {},
   "source": [
    "<h1>Adding New Column</h1>"
   ]
  },
  {
   "cell_type": "code",
   "execution_count": 23,
   "id": "25b88af6-910f-4b87-af03-e47f82656570",
   "metadata": {},
   "outputs": [],
   "source": [
    "def happy_column(row):\n",
    "    score = row['score']\n",
    "    if(score<4):\n",
    "        Happiness_category = 'Low'\n",
    "    elif(score>4 and score<6):\n",
    "        Happiness_category = 'Medium'\n",
    "    else:\n",
    "        Happiness_category = 'High'\n",
    "\n",
    "    return Happiness_category\n",
    "\n",
    "df['Happiness_category'] = df.apply(lambda row: happy_column(row), axis=1)"
   ]
  },
  {
   "cell_type": "code",
   "execution_count": 24,
   "id": "d172051e-3bc8-450a-bfdc-4a687d305124",
   "metadata": {},
   "outputs": [
    {
     "data": {
      "text/html": [
       "<div>\n",
       "<style scoped>\n",
       "    .dataframe tbody tr th:only-of-type {\n",
       "        vertical-align: middle;\n",
       "    }\n",
       "\n",
       "    .dataframe tbody tr th {\n",
       "        vertical-align: top;\n",
       "    }\n",
       "\n",
       "    .dataframe thead th {\n",
       "        text-align: right;\n",
       "    }\n",
       "</style>\n",
       "<table border=\"1\" class=\"dataframe\">\n",
       "  <thead>\n",
       "    <tr style=\"text-align: right;\">\n",
       "      <th></th>\n",
       "      <th>Country name</th>\n",
       "      <th>score</th>\n",
       "      <th>Log GDP per capita</th>\n",
       "      <th>Social support</th>\n",
       "      <th>Healthy life expectancy</th>\n",
       "      <th>Freedom to make life choices</th>\n",
       "      <th>Generosity</th>\n",
       "      <th>Perceptions of corruption</th>\n",
       "      <th>Dystopia + residual</th>\n",
       "      <th>Happiness_category</th>\n",
       "    </tr>\n",
       "  </thead>\n",
       "  <tbody>\n",
       "    <tr>\n",
       "      <th>0</th>\n",
       "      <td>Finland</td>\n",
       "      <td>7.741</td>\n",
       "      <td>1.844</td>\n",
       "      <td>1.572</td>\n",
       "      <td>0.695</td>\n",
       "      <td>0.859</td>\n",
       "      <td>0.142</td>\n",
       "      <td>0.546</td>\n",
       "      <td>2.082</td>\n",
       "      <td>High</td>\n",
       "    </tr>\n",
       "    <tr>\n",
       "      <th>1</th>\n",
       "      <td>Denmark</td>\n",
       "      <td>7.583</td>\n",
       "      <td>1.908</td>\n",
       "      <td>1.520</td>\n",
       "      <td>0.699</td>\n",
       "      <td>0.823</td>\n",
       "      <td>0.204</td>\n",
       "      <td>0.548</td>\n",
       "      <td>1.881</td>\n",
       "      <td>High</td>\n",
       "    </tr>\n",
       "    <tr>\n",
       "      <th>2</th>\n",
       "      <td>Iceland</td>\n",
       "      <td>7.525</td>\n",
       "      <td>1.881</td>\n",
       "      <td>1.617</td>\n",
       "      <td>0.718</td>\n",
       "      <td>0.819</td>\n",
       "      <td>0.258</td>\n",
       "      <td>0.182</td>\n",
       "      <td>2.050</td>\n",
       "      <td>High</td>\n",
       "    </tr>\n",
       "    <tr>\n",
       "      <th>3</th>\n",
       "      <td>Sweden</td>\n",
       "      <td>7.344</td>\n",
       "      <td>1.878</td>\n",
       "      <td>1.501</td>\n",
       "      <td>0.724</td>\n",
       "      <td>0.838</td>\n",
       "      <td>0.221</td>\n",
       "      <td>0.524</td>\n",
       "      <td>1.658</td>\n",
       "      <td>High</td>\n",
       "    </tr>\n",
       "    <tr>\n",
       "      <th>4</th>\n",
       "      <td>Israel</td>\n",
       "      <td>7.341</td>\n",
       "      <td>1.803</td>\n",
       "      <td>1.513</td>\n",
       "      <td>0.740</td>\n",
       "      <td>0.641</td>\n",
       "      <td>0.153</td>\n",
       "      <td>0.193</td>\n",
       "      <td>2.298</td>\n",
       "      <td>High</td>\n",
       "    </tr>\n",
       "    <tr>\n",
       "      <th>...</th>\n",
       "      <td>...</td>\n",
       "      <td>...</td>\n",
       "      <td>...</td>\n",
       "      <td>...</td>\n",
       "      <td>...</td>\n",
       "      <td>...</td>\n",
       "      <td>...</td>\n",
       "      <td>...</td>\n",
       "      <td>...</td>\n",
       "      <td>...</td>\n",
       "    </tr>\n",
       "    <tr>\n",
       "      <th>138</th>\n",
       "      <td>Congo (Kinshasa)</td>\n",
       "      <td>3.295</td>\n",
       "      <td>0.534</td>\n",
       "      <td>0.665</td>\n",
       "      <td>0.262</td>\n",
       "      <td>0.473</td>\n",
       "      <td>0.189</td>\n",
       "      <td>0.072</td>\n",
       "      <td>1.102</td>\n",
       "      <td>Low</td>\n",
       "    </tr>\n",
       "    <tr>\n",
       "      <th>139</th>\n",
       "      <td>Sierra Leone</td>\n",
       "      <td>3.245</td>\n",
       "      <td>0.654</td>\n",
       "      <td>0.566</td>\n",
       "      <td>0.253</td>\n",
       "      <td>0.469</td>\n",
       "      <td>0.181</td>\n",
       "      <td>0.053</td>\n",
       "      <td>1.068</td>\n",
       "      <td>Low</td>\n",
       "    </tr>\n",
       "    <tr>\n",
       "      <th>140</th>\n",
       "      <td>Lesotho</td>\n",
       "      <td>3.186</td>\n",
       "      <td>0.771</td>\n",
       "      <td>0.851</td>\n",
       "      <td>0.000</td>\n",
       "      <td>0.523</td>\n",
       "      <td>0.082</td>\n",
       "      <td>0.085</td>\n",
       "      <td>0.875</td>\n",
       "      <td>Low</td>\n",
       "    </tr>\n",
       "    <tr>\n",
       "      <th>141</th>\n",
       "      <td>Lebanon</td>\n",
       "      <td>2.707</td>\n",
       "      <td>1.377</td>\n",
       "      <td>0.577</td>\n",
       "      <td>0.556</td>\n",
       "      <td>0.173</td>\n",
       "      <td>0.068</td>\n",
       "      <td>0.029</td>\n",
       "      <td>-0.073</td>\n",
       "      <td>Low</td>\n",
       "    </tr>\n",
       "    <tr>\n",
       "      <th>142</th>\n",
       "      <td>Afghanistan</td>\n",
       "      <td>1.721</td>\n",
       "      <td>0.628</td>\n",
       "      <td>0.000</td>\n",
       "      <td>0.242</td>\n",
       "      <td>0.000</td>\n",
       "      <td>0.091</td>\n",
       "      <td>0.088</td>\n",
       "      <td>0.672</td>\n",
       "      <td>Low</td>\n",
       "    </tr>\n",
       "  </tbody>\n",
       "</table>\n",
       "<p>140 rows × 10 columns</p>\n",
       "</div>"
      ],
      "text/plain": [
       "         Country name  score  Log GDP per capita  Social support  \\\n",
       "0             Finland  7.741               1.844           1.572   \n",
       "1             Denmark  7.583               1.908           1.520   \n",
       "2             Iceland  7.525               1.881           1.617   \n",
       "3              Sweden  7.344               1.878           1.501   \n",
       "4              Israel  7.341               1.803           1.513   \n",
       "..                ...    ...                 ...             ...   \n",
       "138  Congo (Kinshasa)  3.295               0.534           0.665   \n",
       "139      Sierra Leone  3.245               0.654           0.566   \n",
       "140           Lesotho  3.186               0.771           0.851   \n",
       "141           Lebanon  2.707               1.377           0.577   \n",
       "142       Afghanistan  1.721               0.628           0.000   \n",
       "\n",
       "     Healthy life expectancy  Freedom to make life choices  Generosity  \\\n",
       "0                      0.695                         0.859       0.142   \n",
       "1                      0.699                         0.823       0.204   \n",
       "2                      0.718                         0.819       0.258   \n",
       "3                      0.724                         0.838       0.221   \n",
       "4                      0.740                         0.641       0.153   \n",
       "..                       ...                           ...         ...   \n",
       "138                    0.262                         0.473       0.189   \n",
       "139                    0.253                         0.469       0.181   \n",
       "140                    0.000                         0.523       0.082   \n",
       "141                    0.556                         0.173       0.068   \n",
       "142                    0.242                         0.000       0.091   \n",
       "\n",
       "     Perceptions of corruption  Dystopia + residual Happiness_category  \n",
       "0                        0.546                2.082               High  \n",
       "1                        0.548                1.881               High  \n",
       "2                        0.182                2.050               High  \n",
       "3                        0.524                1.658               High  \n",
       "4                        0.193                2.298               High  \n",
       "..                         ...                  ...                ...  \n",
       "138                      0.072                1.102                Low  \n",
       "139                      0.053                1.068                Low  \n",
       "140                      0.085                0.875                Low  \n",
       "141                      0.029               -0.073                Low  \n",
       "142                      0.088                0.672                Low  \n",
       "\n",
       "[140 rows x 10 columns]"
      ]
     },
     "execution_count": 24,
     "metadata": {},
     "output_type": "execute_result"
    }
   ],
   "source": [
    "df"
   ]
  },
  {
   "cell_type": "markdown",
   "id": "62753d72-bc13-4408-98d8-97a7c33e2fac",
   "metadata": {},
   "source": [
    "<h1>2. Data Visualization</h1>"
   ]
  },
  {
   "cell_type": "code",
   "execution_count": 26,
   "id": "fccc0766-521c-4259-943a-e48f6049ab69",
   "metadata": {},
   "outputs": [
    {
     "data": {
      "text/html": [
       "<div>\n",
       "<style scoped>\n",
       "    .dataframe tbody tr th:only-of-type {\n",
       "        vertical-align: middle;\n",
       "    }\n",
       "\n",
       "    .dataframe tbody tr th {\n",
       "        vertical-align: top;\n",
       "    }\n",
       "\n",
       "    .dataframe thead th {\n",
       "        text-align: right;\n",
       "    }\n",
       "</style>\n",
       "<table border=\"1\" class=\"dataframe\">\n",
       "  <thead>\n",
       "    <tr style=\"text-align: right;\">\n",
       "      <th></th>\n",
       "      <th>Country name</th>\n",
       "      <th>score</th>\n",
       "    </tr>\n",
       "  </thead>\n",
       "  <tbody>\n",
       "    <tr>\n",
       "      <th>39</th>\n",
       "      <td>Finland</td>\n",
       "      <td>7.741</td>\n",
       "    </tr>\n",
       "    <tr>\n",
       "      <th>31</th>\n",
       "      <td>Denmark</td>\n",
       "      <td>7.583</td>\n",
       "    </tr>\n",
       "    <tr>\n",
       "      <th>52</th>\n",
       "      <td>Iceland</td>\n",
       "      <td>7.525</td>\n",
       "    </tr>\n",
       "    <tr>\n",
       "      <th>120</th>\n",
       "      <td>Sweden</td>\n",
       "      <td>7.344</td>\n",
       "    </tr>\n",
       "    <tr>\n",
       "      <th>58</th>\n",
       "      <td>Israel</td>\n",
       "      <td>7.341</td>\n",
       "    </tr>\n",
       "    <tr>\n",
       "      <th>93</th>\n",
       "      <td>Netherlands</td>\n",
       "      <td>7.319</td>\n",
       "    </tr>\n",
       "    <tr>\n",
       "      <th>99</th>\n",
       "      <td>Norway</td>\n",
       "      <td>7.302</td>\n",
       "    </tr>\n",
       "    <tr>\n",
       "      <th>76</th>\n",
       "      <td>Luxembourg</td>\n",
       "      <td>7.122</td>\n",
       "    </tr>\n",
       "    <tr>\n",
       "      <th>121</th>\n",
       "      <td>Switzerland</td>\n",
       "      <td>7.060</td>\n",
       "    </tr>\n",
       "    <tr>\n",
       "      <th>5</th>\n",
       "      <td>Australia</td>\n",
       "      <td>7.057</td>\n",
       "    </tr>\n",
       "  </tbody>\n",
       "</table>\n",
       "</div>"
      ],
      "text/plain": [
       "    Country name  score\n",
       "39       Finland  7.741\n",
       "31       Denmark  7.583\n",
       "52       Iceland  7.525\n",
       "120       Sweden  7.344\n",
       "58        Israel  7.341\n",
       "93   Netherlands  7.319\n",
       "99        Norway  7.302\n",
       "76    Luxembourg  7.122\n",
       "121  Switzerland  7.060\n",
       "5      Australia  7.057"
      ]
     },
     "execution_count": 26,
     "metadata": {},
     "output_type": "execute_result"
    }
   ],
   "source": [
    "grped_c_happy = (df.groupby('Country name')['score'].mean().reset_index()).sort_values(by='score',ascending=False).head(10)\n",
    "\n",
    "grped_c_happy"
   ]
  },
  {
   "cell_type": "code",
   "execution_count": 27,
   "id": "140b966b-f4be-40a3-a4bd-97e6e444b982",
   "metadata": {},
   "outputs": [
    {
     "data": {
      "text/plain": [
       "Text(0.5, 1.0, 'The top 10 happiest countries by Score using a bar chart')"
      ]
     },
     "execution_count": 27,
     "metadata": {},
     "output_type": "execute_result"
    },
    {
     "data": {
      "image/png": "[encoded data removed]",
      "text/plain": [
       "<Figure size 1200x600 with 1 Axes>"
      ]
     },
     "metadata": {},
     "output_type": "display_data"
    }
   ],
   "source": [
    "plt.figure(figsize=(12,6))\n",
    "sns.barplot(data=grped_c_happy, x='Country name', y='score')\n",
    "plt.title('The top 10 happiest countries by Score using a bar chart')"
   ]
  },
  {
   "cell_type": "code",
   "execution_count": 28,
   "id": "38d8438c-9830-4692-9a3f-73b27e1a740f",
   "metadata": {},
   "outputs": [
    {
     "data": {
      "text/html": [
       "<div>\n",
       "<style scoped>\n",
       "    .dataframe tbody tr th:only-of-type {\n",
       "        vertical-align: middle;\n",
       "    }\n",
       "\n",
       "    .dataframe tbody tr th {\n",
       "        vertical-align: top;\n",
       "    }\n",
       "\n",
       "    .dataframe thead th {\n",
       "        text-align: right;\n",
       "    }\n",
       "</style>\n",
       "<table border=\"1\" class=\"dataframe\">\n",
       "  <thead>\n",
       "    <tr style=\"text-align: right;\">\n",
       "      <th></th>\n",
       "      <th>Country name</th>\n",
       "      <th>score</th>\n",
       "    </tr>\n",
       "  </thead>\n",
       "  <tbody>\n",
       "    <tr>\n",
       "      <th>0</th>\n",
       "      <td>Afghanistan</td>\n",
       "      <td>1.721</td>\n",
       "    </tr>\n",
       "    <tr>\n",
       "      <th>71</th>\n",
       "      <td>Lebanon</td>\n",
       "      <td>2.707</td>\n",
       "    </tr>\n",
       "    <tr>\n",
       "      <th>72</th>\n",
       "      <td>Lesotho</td>\n",
       "      <td>3.186</td>\n",
       "    </tr>\n",
       "    <tr>\n",
       "      <th>112</th>\n",
       "      <td>Sierra Leone</td>\n",
       "      <td>3.245</td>\n",
       "    </tr>\n",
       "    <tr>\n",
       "      <th>26</th>\n",
       "      <td>Congo (Kinshasa)</td>\n",
       "      <td>3.295</td>\n",
       "    </tr>\n",
       "    <tr>\n",
       "      <th>139</th>\n",
       "      <td>Zimbabwe</td>\n",
       "      <td>3.341</td>\n",
       "    </tr>\n",
       "    <tr>\n",
       "      <th>13</th>\n",
       "      <td>Botswana</td>\n",
       "      <td>3.383</td>\n",
       "    </tr>\n",
       "    <tr>\n",
       "      <th>78</th>\n",
       "      <td>Malawi</td>\n",
       "      <td>3.421</td>\n",
       "    </tr>\n",
       "    <tr>\n",
       "      <th>138</th>\n",
       "      <td>Zambia</td>\n",
       "      <td>3.502</td>\n",
       "    </tr>\n",
       "    <tr>\n",
       "      <th>37</th>\n",
       "      <td>Eswatini</td>\n",
       "      <td>3.502</td>\n",
       "    </tr>\n",
       "  </tbody>\n",
       "</table>\n",
       "</div>"
      ],
      "text/plain": [
       "         Country name  score\n",
       "0         Afghanistan  1.721\n",
       "71            Lebanon  2.707\n",
       "72            Lesotho  3.186\n",
       "112      Sierra Leone  3.245\n",
       "26   Congo (Kinshasa)  3.295\n",
       "139          Zimbabwe  3.341\n",
       "13           Botswana  3.383\n",
       "78             Malawi  3.421\n",
       "138            Zambia  3.502\n",
       "37           Eswatini  3.502"
      ]
     },
     "execution_count": 28,
     "metadata": {},
     "output_type": "execute_result"
    }
   ],
   "source": [
    "grped_c_sad = (df.groupby('Country name')['score'].mean().reset_index()).sort_values(by='score',ascending=True).head(10)\n",
    "\n",
    "grped_c_sad"
   ]
  },
  {
   "cell_type": "code",
   "execution_count": 29,
   "id": "f953df08-3fb8-4b2b-ac1e-b1277327b93d",
   "metadata": {},
   "outputs": [
    {
     "data": {
      "text/plain": [
       "Text(0.5, 1.0, 'The top 10 saddest countries by Score using a bar chart')"
      ]
     },
     "execution_count": 29,
     "metadata": {},
     "output_type": "execute_result"
    },
    {
     "data": {
      "image/png": "[encoded data removed]",
      "text/plain": [
       "<Figure size 1200x600 with 1 Axes>"
      ]
     },
     "metadata": {},
     "output_type": "display_data"
    }
   ],
   "source": [
    "plt.figure(figsize=(12,6))\n",
    "sns.lineplot(data=grped_c_sad, x='Country name', y='score')\n",
    "plt.title('The top 10 saddest countries by Score using a bar chart')"
   ]
  },
  {
   "cell_type": "code",
   "execution_count": 30,
   "id": "0a6e3a4d-5743-44dd-9b31-fa1148221385",
   "metadata": {},
   "outputs": [
    {
     "data": {
      "text/plain": [
       "<Axes: xlabel='score', ylabel='Count'>"
      ]
     },
     "execution_count": 30,
     "metadata": {},
     "output_type": "execute_result"
    },
    {
     "data": {
      "image/png": "[encoded data removed]",
      "text/plain": [
       "<Figure size 640x480 with 1 Axes>"
      ]
     },
     "metadata": {},
     "output_type": "display_data"
    }
   ],
   "source": [
    "sns.histplot(data=df,x='score')"
   ]
  },
  {
   "cell_type": "code",
   "execution_count": 31,
   "id": "55f903c5-c10c-44f6-9f7b-6a77e73a75f3",
   "metadata": {},
   "outputs": [
    {
     "data": {
      "text/plain": [
       "<Axes: xlabel='Log GDP per capita', ylabel='score'>"
      ]
     },
     "execution_count": 31,
     "metadata": {},
     "output_type": "execute_result"
    },
    {
     "data": {
      "image/png": "[encoded data removed]",
      "text/plain": [
       "<Figure size 640x480 with 1 Axes>"
      ]
     },
     "metadata": {},
     "output_type": "display_data"
    }
   ],
   "source": [
    "sns.scatterplot(data=df,x='Log GDP per capita',y='score')"
   ]
  },
  {
   "cell_type": "markdown",
   "id": "01d80978-912b-4051-8529-b75958a789aa",
   "metadata": {},
   "source": [
    "<h1>Problem 2</h1>"
   ]
  },
  {
   "cell_type": "markdown",
   "id": "b74f87d9-f574-463a-9643-483cc913a9da",
   "metadata": {},
   "source": [
    "<h3>Task 1</h3>"
   ]
  },
  {
   "cell_type": "code",
   "execution_count": 34,
   "id": "f925cebb-116e-4e34-be41-cc08de3c6cae",
   "metadata": {},
   "outputs": [],
   "source": [
    "south_asian_countries = [\"Afghanistan\", \"Bangladesh\", \"Bhutan\", \"India\", \"Maldives\", \"Nepal\", \"Pakistan\", \"Sri Lanka\"]\n",
    "\n",
    "def filter_country(lists):\n",
    "    new_df = pd.DataFrame()\n",
    "    for i in lists:\n",
    "        if i in df['Country name'].values: \n",
    "            new_df = pd.concat([new_df, df[df['Country name'] == i]]) \n",
    "\n",
    "    return new_df\n",
    "\n",
    "filtered_df = filter_country(south_asian_countries)"
   ]
  },
  {
   "cell_type": "code",
   "execution_count": 35,
   "id": "8da52cfa-a3e4-4a2f-a97e-d0304b31ef8b",
   "metadata": {},
   "outputs": [],
   "source": [
    "filtered_df.to_csv('South_asian_countries.csv', index=False)"
   ]
  },
  {
   "cell_type": "markdown",
   "id": "d1f9ba0a-92a1-4ccd-a6af-763165148bb2",
   "metadata": {},
   "source": [
    "<h3>Task 2</h3>"
   ]
  },
  {
   "cell_type": "code",
   "execution_count": 37,
   "id": "ce48e81e-240f-46bd-a79f-db9ce849c248",
   "metadata": {},
   "outputs": [],
   "source": [
    "south_asian = pd.read_csv('South_asian_countries.csv')"
   ]
  },
  {
   "cell_type": "code",
   "execution_count": 38,
   "id": "4c4193fd-fcd2-411c-9a65-cca9c9b6f013",
   "metadata": {},
   "outputs": [
    {
     "data": {
      "text/html": [
       "<div>\n",
       "<style scoped>\n",
       "    .dataframe tbody tr th:only-of-type {\n",
       "        vertical-align: middle;\n",
       "    }\n",
       "\n",
       "    .dataframe tbody tr th {\n",
       "        vertical-align: top;\n",
       "    }\n",
       "\n",
       "    .dataframe thead th {\n",
       "        text-align: right;\n",
       "    }\n",
       "</style>\n",
       "<table border=\"1\" class=\"dataframe\">\n",
       "  <thead>\n",
       "    <tr style=\"text-align: right;\">\n",
       "      <th></th>\n",
       "      <th>Country name</th>\n",
       "      <th>score</th>\n",
       "      <th>Log GDP per capita</th>\n",
       "      <th>Social support</th>\n",
       "      <th>Healthy life expectancy</th>\n",
       "      <th>Freedom to make life choices</th>\n",
       "      <th>Generosity</th>\n",
       "      <th>Perceptions of corruption</th>\n",
       "      <th>Dystopia + residual</th>\n",
       "      <th>Happiness_category</th>\n",
       "    </tr>\n",
       "  </thead>\n",
       "  <tbody>\n",
       "    <tr>\n",
       "      <th>0</th>\n",
       "      <td>Afghanistan</td>\n",
       "      <td>1.721</td>\n",
       "      <td>0.628</td>\n",
       "      <td>0.000</td>\n",
       "      <td>0.242</td>\n",
       "      <td>0.000</td>\n",
       "      <td>0.091</td>\n",
       "      <td>0.088</td>\n",
       "      <td>0.672</td>\n",
       "      <td>Low</td>\n",
       "    </tr>\n",
       "    <tr>\n",
       "      <th>1</th>\n",
       "      <td>Bangladesh</td>\n",
       "      <td>3.886</td>\n",
       "      <td>1.122</td>\n",
       "      <td>0.249</td>\n",
       "      <td>0.513</td>\n",
       "      <td>0.775</td>\n",
       "      <td>0.140</td>\n",
       "      <td>0.167</td>\n",
       "      <td>0.919</td>\n",
       "      <td>Low</td>\n",
       "    </tr>\n",
       "    <tr>\n",
       "      <th>2</th>\n",
       "      <td>India</td>\n",
       "      <td>4.054</td>\n",
       "      <td>1.166</td>\n",
       "      <td>0.653</td>\n",
       "      <td>0.417</td>\n",
       "      <td>0.767</td>\n",
       "      <td>0.174</td>\n",
       "      <td>0.122</td>\n",
       "      <td>0.756</td>\n",
       "      <td>Medium</td>\n",
       "    </tr>\n",
       "    <tr>\n",
       "      <th>3</th>\n",
       "      <td>Nepal</td>\n",
       "      <td>5.158</td>\n",
       "      <td>0.965</td>\n",
       "      <td>0.990</td>\n",
       "      <td>0.443</td>\n",
       "      <td>0.653</td>\n",
       "      <td>0.209</td>\n",
       "      <td>0.115</td>\n",
       "      <td>1.783</td>\n",
       "      <td>Medium</td>\n",
       "    </tr>\n",
       "    <tr>\n",
       "      <th>4</th>\n",
       "      <td>Pakistan</td>\n",
       "      <td>4.657</td>\n",
       "      <td>1.069</td>\n",
       "      <td>0.600</td>\n",
       "      <td>0.321</td>\n",
       "      <td>0.542</td>\n",
       "      <td>0.144</td>\n",
       "      <td>0.074</td>\n",
       "      <td>1.907</td>\n",
       "      <td>Medium</td>\n",
       "    </tr>\n",
       "    <tr>\n",
       "      <th>5</th>\n",
       "      <td>Sri Lanka</td>\n",
       "      <td>3.898</td>\n",
       "      <td>1.361</td>\n",
       "      <td>1.179</td>\n",
       "      <td>0.586</td>\n",
       "      <td>0.583</td>\n",
       "      <td>0.144</td>\n",
       "      <td>0.031</td>\n",
       "      <td>0.014</td>\n",
       "      <td>Low</td>\n",
       "    </tr>\n",
       "  </tbody>\n",
       "</table>\n",
       "</div>"
      ],
      "text/plain": [
       "  Country name  score  Log GDP per capita  Social support  \\\n",
       "0  Afghanistan  1.721               0.628           0.000   \n",
       "1   Bangladesh  3.886               1.122           0.249   \n",
       "2        India  4.054               1.166           0.653   \n",
       "3        Nepal  5.158               0.965           0.990   \n",
       "4     Pakistan  4.657               1.069           0.600   \n",
       "5    Sri Lanka  3.898               1.361           1.179   \n",
       "\n",
       "   Healthy life expectancy  Freedom to make life choices  Generosity  \\\n",
       "0                    0.242                         0.000       0.091   \n",
       "1                    0.513                         0.775       0.140   \n",
       "2                    0.417                         0.767       0.174   \n",
       "3                    0.443                         0.653       0.209   \n",
       "4                    0.321                         0.542       0.144   \n",
       "5                    0.586                         0.583       0.144   \n",
       "\n",
       "   Perceptions of corruption  Dystopia + residual Happiness_category  \n",
       "0                      0.088                0.672                Low  \n",
       "1                      0.167                0.919                Low  \n",
       "2                      0.122                0.756             Medium  \n",
       "3                      0.115                1.783             Medium  \n",
       "4                      0.074                1.907             Medium  \n",
       "5                      0.031                0.014                Low  "
      ]
     },
     "execution_count": 38,
     "metadata": {},
     "output_type": "execute_result"
    }
   ],
   "source": [
    "south_asian"
   ]
  },
  {
   "cell_type": "code",
   "execution_count": 39,
   "id": "282025f0-f717-4107-ba5f-6dcf133739dc",
   "metadata": {},
   "outputs": [],
   "source": [
    "south_asian['Composite_Score'] = 0.40 * south_asian['Log GDP per capita'] + 0.30 * south_asian['Social support'] + 0.30 * south_asian['Healthy life expectancy']"
   ]
  },
  {
   "cell_type": "code",
   "execution_count": 40,
   "id": "938ae960-5ea5-4522-a0c4-84ae99bcea1a",
   "metadata": {},
   "outputs": [
    {
     "data": {
      "text/html": [
       "<div>\n",
       "<style scoped>\n",
       "    .dataframe tbody tr th:only-of-type {\n",
       "        vertical-align: middle;\n",
       "    }\n",
       "\n",
       "    .dataframe tbody tr th {\n",
       "        vertical-align: top;\n",
       "    }\n",
       "\n",
       "    .dataframe thead th {\n",
       "        text-align: right;\n",
       "    }\n",
       "</style>\n",
       "<table border=\"1\" class=\"dataframe\">\n",
       "  <thead>\n",
       "    <tr style=\"text-align: right;\">\n",
       "      <th></th>\n",
       "      <th>Country name</th>\n",
       "      <th>score</th>\n",
       "      <th>Log GDP per capita</th>\n",
       "      <th>Social support</th>\n",
       "      <th>Healthy life expectancy</th>\n",
       "      <th>Freedom to make life choices</th>\n",
       "      <th>Generosity</th>\n",
       "      <th>Perceptions of corruption</th>\n",
       "      <th>Dystopia + residual</th>\n",
       "      <th>Happiness_category</th>\n",
       "      <th>Composite_Score</th>\n",
       "    </tr>\n",
       "  </thead>\n",
       "  <tbody>\n",
       "    <tr>\n",
       "      <th>5</th>\n",
       "      <td>Sri Lanka</td>\n",
       "      <td>3.898</td>\n",
       "      <td>1.361</td>\n",
       "      <td>1.179</td>\n",
       "      <td>0.586</td>\n",
       "      <td>0.583</td>\n",
       "      <td>0.144</td>\n",
       "      <td>0.031</td>\n",
       "      <td>0.014</td>\n",
       "      <td>Low</td>\n",
       "      <td>1.0739</td>\n",
       "    </tr>\n",
       "    <tr>\n",
       "      <th>3</th>\n",
       "      <td>Nepal</td>\n",
       "      <td>5.158</td>\n",
       "      <td>0.965</td>\n",
       "      <td>0.990</td>\n",
       "      <td>0.443</td>\n",
       "      <td>0.653</td>\n",
       "      <td>0.209</td>\n",
       "      <td>0.115</td>\n",
       "      <td>1.783</td>\n",
       "      <td>Medium</td>\n",
       "      <td>0.8159</td>\n",
       "    </tr>\n",
       "    <tr>\n",
       "      <th>2</th>\n",
       "      <td>India</td>\n",
       "      <td>4.054</td>\n",
       "      <td>1.166</td>\n",
       "      <td>0.653</td>\n",
       "      <td>0.417</td>\n",
       "      <td>0.767</td>\n",
       "      <td>0.174</td>\n",
       "      <td>0.122</td>\n",
       "      <td>0.756</td>\n",
       "      <td>Medium</td>\n",
       "      <td>0.7874</td>\n",
       "    </tr>\n",
       "    <tr>\n",
       "      <th>4</th>\n",
       "      <td>Pakistan</td>\n",
       "      <td>4.657</td>\n",
       "      <td>1.069</td>\n",
       "      <td>0.600</td>\n",
       "      <td>0.321</td>\n",
       "      <td>0.542</td>\n",
       "      <td>0.144</td>\n",
       "      <td>0.074</td>\n",
       "      <td>1.907</td>\n",
       "      <td>Medium</td>\n",
       "      <td>0.7039</td>\n",
       "    </tr>\n",
       "    <tr>\n",
       "      <th>1</th>\n",
       "      <td>Bangladesh</td>\n",
       "      <td>3.886</td>\n",
       "      <td>1.122</td>\n",
       "      <td>0.249</td>\n",
       "      <td>0.513</td>\n",
       "      <td>0.775</td>\n",
       "      <td>0.140</td>\n",
       "      <td>0.167</td>\n",
       "      <td>0.919</td>\n",
       "      <td>Low</td>\n",
       "      <td>0.6774</td>\n",
       "    </tr>\n",
       "    <tr>\n",
       "      <th>0</th>\n",
       "      <td>Afghanistan</td>\n",
       "      <td>1.721</td>\n",
       "      <td>0.628</td>\n",
       "      <td>0.000</td>\n",
       "      <td>0.242</td>\n",
       "      <td>0.000</td>\n",
       "      <td>0.091</td>\n",
       "      <td>0.088</td>\n",
       "      <td>0.672</td>\n",
       "      <td>Low</td>\n",
       "      <td>0.3238</td>\n",
       "    </tr>\n",
       "  </tbody>\n",
       "</table>\n",
       "</div>"
      ],
      "text/plain": [
       "  Country name  score  Log GDP per capita  Social support  \\\n",
       "5    Sri Lanka  3.898               1.361           1.179   \n",
       "3        Nepal  5.158               0.965           0.990   \n",
       "2        India  4.054               1.166           0.653   \n",
       "4     Pakistan  4.657               1.069           0.600   \n",
       "1   Bangladesh  3.886               1.122           0.249   \n",
       "0  Afghanistan  1.721               0.628           0.000   \n",
       "\n",
       "   Healthy life expectancy  Freedom to make life choices  Generosity  \\\n",
       "5                    0.586                         0.583       0.144   \n",
       "3                    0.443                         0.653       0.209   \n",
       "2                    0.417                         0.767       0.174   \n",
       "4                    0.321                         0.542       0.144   \n",
       "1                    0.513                         0.775       0.140   \n",
       "0                    0.242                         0.000       0.091   \n",
       "\n",
       "   Perceptions of corruption  Dystopia + residual Happiness_category  \\\n",
       "5                      0.031                0.014                Low   \n",
       "3                      0.115                1.783             Medium   \n",
       "2                      0.122                0.756             Medium   \n",
       "4                      0.074                1.907             Medium   \n",
       "1                      0.167                0.919                Low   \n",
       "0                      0.088                0.672                Low   \n",
       "\n",
       "   Composite_Score  \n",
       "5           1.0739  \n",
       "3           0.8159  \n",
       "2           0.7874  \n",
       "4           0.7039  \n",
       "1           0.6774  \n",
       "0           0.3238  "
      ]
     },
     "execution_count": 40,
     "metadata": {},
     "output_type": "execute_result"
    }
   ],
   "source": [
    "south_asian.sort_values(by='Composite_Score',ascending=False)"
   ]
  },
  {
   "cell_type": "code",
   "execution_count": 41,
   "id": "516a820d-5fc5-40ce-bc35-642d1ab876a8",
   "metadata": {},
   "outputs": [
    {
     "data": {
      "text/plain": [
       "<BarContainer object of 6 artists>"
      ]
     },
     "execution_count": 41,
     "metadata": {},
     "output_type": "execute_result"
    },
    {
     "data": {
      "image/png": "[encoded data removed]",
      "text/plain": [
       "<Figure size 640x480 with 1 Axes>"
      ]
     },
     "metadata": {},
     "output_type": "display_data"
    }
   ],
   "source": [
    "comp_sc = (south_asian.groupby('Country name')['Composite_Score'].mean().reset_index()).sort_values(by='Composite_Score',ascending=True)\n",
    "plt.barh(comp_sc['Country name'],comp_sc['Composite_Score'] ,height=0.7)"
   ]
  },
  {
   "cell_type": "code",
   "execution_count": 42,
   "id": "fffba58e-aec7-47c2-8780-4152b11ba466",
   "metadata": {},
   "outputs": [
    {
     "data": {
      "text/plain": [
       "<Axes: xlabel='Country name', ylabel='score'>"
      ]
     },
     "execution_count": 42,
     "metadata": {},
     "output_type": "execute_result"
    },
    {
     "data": {
      "image/png": "[encoded data removed]",
      "text/plain": [
       "<Figure size 1200x600 with 1 Axes>"
      ]
     },
     "metadata": {},
     "output_type": "display_data"
    }
   ],
   "source": [
    "plt.figure(figsize=(12,6))\n",
    "sns.barplot(data=south_asian,x='Country name',y='score')"
   ]
  },
  {
   "cell_type": "markdown",
   "id": "1b850976-2bea-4212-bcdd-0cbf53725f18",
   "metadata": {},
   "source": [
    "<h3>Task 3</h3>"
   ]
  },
  {
   "cell_type": "code",
   "execution_count": 44,
   "id": "ef447eb5-5d68-47b0-a587-4a1b779d2a50",
   "metadata": {},
   "outputs": [
    {
     "data": {
      "text/plain": [
       "<Axes: xlabel='Log GDP per capita', ylabel='score'>"
      ]
     },
     "execution_count": 44,
     "metadata": {},
     "output_type": "execute_result"
    },
    {
     "data": {
      "image/png": "[encoded data removed]",
      "text/plain": [
       "<Figure size 640x480 with 1 Axes>"
      ]
     },
     "metadata": {},
     "output_type": "display_data"
    }
   ],
   "source": [
    "sns.scatterplot(data=south_asian , x='Log GDP per capita',y='score')"
   ]
  },
  {
   "cell_type": "code",
   "execution_count": 45,
   "id": "78b18887-0ad7-4ccb-ab66-cf915da6630d",
   "metadata": {},
   "outputs": [
    {
     "data": {
      "text/html": [
       "<div>\n",
       "<style scoped>\n",
       "    .dataframe tbody tr th:only-of-type {\n",
       "        vertical-align: middle;\n",
       "    }\n",
       "\n",
       "    .dataframe tbody tr th {\n",
       "        vertical-align: top;\n",
       "    }\n",
       "\n",
       "    .dataframe thead th {\n",
       "        text-align: right;\n",
       "    }\n",
       "</style>\n",
       "<table border=\"1\" class=\"dataframe\">\n",
       "  <thead>\n",
       "    <tr style=\"text-align: right;\">\n",
       "      <th></th>\n",
       "      <th>score</th>\n",
       "      <th>Log GDP per capita</th>\n",
       "      <th>Social support</th>\n",
       "      <th>Healthy life expectancy</th>\n",
       "      <th>Freedom to make life choices</th>\n",
       "      <th>Generosity</th>\n",
       "      <th>Perceptions of corruption</th>\n",
       "      <th>Dystopia + residual</th>\n",
       "      <th>Composite_Score</th>\n",
       "    </tr>\n",
       "  </thead>\n",
       "  <tbody>\n",
       "    <tr>\n",
       "      <th>count</th>\n",
       "      <td>6.000000</td>\n",
       "      <td>6.000000</td>\n",
       "      <td>6.000000</td>\n",
       "      <td>6.000000</td>\n",
       "      <td>6.000000</td>\n",
       "      <td>6.000000</td>\n",
       "      <td>6.000000</td>\n",
       "      <td>6.000000</td>\n",
       "      <td>6.000000</td>\n",
       "    </tr>\n",
       "    <tr>\n",
       "      <th>mean</th>\n",
       "      <td>3.895667</td>\n",
       "      <td>1.051833</td>\n",
       "      <td>0.611833</td>\n",
       "      <td>0.420333</td>\n",
       "      <td>0.553333</td>\n",
       "      <td>0.150333</td>\n",
       "      <td>0.099500</td>\n",
       "      <td>1.008500</td>\n",
       "      <td>0.730383</td>\n",
       "    </tr>\n",
       "    <tr>\n",
       "      <th>std</th>\n",
       "      <td>1.177069</td>\n",
       "      <td>0.245361</td>\n",
       "      <td>0.441024</td>\n",
       "      <td>0.125082</td>\n",
       "      <td>0.287022</td>\n",
       "      <td>0.039267</td>\n",
       "      <td>0.046427</td>\n",
       "      <td>0.718496</td>\n",
       "      <td>0.243880</td>\n",
       "    </tr>\n",
       "    <tr>\n",
       "      <th>min</th>\n",
       "      <td>1.721000</td>\n",
       "      <td>0.628000</td>\n",
       "      <td>0.000000</td>\n",
       "      <td>0.242000</td>\n",
       "      <td>0.000000</td>\n",
       "      <td>0.091000</td>\n",
       "      <td>0.031000</td>\n",
       "      <td>0.014000</td>\n",
       "      <td>0.323800</td>\n",
       "    </tr>\n",
       "    <tr>\n",
       "      <th>25%</th>\n",
       "      <td>3.889000</td>\n",
       "      <td>0.991000</td>\n",
       "      <td>0.336750</td>\n",
       "      <td>0.345000</td>\n",
       "      <td>0.552250</td>\n",
       "      <td>0.141000</td>\n",
       "      <td>0.077500</td>\n",
       "      <td>0.693000</td>\n",
       "      <td>0.684025</td>\n",
       "    </tr>\n",
       "    <tr>\n",
       "      <th>50%</th>\n",
       "      <td>3.976000</td>\n",
       "      <td>1.095500</td>\n",
       "      <td>0.626500</td>\n",
       "      <td>0.430000</td>\n",
       "      <td>0.618000</td>\n",
       "      <td>0.144000</td>\n",
       "      <td>0.101500</td>\n",
       "      <td>0.837500</td>\n",
       "      <td>0.745650</td>\n",
       "    </tr>\n",
       "    <tr>\n",
       "      <th>75%</th>\n",
       "      <td>4.506250</td>\n",
       "      <td>1.155000</td>\n",
       "      <td>0.905750</td>\n",
       "      <td>0.495500</td>\n",
       "      <td>0.738500</td>\n",
       "      <td>0.166500</td>\n",
       "      <td>0.120250</td>\n",
       "      <td>1.567000</td>\n",
       "      <td>0.808775</td>\n",
       "    </tr>\n",
       "    <tr>\n",
       "      <th>max</th>\n",
       "      <td>5.158000</td>\n",
       "      <td>1.361000</td>\n",
       "      <td>1.179000</td>\n",
       "      <td>0.586000</td>\n",
       "      <td>0.775000</td>\n",
       "      <td>0.209000</td>\n",
       "      <td>0.167000</td>\n",
       "      <td>1.907000</td>\n",
       "      <td>1.073900</td>\n",
       "    </tr>\n",
       "  </tbody>\n",
       "</table>\n",
       "</div>"
      ],
      "text/plain": [
       "          score  Log GDP per capita  Social support  Healthy life expectancy  \\\n",
       "count  6.000000            6.000000        6.000000                 6.000000   \n",
       "mean   3.895667            1.051833        0.611833                 0.420333   \n",
       "std    1.177069            0.245361        0.441024                 0.125082   \n",
       "min    1.721000            0.628000        0.000000                 0.242000   \n",
       "25%    3.889000            0.991000        0.336750                 0.345000   \n",
       "50%    3.976000            1.095500        0.626500                 0.430000   \n",
       "75%    4.506250            1.155000        0.905750                 0.495500   \n",
       "max    5.158000            1.361000        1.179000                 0.586000   \n",
       "\n",
       "       Freedom to make life choices  Generosity  Perceptions of corruption  \\\n",
       "count                      6.000000    6.000000                   6.000000   \n",
       "mean                       0.553333    0.150333                   0.099500   \n",
       "std                        0.287022    0.039267                   0.046427   \n",
       "min                        0.000000    0.091000                   0.031000   \n",
       "25%                        0.552250    0.141000                   0.077500   \n",
       "50%                        0.618000    0.144000                   0.101500   \n",
       "75%                        0.738500    0.166500                   0.120250   \n",
       "max                        0.775000    0.209000                   0.167000   \n",
       "\n",
       "       Dystopia + residual  Composite_Score  \n",
       "count             6.000000         6.000000  \n",
       "mean              1.008500         0.730383  \n",
       "std               0.718496         0.243880  \n",
       "min               0.014000         0.323800  \n",
       "25%               0.693000         0.684025  \n",
       "50%               0.837500         0.745650  \n",
       "75%               1.567000         0.808775  \n",
       "max               1.907000         1.073900  "
      ]
     },
     "execution_count": 45,
     "metadata": {},
     "output_type": "execute_result"
    }
   ],
   "source": [
    "south_asian.describe()"
   ]
  },
  {
   "cell_type": "code",
   "execution_count": 46,
   "id": "2c2adfdb-2ed7-4273-b6b0-20846cadaf0d",
   "metadata": {},
   "outputs": [],
   "source": [
    "outlier_score =1.5 * ( 4.657000 - 3.889000)\t\n",
    "outlier_capita = 1.5 * (1.155000 - 0.991000)"
   ]
  },
  {
   "cell_type": "code",
   "execution_count": 47,
   "id": "60ac4371-794c-4632-9bc8-db11b01f3cb7",
   "metadata": {},
   "outputs": [
    {
     "data": {
      "text/plain": [
       "1.1520000000000004"
      ]
     },
     "execution_count": 47,
     "metadata": {},
     "output_type": "execute_result"
    }
   ],
   "source": [
    "outlier_score"
   ]
  },
  {
   "cell_type": "code",
   "execution_count": 48,
   "id": "e3139f98-4485-4b90-83b0-76436d2072d9",
   "metadata": {},
   "outputs": [
    {
     "data": {
      "text/plain": [
       "0.24600000000000005"
      ]
     },
     "execution_count": 48,
     "metadata": {},
     "output_type": "execute_result"
    }
   ],
   "source": [
    "outlier_capita"
   ]
  },
  {
   "cell_type": "code",
   "execution_count": 49,
   "id": "111847e8-b891-421f-8f32-3cb43e74613d",
   "metadata": {},
   "outputs": [
    {
     "data": {
      "image/png": "[encoded data removed]",
      "text/plain": [
       "<Figure size 1000x600 with 1 Axes>"
      ]
     },
     "metadata": {},
     "output_type": "display_data"
    }
   ],
   "source": [
    "score_lower, score_upper = 2.737, 5.809\n",
    "capita_lower, capita_upper = 0.745, 1.401\n",
    "\n",
    "south_asian['outlier'] = (\n",
    "    (south_asian['score'] < score_lower) | (south_asian['score'] > score_upper) |\n",
    "    (south_asian['Log GDP per capita'] < capita_lower) | (south_asian['Log GDP per capita'] > capita_upper)\n",
    ")\n",
    "\n",
    "\n",
    "plt.figure(figsize=(10, 6))\n",
    "sns.scatterplot(\n",
    "    data=south_asian,\n",
    "    x='Log GDP per capita',\n",
    "    y='score',\n",
    "    hue='outlier',  # Color points based on outlier status\n",
    "    palette={False: 'blue', True: 'red'},\n",
    "    style='outlier',  # Optionally, add different markers for outliers\n",
    "    markers={False: 'o', True: 'X'},\n",
    "    s=100  # Adjust marker size\n",
    ")\n",
    "plt.title('Scatterplot with Outliers Highlighted')\n",
    "plt.show()"
   ]
  },
  {
   "cell_type": "code",
   "execution_count": 50,
   "id": "4a9e4e4a-0da0-4043-a44d-62b614af9da0",
   "metadata": {},
   "outputs": [
    {
     "data": {
      "text/plain": [
       "0    Afghanistan\n",
       "Name: Country name, dtype: object"
      ]
     },
     "execution_count": 50,
     "metadata": {},
     "output_type": "execute_result"
    }
   ],
   "source": [
    "outliers = (south_asian[south_asian['outlier'] == True])\n",
    "outliers['Country name']"
   ]
  },
  {
   "cell_type": "markdown",
   "id": "5f779192-fbcb-4242-8651-5b14bb717924",
   "metadata": {},
   "source": [
    "<h3>Task 4</h3>"
   ]
  },
  {
   "cell_type": "code",
   "execution_count": 52,
   "id": "52562809-12db-4755-b643-75daca59ce1c",
   "metadata": {},
   "outputs": [],
   "source": [
    "for_cor = south_asian[['Freedom to make life choices','Generosity']]\n",
    "for_sc = south_asian['score']"
   ]
  },
  {
   "cell_type": "code",
   "execution_count": 53,
   "id": "5fac2daa-53b3-4d21-b666-69acc09fb03a",
   "metadata": {},
   "outputs": [],
   "source": [
    "correlations = for_cor.apply(lambda col: col.corr(for_sc))"
   ]
  },
  {
   "cell_type": "code",
   "execution_count": 54,
   "id": "6b0e74e0-b3fb-4506-b6c6-f4f885442873",
   "metadata": {},
   "outputs": [
    {
     "data": {
      "image/png": "[encoded data removed]",
      "text/plain": [
       "<Figure size 640x480 with 1 Axes>"
      ]
     },
     "metadata": {},
     "output_type": "display_data"
    }
   ],
   "source": [
    "cor_df = correlations.reset_index()\n",
    "cor_df.columns = ['Metric', 'Correlation']\n",
    "\n",
    "\n",
    "sns.scatterplot(data=cor_df, x='Metric', y='Correlation')\n",
    "plt.title('Correlation with Score')\n",
    "plt.xlabel('Metric')\n",
    "plt.ylabel('Correlation') \n",
    "plt.show()"
   ]
  },
  {
   "cell_type": "markdown",
   "id": "6ccaaab5-32f6-498d-adfd-940073e4e6d1",
   "metadata": {},
   "source": [
    "<h3>Task 5</h3>"
   ]
  },
  {
   "cell_type": "code",
   "execution_count": 56,
   "id": "a680e494-482d-43ae-b8d8-3efe4cb08e0d",
   "metadata": {},
   "outputs": [],
   "source": [
    "south_asian['GDP-Score Gap'] = south_asian['score'] - south_asian['Log GDP per capita']"
   ]
  },
  {
   "cell_type": "code",
   "execution_count": 57,
   "id": "7f5a67f4-f124-4285-909f-05d51eb0e31e",
   "metadata": {},
   "outputs": [
    {
     "data": {
      "text/html": [
       "<div>\n",
       "<style scoped>\n",
       "    .dataframe tbody tr th:only-of-type {\n",
       "        vertical-align: middle;\n",
       "    }\n",
       "\n",
       "    .dataframe tbody tr th {\n",
       "        vertical-align: top;\n",
       "    }\n",
       "\n",
       "    .dataframe thead th {\n",
       "        text-align: right;\n",
       "    }\n",
       "</style>\n",
       "<table border=\"1\" class=\"dataframe\">\n",
       "  <thead>\n",
       "    <tr style=\"text-align: right;\">\n",
       "      <th></th>\n",
       "      <th>Country name</th>\n",
       "      <th>score</th>\n",
       "      <th>Log GDP per capita</th>\n",
       "      <th>Social support</th>\n",
       "      <th>Healthy life expectancy</th>\n",
       "      <th>Freedom to make life choices</th>\n",
       "      <th>Generosity</th>\n",
       "      <th>Perceptions of corruption</th>\n",
       "      <th>Dystopia + residual</th>\n",
       "      <th>Happiness_category</th>\n",
       "      <th>Composite_Score</th>\n",
       "      <th>outlier</th>\n",
       "      <th>GDP-Score Gap</th>\n",
       "    </tr>\n",
       "  </thead>\n",
       "  <tbody>\n",
       "    <tr>\n",
       "      <th>0</th>\n",
       "      <td>Afghanistan</td>\n",
       "      <td>1.721</td>\n",
       "      <td>0.628</td>\n",
       "      <td>0.000</td>\n",
       "      <td>0.242</td>\n",
       "      <td>0.000</td>\n",
       "      <td>0.091</td>\n",
       "      <td>0.088</td>\n",
       "      <td>0.672</td>\n",
       "      <td>Low</td>\n",
       "      <td>0.3238</td>\n",
       "      <td>True</td>\n",
       "      <td>1.093</td>\n",
       "    </tr>\n",
       "    <tr>\n",
       "      <th>1</th>\n",
       "      <td>Bangladesh</td>\n",
       "      <td>3.886</td>\n",
       "      <td>1.122</td>\n",
       "      <td>0.249</td>\n",
       "      <td>0.513</td>\n",
       "      <td>0.775</td>\n",
       "      <td>0.140</td>\n",
       "      <td>0.167</td>\n",
       "      <td>0.919</td>\n",
       "      <td>Low</td>\n",
       "      <td>0.6774</td>\n",
       "      <td>False</td>\n",
       "      <td>2.764</td>\n",
       "    </tr>\n",
       "    <tr>\n",
       "      <th>2</th>\n",
       "      <td>India</td>\n",
       "      <td>4.054</td>\n",
       "      <td>1.166</td>\n",
       "      <td>0.653</td>\n",
       "      <td>0.417</td>\n",
       "      <td>0.767</td>\n",
       "      <td>0.174</td>\n",
       "      <td>0.122</td>\n",
       "      <td>0.756</td>\n",
       "      <td>Medium</td>\n",
       "      <td>0.7874</td>\n",
       "      <td>False</td>\n",
       "      <td>2.888</td>\n",
       "    </tr>\n",
       "    <tr>\n",
       "      <th>3</th>\n",
       "      <td>Nepal</td>\n",
       "      <td>5.158</td>\n",
       "      <td>0.965</td>\n",
       "      <td>0.990</td>\n",
       "      <td>0.443</td>\n",
       "      <td>0.653</td>\n",
       "      <td>0.209</td>\n",
       "      <td>0.115</td>\n",
       "      <td>1.783</td>\n",
       "      <td>Medium</td>\n",
       "      <td>0.8159</td>\n",
       "      <td>False</td>\n",
       "      <td>4.193</td>\n",
       "    </tr>\n",
       "    <tr>\n",
       "      <th>4</th>\n",
       "      <td>Pakistan</td>\n",
       "      <td>4.657</td>\n",
       "      <td>1.069</td>\n",
       "      <td>0.600</td>\n",
       "      <td>0.321</td>\n",
       "      <td>0.542</td>\n",
       "      <td>0.144</td>\n",
       "      <td>0.074</td>\n",
       "      <td>1.907</td>\n",
       "      <td>Medium</td>\n",
       "      <td>0.7039</td>\n",
       "      <td>False</td>\n",
       "      <td>3.588</td>\n",
       "    </tr>\n",
       "    <tr>\n",
       "      <th>5</th>\n",
       "      <td>Sri Lanka</td>\n",
       "      <td>3.898</td>\n",
       "      <td>1.361</td>\n",
       "      <td>1.179</td>\n",
       "      <td>0.586</td>\n",
       "      <td>0.583</td>\n",
       "      <td>0.144</td>\n",
       "      <td>0.031</td>\n",
       "      <td>0.014</td>\n",
       "      <td>Low</td>\n",
       "      <td>1.0739</td>\n",
       "      <td>False</td>\n",
       "      <td>2.537</td>\n",
       "    </tr>\n",
       "  </tbody>\n",
       "</table>\n",
       "</div>"
      ],
      "text/plain": [
       "  Country name  score  Log GDP per capita  Social support  \\\n",
       "0  Afghanistan  1.721               0.628           0.000   \n",
       "1   Bangladesh  3.886               1.122           0.249   \n",
       "2        India  4.054               1.166           0.653   \n",
       "3        Nepal  5.158               0.965           0.990   \n",
       "4     Pakistan  4.657               1.069           0.600   \n",
       "5    Sri Lanka  3.898               1.361           1.179   \n",
       "\n",
       "   Healthy life expectancy  Freedom to make life choices  Generosity  \\\n",
       "0                    0.242                         0.000       0.091   \n",
       "1                    0.513                         0.775       0.140   \n",
       "2                    0.417                         0.767       0.174   \n",
       "3                    0.443                         0.653       0.209   \n",
       "4                    0.321                         0.542       0.144   \n",
       "5                    0.586                         0.583       0.144   \n",
       "\n",
       "   Perceptions of corruption  Dystopia + residual Happiness_category  \\\n",
       "0                      0.088                0.672                Low   \n",
       "1                      0.167                0.919                Low   \n",
       "2                      0.122                0.756             Medium   \n",
       "3                      0.115                1.783             Medium   \n",
       "4                      0.074                1.907             Medium   \n",
       "5                      0.031                0.014                Low   \n",
       "\n",
       "   Composite_Score  outlier  GDP-Score Gap  \n",
       "0           0.3238     True          1.093  \n",
       "1           0.6774    False          2.764  \n",
       "2           0.7874    False          2.888  \n",
       "3           0.8159    False          4.193  \n",
       "4           0.7039    False          3.588  \n",
       "5           1.0739    False          2.537  "
      ]
     },
     "execution_count": 57,
     "metadata": {},
     "output_type": "execute_result"
    }
   ],
   "source": [
    "south_asian"
   ]
  },
  {
   "cell_type": "code",
   "execution_count": 58,
   "id": "74c24566-f0ec-49be-bee9-d4d5a1a34fe8",
   "metadata": {},
   "outputs": [
    {
     "data": {
      "image/png": "[encoded data removed]",
      "text/plain": [
       "<Figure size 1000x600 with 1 Axes>"
      ]
     },
     "metadata": {},
     "output_type": "display_data"
    }
   ],
   "source": [
    "df_sorted_positive = south_asian.nlargest(3, \"GDP-Score Gap\")\n",
    "df_sorted_negative = south_asian.nsmallest(3, \"GDP-Score Gap\")\n",
    "\n",
    "plt.figure(figsize=(10, 6))\n",
    "plt.bar(df_sorted_positive[\"Country name\"], df_sorted_positive[\"GDP-Score Gap\"], color='green', label='Positive Gap')\n",
    "plt.bar(df_sorted_negative[\"Country name\"], df_sorted_negative[\"GDP-Score Gap\"], color='red', label='Negative Gap')\n",
    "\n",
    "plt.title(\"Top 3 Countries with Largest Positive and Negative GDP-Score Gaps\")\n",
    "plt.xlabel(\"Country Name\")\n",
    "plt.ylabel(\"GDP-Score Gap\")\n",
    "plt.legend()\n",
    "plt.show()"
   ]
  },
  {
   "cell_type": "markdown",
   "id": "adceef5f-132b-4768-966f-ca04cfc475be",
   "metadata": {},
   "source": [
    "<h1>Problem 3</h1>"
   ]
  },
  {
   "cell_type": "code",
   "execution_count": 60,
   "id": "dc761b48-57d6-449c-b051-4fc62a44e7be",
   "metadata": {},
   "outputs": [],
   "source": [
    "middle_east_countries = [ \"Bahrain\", \"Iran\", \"Iraq\", \"Israel\", \"Jordan\",\"Kuwait\", \"Lebanon\", \"Oman\", \"Palestine\", \"Qatar\", \"Saudi Arabia\", \"Syria\",\n",
    "                         \"United Arab Emirates\", \"Yemen\"]\n",
    "\n",
    "middle = filter_country(middle_east_countries)"
   ]
  },
  {
   "cell_type": "code",
   "execution_count": 61,
   "id": "86c3b3b8-f57a-44d5-9e3d-2a2c52c3413a",
   "metadata": {},
   "outputs": [],
   "source": [
    "middle.to_csv('Middle.csv',index=False)"
   ]
  },
  {
   "cell_type": "code",
   "execution_count": 62,
   "id": "a129606b-bfdb-429f-8725-98ed60335a2f",
   "metadata": {},
   "outputs": [],
   "source": [
    "df2 = pd.read_csv('Middle.csv')"
   ]
  },
  {
   "cell_type": "markdown",
   "id": "4c08325f-f520-42c9-bed7-b880f0b83452",
   "metadata": {},
   "source": [
    "<h2>Descriptive Statistics</h2>"
   ]
  },
  {
   "cell_type": "code",
   "execution_count": 64,
   "id": "d205531a-25b6-4d3f-90fd-14ae3e4bbd70",
   "metadata": {},
   "outputs": [
    {
     "data": {
      "text/plain": [
       "5.351333333333333"
      ]
     },
     "execution_count": 64,
     "metadata": {},
     "output_type": "execute_result"
    }
   ],
   "source": [
    "df2['score'].mean()"
   ]
  },
  {
   "cell_type": "code",
   "execution_count": 65,
   "id": "e2c40066-07b5-4a39-87be-e0119b9f6912",
   "metadata": {},
   "outputs": [
    {
     "data": {
      "text/plain": [
       "3.895666666666667"
      ]
     },
     "execution_count": 65,
     "metadata": {},
     "output_type": "execute_result"
    }
   ],
   "source": [
    "south_asian['score'].mean()"
   ]
  },
  {
   "cell_type": "code",
   "execution_count": 66,
   "id": "e987582d-38bb-4b06-a585-570bfe6cb607",
   "metadata": {},
   "outputs": [
    {
     "data": {
      "text/plain": [
       "1.648656346847335"
      ]
     },
     "execution_count": 66,
     "metadata": {},
     "output_type": "execute_result"
    }
   ],
   "source": [
    "df2['score'].std()"
   ]
  },
  {
   "cell_type": "code",
   "execution_count": 67,
   "id": "9fd05ac3-4e72-401d-ba03-a3f0eb159fb5",
   "metadata": {},
   "outputs": [
    {
     "data": {
      "text/plain": [
       "1.1770690152521501"
      ]
     },
     "execution_count": 67,
     "metadata": {},
     "output_type": "execute_result"
    }
   ],
   "source": [
    "south_asian['score'].std()"
   ]
  },
  {
   "cell_type": "markdown",
   "id": "d1e5ffff-ba9c-4924-91fc-5d248dedcd39",
   "metadata": {},
   "source": [
    "<h2>Top and Bottom Performers</h2>"
   ]
  },
  {
   "cell_type": "code",
   "execution_count": 69,
   "id": "dee62602-253f-4923-b1af-6b971ce93f98",
   "metadata": {},
   "outputs": [],
   "source": [
    "bottom = df2.sort_values(by='score',ascending=False)\n",
    "top = south_asian.sort_values(by='score',ascending=False)"
   ]
  },
  {
   "cell_type": "code",
   "execution_count": 70,
   "id": "391033d1-2f8e-4b20-a72c-bd625b45534b",
   "metadata": {},
   "outputs": [
    {
     "data": {
      "text/html": [
       "<div>\n",
       "<style scoped>\n",
       "    .dataframe tbody tr th:only-of-type {\n",
       "        vertical-align: middle;\n",
       "    }\n",
       "\n",
       "    .dataframe tbody tr th {\n",
       "        vertical-align: top;\n",
       "    }\n",
       "\n",
       "    .dataframe thead th {\n",
       "        text-align: right;\n",
       "    }\n",
       "</style>\n",
       "<table border=\"1\" class=\"dataframe\">\n",
       "  <thead>\n",
       "    <tr style=\"text-align: right;\">\n",
       "      <th></th>\n",
       "      <th>Country name</th>\n",
       "      <th>score</th>\n",
       "      <th>Log GDP per capita</th>\n",
       "      <th>Social support</th>\n",
       "      <th>Healthy life expectancy</th>\n",
       "      <th>Freedom to make life choices</th>\n",
       "      <th>Generosity</th>\n",
       "      <th>Perceptions of corruption</th>\n",
       "      <th>Dystopia + residual</th>\n",
       "      <th>Happiness_category</th>\n",
       "      <th>Composite_Score</th>\n",
       "      <th>outlier</th>\n",
       "      <th>GDP-Score Gap</th>\n",
       "    </tr>\n",
       "  </thead>\n",
       "  <tbody>\n",
       "    <tr>\n",
       "      <th>3</th>\n",
       "      <td>Nepal</td>\n",
       "      <td>5.158</td>\n",
       "      <td>0.965</td>\n",
       "      <td>0.990</td>\n",
       "      <td>0.443</td>\n",
       "      <td>0.653</td>\n",
       "      <td>0.209</td>\n",
       "      <td>0.115</td>\n",
       "      <td>1.783</td>\n",
       "      <td>Medium</td>\n",
       "      <td>0.8159</td>\n",
       "      <td>False</td>\n",
       "      <td>4.193</td>\n",
       "    </tr>\n",
       "    <tr>\n",
       "      <th>4</th>\n",
       "      <td>Pakistan</td>\n",
       "      <td>4.657</td>\n",
       "      <td>1.069</td>\n",
       "      <td>0.600</td>\n",
       "      <td>0.321</td>\n",
       "      <td>0.542</td>\n",
       "      <td>0.144</td>\n",
       "      <td>0.074</td>\n",
       "      <td>1.907</td>\n",
       "      <td>Medium</td>\n",
       "      <td>0.7039</td>\n",
       "      <td>False</td>\n",
       "      <td>3.588</td>\n",
       "    </tr>\n",
       "    <tr>\n",
       "      <th>2</th>\n",
       "      <td>India</td>\n",
       "      <td>4.054</td>\n",
       "      <td>1.166</td>\n",
       "      <td>0.653</td>\n",
       "      <td>0.417</td>\n",
       "      <td>0.767</td>\n",
       "      <td>0.174</td>\n",
       "      <td>0.122</td>\n",
       "      <td>0.756</td>\n",
       "      <td>Medium</td>\n",
       "      <td>0.7874</td>\n",
       "      <td>False</td>\n",
       "      <td>2.888</td>\n",
       "    </tr>\n",
       "    <tr>\n",
       "      <th>5</th>\n",
       "      <td>Sri Lanka</td>\n",
       "      <td>3.898</td>\n",
       "      <td>1.361</td>\n",
       "      <td>1.179</td>\n",
       "      <td>0.586</td>\n",
       "      <td>0.583</td>\n",
       "      <td>0.144</td>\n",
       "      <td>0.031</td>\n",
       "      <td>0.014</td>\n",
       "      <td>Low</td>\n",
       "      <td>1.0739</td>\n",
       "      <td>False</td>\n",
       "      <td>2.537</td>\n",
       "    </tr>\n",
       "    <tr>\n",
       "      <th>1</th>\n",
       "      <td>Bangladesh</td>\n",
       "      <td>3.886</td>\n",
       "      <td>1.122</td>\n",
       "      <td>0.249</td>\n",
       "      <td>0.513</td>\n",
       "      <td>0.775</td>\n",
       "      <td>0.140</td>\n",
       "      <td>0.167</td>\n",
       "      <td>0.919</td>\n",
       "      <td>Low</td>\n",
       "      <td>0.6774</td>\n",
       "      <td>False</td>\n",
       "      <td>2.764</td>\n",
       "    </tr>\n",
       "    <tr>\n",
       "      <th>0</th>\n",
       "      <td>Afghanistan</td>\n",
       "      <td>1.721</td>\n",
       "      <td>0.628</td>\n",
       "      <td>0.000</td>\n",
       "      <td>0.242</td>\n",
       "      <td>0.000</td>\n",
       "      <td>0.091</td>\n",
       "      <td>0.088</td>\n",
       "      <td>0.672</td>\n",
       "      <td>Low</td>\n",
       "      <td>0.3238</td>\n",
       "      <td>True</td>\n",
       "      <td>1.093</td>\n",
       "    </tr>\n",
       "  </tbody>\n",
       "</table>\n",
       "</div>"
      ],
      "text/plain": [
       "  Country name  score  Log GDP per capita  Social support  \\\n",
       "3        Nepal  5.158               0.965           0.990   \n",
       "4     Pakistan  4.657               1.069           0.600   \n",
       "2        India  4.054               1.166           0.653   \n",
       "5    Sri Lanka  3.898               1.361           1.179   \n",
       "1   Bangladesh  3.886               1.122           0.249   \n",
       "0  Afghanistan  1.721               0.628           0.000   \n",
       "\n",
       "   Healthy life expectancy  Freedom to make life choices  Generosity  \\\n",
       "3                    0.443                         0.653       0.209   \n",
       "4                    0.321                         0.542       0.144   \n",
       "2                    0.417                         0.767       0.174   \n",
       "5                    0.586                         0.583       0.144   \n",
       "1                    0.513                         0.775       0.140   \n",
       "0                    0.242                         0.000       0.091   \n",
       "\n",
       "   Perceptions of corruption  Dystopia + residual Happiness_category  \\\n",
       "3                      0.115                1.783             Medium   \n",
       "4                      0.074                1.907             Medium   \n",
       "2                      0.122                0.756             Medium   \n",
       "5                      0.031                0.014                Low   \n",
       "1                      0.167                0.919                Low   \n",
       "0                      0.088                0.672                Low   \n",
       "\n",
       "   Composite_Score  outlier  GDP-Score Gap  \n",
       "3           0.8159    False          4.193  \n",
       "4           0.7039    False          3.588  \n",
       "2           0.7874    False          2.888  \n",
       "5           1.0739    False          2.537  \n",
       "1           0.6774    False          2.764  \n",
       "0           0.3238     True          1.093  "
      ]
     },
     "execution_count": 70,
     "metadata": {},
     "output_type": "execute_result"
    }
   ],
   "source": [
    "top"
   ]
  },
  {
   "cell_type": "code",
   "execution_count": 71,
   "id": "daea30cd-8510-4705-944c-7110e4c5cb35",
   "metadata": {},
   "outputs": [
    {
     "data": {
      "image/png": "[encoded data removed]",
      "text/plain": [
       "<Figure size 1200x600 with 1 Axes>"
      ]
     },
     "metadata": {},
     "output_type": "display_data"
    }
   ],
   "source": [
    "east_bottom = (bottom.groupby('Country name')['score'].mean().reset_index()).head(3)\n",
    "east_top = (bottom.groupby('Country name')['score'].mean().reset_index()).tail(3)\n",
    "\n",
    "asian_top = (top.groupby('Country name')['score'].mean().reset_index()).head(3)\n",
    "asian_bottom = (top.groupby('Country name')['score'].mean().reset_index()).tail(3)\n",
    "\n",
    "\n",
    "\n",
    "plt.figure(figsize=(12,6))\n",
    "sns.barplot(data=asian_bottom,x='Country name',y='score')\n",
    "plt.show()"
   ]
  },
  {
   "cell_type": "code",
   "execution_count": 72,
   "id": "b89ccc7e-698b-4d4b-8472-b36e8ed9be9f",
   "metadata": {},
   "outputs": [
    {
     "data": {
      "image/png": "[encoded data removed]",
      "text/plain": [
       "<Figure size 1200x600 with 1 Axes>"
      ]
     },
     "metadata": {},
     "output_type": "display_data"
    }
   ],
   "source": [
    "plt.figure(figsize=(12,6))\n",
    "sns.barplot(data=asian_top,x='Country name',y='score')\n",
    "plt.show()"
   ]
  },
  {
   "cell_type": "code",
   "execution_count": 197,
   "id": "04d47137-6513-4b21-93b5-e272c6069e5d",
   "metadata": {},
   "outputs": [
    {
     "data": {
      "text/html": [
       "<div>\n",
       "<style scoped>\n",
       "    .dataframe tbody tr th:only-of-type {\n",
       "        vertical-align: middle;\n",
       "    }\n",
       "\n",
       "    .dataframe tbody tr th {\n",
       "        vertical-align: top;\n",
       "    }\n",
       "\n",
       "    .dataframe thead th {\n",
       "        text-align: right;\n",
       "    }\n",
       "</style>\n",
       "<table border=\"1\" class=\"dataframe\">\n",
       "  <thead>\n",
       "    <tr style=\"text-align: right;\">\n",
       "      <th></th>\n",
       "      <th>Country name</th>\n",
       "      <th>score</th>\n",
       "      <th>Log GDP per capita</th>\n",
       "      <th>Social support</th>\n",
       "      <th>Healthy life expectancy</th>\n",
       "      <th>Freedom to make life choices</th>\n",
       "      <th>Generosity</th>\n",
       "      <th>Perceptions of corruption</th>\n",
       "      <th>Dystopia + residual</th>\n",
       "      <th>Happiness_category</th>\n",
       "    </tr>\n",
       "  </thead>\n",
       "  <tbody>\n",
       "    <tr>\n",
       "      <th>2</th>\n",
       "      <td>Israel</td>\n",
       "      <td>7.341</td>\n",
       "      <td>1.803</td>\n",
       "      <td>1.513</td>\n",
       "      <td>0.740</td>\n",
       "      <td>0.641</td>\n",
       "      <td>0.153</td>\n",
       "      <td>0.193</td>\n",
       "      <td>2.298</td>\n",
       "      <td>High</td>\n",
       "    </tr>\n",
       "    <tr>\n",
       "      <th>4</th>\n",
       "      <td>Kuwait</td>\n",
       "      <td>6.951</td>\n",
       "      <td>1.845</td>\n",
       "      <td>1.364</td>\n",
       "      <td>0.661</td>\n",
       "      <td>0.827</td>\n",
       "      <td>0.200</td>\n",
       "      <td>0.172</td>\n",
       "      <td>1.884</td>\n",
       "      <td>High</td>\n",
       "    </tr>\n",
       "    <tr>\n",
       "      <th>7</th>\n",
       "      <td>United Arab Emirates</td>\n",
       "      <td>6.733</td>\n",
       "      <td>1.983</td>\n",
       "      <td>1.164</td>\n",
       "      <td>0.563</td>\n",
       "      <td>0.815</td>\n",
       "      <td>0.209</td>\n",
       "      <td>0.258</td>\n",
       "      <td>1.741</td>\n",
       "      <td>High</td>\n",
       "    </tr>\n",
       "    <tr>\n",
       "      <th>6</th>\n",
       "      <td>Saudi Arabia</td>\n",
       "      <td>6.594</td>\n",
       "      <td>1.842</td>\n",
       "      <td>1.361</td>\n",
       "      <td>0.511</td>\n",
       "      <td>0.787</td>\n",
       "      <td>0.114</td>\n",
       "      <td>0.188</td>\n",
       "      <td>1.790</td>\n",
       "      <td>High</td>\n",
       "    </tr>\n",
       "    <tr>\n",
       "      <th>1</th>\n",
       "      <td>Iraq</td>\n",
       "      <td>5.166</td>\n",
       "      <td>1.249</td>\n",
       "      <td>0.996</td>\n",
       "      <td>0.498</td>\n",
       "      <td>0.425</td>\n",
       "      <td>0.141</td>\n",
       "      <td>0.048</td>\n",
       "      <td>1.809</td>\n",
       "      <td>Medium</td>\n",
       "    </tr>\n",
       "    <tr>\n",
       "      <th>0</th>\n",
       "      <td>Iran</td>\n",
       "      <td>4.923</td>\n",
       "      <td>1.435</td>\n",
       "      <td>1.136</td>\n",
       "      <td>0.571</td>\n",
       "      <td>0.366</td>\n",
       "      <td>0.235</td>\n",
       "      <td>0.123</td>\n",
       "      <td>1.057</td>\n",
       "      <td>Medium</td>\n",
       "    </tr>\n",
       "    <tr>\n",
       "      <th>3</th>\n",
       "      <td>Jordan</td>\n",
       "      <td>4.186</td>\n",
       "      <td>1.262</td>\n",
       "      <td>0.983</td>\n",
       "      <td>0.594</td>\n",
       "      <td>0.593</td>\n",
       "      <td>0.059</td>\n",
       "      <td>0.189</td>\n",
       "      <td>0.504</td>\n",
       "      <td>Medium</td>\n",
       "    </tr>\n",
       "    <tr>\n",
       "      <th>8</th>\n",
       "      <td>Yemen</td>\n",
       "      <td>3.561</td>\n",
       "      <td>0.671</td>\n",
       "      <td>1.281</td>\n",
       "      <td>0.293</td>\n",
       "      <td>0.362</td>\n",
       "      <td>0.080</td>\n",
       "      <td>0.113</td>\n",
       "      <td>0.760</td>\n",
       "      <td>Low</td>\n",
       "    </tr>\n",
       "    <tr>\n",
       "      <th>5</th>\n",
       "      <td>Lebanon</td>\n",
       "      <td>2.707</td>\n",
       "      <td>1.377</td>\n",
       "      <td>0.577</td>\n",
       "      <td>0.556</td>\n",
       "      <td>0.173</td>\n",
       "      <td>0.068</td>\n",
       "      <td>0.029</td>\n",
       "      <td>-0.073</td>\n",
       "      <td>Low</td>\n",
       "    </tr>\n",
       "  </tbody>\n",
       "</table>\n",
       "</div>"
      ],
      "text/plain": [
       "           Country name  score  Log GDP per capita  Social support  \\\n",
       "2                Israel  7.341               1.803           1.513   \n",
       "4                Kuwait  6.951               1.845           1.364   \n",
       "7  United Arab Emirates  6.733               1.983           1.164   \n",
       "6          Saudi Arabia  6.594               1.842           1.361   \n",
       "1                  Iraq  5.166               1.249           0.996   \n",
       "0                  Iran  4.923               1.435           1.136   \n",
       "3                Jordan  4.186               1.262           0.983   \n",
       "8                 Yemen  3.561               0.671           1.281   \n",
       "5               Lebanon  2.707               1.377           0.577   \n",
       "\n",
       "   Healthy life expectancy  Freedom to make life choices  Generosity  \\\n",
       "2                    0.740                         0.641       0.153   \n",
       "4                    0.661                         0.827       0.200   \n",
       "7                    0.563                         0.815       0.209   \n",
       "6                    0.511                         0.787       0.114   \n",
       "1                    0.498                         0.425       0.141   \n",
       "0                    0.571                         0.366       0.235   \n",
       "3                    0.594                         0.593       0.059   \n",
       "8                    0.293                         0.362       0.080   \n",
       "5                    0.556                         0.173       0.068   \n",
       "\n",
       "   Perceptions of corruption  Dystopia + residual Happiness_category  \n",
       "2                      0.193                2.298               High  \n",
       "4                      0.172                1.884               High  \n",
       "7                      0.258                1.741               High  \n",
       "6                      0.188                1.790               High  \n",
       "1                      0.048                1.809             Medium  \n",
       "0                      0.123                1.057             Medium  \n",
       "3                      0.189                0.504             Medium  \n",
       "8                      0.113                0.760                Low  \n",
       "5                      0.029               -0.073                Low  "
      ]
     },
     "execution_count": 197,
     "metadata": {},
     "output_type": "execute_result"
    }
   ],
   "source": [
    "bottom"
   ]
  },
  {
   "cell_type": "code",
   "execution_count": 73,
   "id": "8578a1e6-13d7-4614-8339-caddbd8512fb",
   "metadata": {},
   "outputs": [
    {
     "data": {
      "image/png": "[encoded data removed]",
      "text/plain": [
       "<Figure size 1200x600 with 1 Axes>"
      ]
     },
     "metadata": {},
     "output_type": "display_data"
    }
   ],
   "source": [
    "plt.figure(figsize=(12,6))\n",
    "sns.barplot(data=east_bottom,x='Country name',y='score')\n",
    "plt.show()"
   ]
  },
  {
   "cell_type": "code",
   "execution_count": 74,
   "id": "d0d8b12a-5457-4b20-acef-c2d92ed80126",
   "metadata": {},
   "outputs": [
    {
     "data": {
      "image/png": "[encoded data removed]",
      "text/plain": [
       "<Figure size 1200x600 with 1 Axes>"
      ]
     },
     "metadata": {},
     "output_type": "display_data"
    }
   ],
   "source": [
    "plt.figure(figsize=(12,6))\n",
    "sns.barplot(data=east_top,x='Country name',y='score')\n",
    "plt.show()"
   ]
  },
  {
   "cell_type": "markdown",
   "id": "1d6ca6ab-782f-4dea-bcf4-26b6d64ac9ea",
   "metadata": {},
   "source": [
    "<h1>Metric Comparisons</h1>"
   ]
  },
  {
   "cell_type": "code",
   "execution_count": 76,
   "id": "343e3f0a-8593-4cfd-b4f1-476b2d1706aa",
   "metadata": {},
   "outputs": [
    {
     "data": {
      "text/html": [
       "<div>\n",
       "<style scoped>\n",
       "    .dataframe tbody tr th:only-of-type {\n",
       "        vertical-align: middle;\n",
       "    }\n",
       "\n",
       "    .dataframe tbody tr th {\n",
       "        vertical-align: top;\n",
       "    }\n",
       "\n",
       "    .dataframe thead th {\n",
       "        text-align: right;\n",
       "    }\n",
       "</style>\n",
       "<table border=\"1\" class=\"dataframe\">\n",
       "  <thead>\n",
       "    <tr style=\"text-align: right;\">\n",
       "      <th></th>\n",
       "      <th>Country name</th>\n",
       "      <th>score</th>\n",
       "      <th>Log GDP per capita</th>\n",
       "      <th>Social support</th>\n",
       "      <th>Healthy life expectancy</th>\n",
       "      <th>Freedom to make life choices</th>\n",
       "      <th>Generosity</th>\n",
       "      <th>Perceptions of corruption</th>\n",
       "      <th>Dystopia + residual</th>\n",
       "      <th>Happiness_category</th>\n",
       "    </tr>\n",
       "  </thead>\n",
       "  <tbody>\n",
       "    <tr>\n",
       "      <th>0</th>\n",
       "      <td>Iran</td>\n",
       "      <td>4.923</td>\n",
       "      <td>1.435</td>\n",
       "      <td>1.136</td>\n",
       "      <td>0.571</td>\n",
       "      <td>0.366</td>\n",
       "      <td>0.235</td>\n",
       "      <td>0.123</td>\n",
       "      <td>1.057</td>\n",
       "      <td>Medium</td>\n",
       "    </tr>\n",
       "    <tr>\n",
       "      <th>1</th>\n",
       "      <td>Iraq</td>\n",
       "      <td>5.166</td>\n",
       "      <td>1.249</td>\n",
       "      <td>0.996</td>\n",
       "      <td>0.498</td>\n",
       "      <td>0.425</td>\n",
       "      <td>0.141</td>\n",
       "      <td>0.048</td>\n",
       "      <td>1.809</td>\n",
       "      <td>Medium</td>\n",
       "    </tr>\n",
       "    <tr>\n",
       "      <th>2</th>\n",
       "      <td>Israel</td>\n",
       "      <td>7.341</td>\n",
       "      <td>1.803</td>\n",
       "      <td>1.513</td>\n",
       "      <td>0.740</td>\n",
       "      <td>0.641</td>\n",
       "      <td>0.153</td>\n",
       "      <td>0.193</td>\n",
       "      <td>2.298</td>\n",
       "      <td>High</td>\n",
       "    </tr>\n",
       "    <tr>\n",
       "      <th>3</th>\n",
       "      <td>Jordan</td>\n",
       "      <td>4.186</td>\n",
       "      <td>1.262</td>\n",
       "      <td>0.983</td>\n",
       "      <td>0.594</td>\n",
       "      <td>0.593</td>\n",
       "      <td>0.059</td>\n",
       "      <td>0.189</td>\n",
       "      <td>0.504</td>\n",
       "      <td>Medium</td>\n",
       "    </tr>\n",
       "    <tr>\n",
       "      <th>4</th>\n",
       "      <td>Kuwait</td>\n",
       "      <td>6.951</td>\n",
       "      <td>1.845</td>\n",
       "      <td>1.364</td>\n",
       "      <td>0.661</td>\n",
       "      <td>0.827</td>\n",
       "      <td>0.200</td>\n",
       "      <td>0.172</td>\n",
       "      <td>1.884</td>\n",
       "      <td>High</td>\n",
       "    </tr>\n",
       "    <tr>\n",
       "      <th>5</th>\n",
       "      <td>Lebanon</td>\n",
       "      <td>2.707</td>\n",
       "      <td>1.377</td>\n",
       "      <td>0.577</td>\n",
       "      <td>0.556</td>\n",
       "      <td>0.173</td>\n",
       "      <td>0.068</td>\n",
       "      <td>0.029</td>\n",
       "      <td>-0.073</td>\n",
       "      <td>Low</td>\n",
       "    </tr>\n",
       "    <tr>\n",
       "      <th>6</th>\n",
       "      <td>Saudi Arabia</td>\n",
       "      <td>6.594</td>\n",
       "      <td>1.842</td>\n",
       "      <td>1.361</td>\n",
       "      <td>0.511</td>\n",
       "      <td>0.787</td>\n",
       "      <td>0.114</td>\n",
       "      <td>0.188</td>\n",
       "      <td>1.790</td>\n",
       "      <td>High</td>\n",
       "    </tr>\n",
       "    <tr>\n",
       "      <th>7</th>\n",
       "      <td>United Arab Emirates</td>\n",
       "      <td>6.733</td>\n",
       "      <td>1.983</td>\n",
       "      <td>1.164</td>\n",
       "      <td>0.563</td>\n",
       "      <td>0.815</td>\n",
       "      <td>0.209</td>\n",
       "      <td>0.258</td>\n",
       "      <td>1.741</td>\n",
       "      <td>High</td>\n",
       "    </tr>\n",
       "    <tr>\n",
       "      <th>8</th>\n",
       "      <td>Yemen</td>\n",
       "      <td>3.561</td>\n",
       "      <td>0.671</td>\n",
       "      <td>1.281</td>\n",
       "      <td>0.293</td>\n",
       "      <td>0.362</td>\n",
       "      <td>0.080</td>\n",
       "      <td>0.113</td>\n",
       "      <td>0.760</td>\n",
       "      <td>Low</td>\n",
       "    </tr>\n",
       "  </tbody>\n",
       "</table>\n",
       "</div>"
      ],
      "text/plain": [
       "           Country name  score  Log GDP per capita  Social support  \\\n",
       "0                  Iran  4.923               1.435           1.136   \n",
       "1                  Iraq  5.166               1.249           0.996   \n",
       "2                Israel  7.341               1.803           1.513   \n",
       "3                Jordan  4.186               1.262           0.983   \n",
       "4                Kuwait  6.951               1.845           1.364   \n",
       "5               Lebanon  2.707               1.377           0.577   \n",
       "6          Saudi Arabia  6.594               1.842           1.361   \n",
       "7  United Arab Emirates  6.733               1.983           1.164   \n",
       "8                 Yemen  3.561               0.671           1.281   \n",
       "\n",
       "   Healthy life expectancy  Freedom to make life choices  Generosity  \\\n",
       "0                    0.571                         0.366       0.235   \n",
       "1                    0.498                         0.425       0.141   \n",
       "2                    0.740                         0.641       0.153   \n",
       "3                    0.594                         0.593       0.059   \n",
       "4                    0.661                         0.827       0.200   \n",
       "5                    0.556                         0.173       0.068   \n",
       "6                    0.511                         0.787       0.114   \n",
       "7                    0.563                         0.815       0.209   \n",
       "8                    0.293                         0.362       0.080   \n",
       "\n",
       "   Perceptions of corruption  Dystopia + residual Happiness_category  \n",
       "0                      0.123                1.057             Medium  \n",
       "1                      0.048                1.809             Medium  \n",
       "2                      0.193                2.298               High  \n",
       "3                      0.189                0.504             Medium  \n",
       "4                      0.172                1.884               High  \n",
       "5                      0.029               -0.073                Low  \n",
       "6                      0.188                1.790               High  \n",
       "7                      0.258                1.741               High  \n",
       "8                      0.113                0.760                Low  "
      ]
     },
     "execution_count": 76,
     "metadata": {},
     "output_type": "execute_result"
    }
   ],
   "source": [
    "df2"
   ]
  },
  {
   "cell_type": "code",
   "execution_count": 77,
   "id": "c3f12563-3442-473d-a8b7-ac7fa3546dd4",
   "metadata": {},
   "outputs": [
    {
     "data": {
      "text/plain": [
       "Text(0.5, 29.00000000000003, 'Metric')"
      ]
     },
     "execution_count": 77,
     "metadata": {},
     "output_type": "execute_result"
    },
    {
     "data": {
      "image/png": "[encoded data removed]",
      "text/plain": [
       "<Figure size 1098.88x600 with 1 Axes>"
      ]
     },
     "metadata": {},
     "output_type": "display_data"
    },
    {
     "data": {
      "image/png": "[encoded data removed]",
      "text/plain": [
       "<Figure size 1032.88x600 with 1 Axes>"
      ]
     },
     "metadata": {},
     "output_type": "display_data"
    }
   ],
   "source": [
    "melted_df = df2.melt(id_vars=['Country name'], \n",
    "                     value_vars=['Log GDP per capita', 'Social support', 'Healthy life expectancy'], \n",
    "                     var_name='Metric', \n",
    "                     value_name='Value')\n",
    "\n",
    "melted_df2 = south_asian.melt(\n",
    "    id_vars=['Country name'], \n",
    "    value_vars=['Log GDP per capita', 'Social support', 'Healthy life expectancy'], \n",
    "    var_name='Metric', \n",
    "    value_name='Value'\n",
    ") \n",
    "\n",
    "sns.catplot(\n",
    "    data=melted_df, \n",
    "    x='Metric', \n",
    "    y='Value', \n",
    "    hue='Country name', \n",
    "    kind='bar', \n",
    "    height=6, \n",
    "    aspect=1.5\n",
    ")\n",
    "\n",
    "\n",
    "sns.catplot(\n",
    "    data=melted_df2, \n",
    "    x='Metric', \n",
    "    y='Value', \n",
    "    hue='Country name', \n",
    "    kind='bar', \n",
    "    height=6, \n",
    "    aspect=1.5\n",
    ")\n",
    "\n",
    "\n",
    "\n",
    "plt.title(\"Comparison of Key Metrics by Region\")\n",
    "plt.ylabel(\"Value\")\n",
    "plt.xlabel(\"Metric\")"
   ]
  },
  {
   "cell_type": "markdown",
   "id": "fc06465c-eb5c-4440-a932-0b91a19a1cca",
   "metadata": {},
   "source": [
    "<h1>Happiness Disparity</h1>"
   ]
  },
  {
   "cell_type": "code",
   "execution_count": 79,
   "id": "94c9abe2-1465-4764-8c3b-40d0798ce743",
   "metadata": {},
   "outputs": [],
   "source": [
    "middle_min = df2['score'].min()"
   ]
  },
  {
   "cell_type": "code",
   "execution_count": 80,
   "id": "904ffcef-5c27-43d9-ab87-f3a4959255eb",
   "metadata": {},
   "outputs": [],
   "source": [
    "middle_max = df2['score'].max()"
   ]
  },
  {
   "cell_type": "code",
   "execution_count": 81,
   "id": "1b2dc50f-e973-4c8b-a285-ce412fce8fa7",
   "metadata": {},
   "outputs": [],
   "source": [
    "south_asia_min = south_asian['score'].min()"
   ]
  },
  {
   "cell_type": "code",
   "execution_count": 82,
   "id": "cfb0b6ff-d7cf-436d-8ce8-da7d57489a52",
   "metadata": {},
   "outputs": [],
   "source": [
    "south_asian_max = south_asian['score'].max()"
   ]
  },
  {
   "cell_type": "code",
   "execution_count": 83,
   "id": "a10faa9c-426c-49d4-9648-875e869f62cd",
   "metadata": {},
   "outputs": [],
   "source": [
    "range_for_middle = middle_max - middle_min"
   ]
  },
  {
   "cell_type": "code",
   "execution_count": 84,
   "id": "39806680-3759-45be-9c88-1158b0e50eb1",
   "metadata": {},
   "outputs": [],
   "source": [
    "range_for_asia = south_asian_max - south_asia_min"
   ]
  },
  {
   "cell_type": "code",
   "execution_count": 85,
   "id": "0648bfd8-8e84-4d98-97e6-8455fde5cad6",
   "metadata": {},
   "outputs": [
    {
     "data": {
      "text/plain": [
       "3.4370000000000003"
      ]
     },
     "execution_count": 85,
     "metadata": {},
     "output_type": "execute_result"
    }
   ],
   "source": [
    "range_for_asia"
   ]
  },
  {
   "cell_type": "code",
   "execution_count": 86,
   "id": "02dd767a-c1cf-433e-81ca-252ee67c0e8a",
   "metadata": {},
   "outputs": [
    {
     "data": {
      "text/plain": [
       "4.634"
      ]
     },
     "execution_count": 86,
     "metadata": {},
     "output_type": "execute_result"
    }
   ],
   "source": [
    "range_for_middle"
   ]
  },
  {
   "cell_type": "code",
   "execution_count": 87,
   "id": "e2e5541b-e17a-4fa0-83ef-5ebbc8f4d04c",
   "metadata": {},
   "outputs": [],
   "source": [
    "cv_south_asians = (south_asian['score'].std() / south_asian['score'].mean()) * 100\n",
    "cv_middle_east = (df2['score'].std() / df2['score'].mean()) * 100"
   ]
  },
  {
   "cell_type": "code",
   "execution_count": 88,
   "id": "f41cf624-c372-4608-9f43-aedb43ae253a",
   "metadata": {},
   "outputs": [
    {
     "data": {
      "text/plain": [
       "30.808328395054225"
      ]
     },
     "execution_count": 88,
     "metadata": {},
     "output_type": "execute_result"
    }
   ],
   "source": [
    "cv_middle_east"
   ]
  },
  {
   "cell_type": "code",
   "execution_count": 89,
   "id": "5bd47f19-8bbf-443e-aa55-5b8299483095",
   "metadata": {},
   "outputs": [
    {
     "data": {
      "text/plain": [
       "30.214828833374263"
      ]
     },
     "execution_count": 89,
     "metadata": {},
     "output_type": "execute_result"
    }
   ],
   "source": [
    "cv_south_asians"
   ]
  },
  {
   "cell_type": "markdown",
   "id": "814d899f-7184-4c72-8e14-61e5b1c005f6",
   "metadata": {},
   "source": [
    "<h1>Correlation Analysis</h1>"
   ]
  },
  {
   "cell_type": "code",
   "execution_count": 91,
   "id": "18c59e2b-f8cb-4941-8b0f-32dfc20c3440",
   "metadata": {},
   "outputs": [
    {
     "data": {
      "image/png": "[encoded data removed]",
      "text/plain": [
       "<Figure size 640x480 with 1 Axes>"
      ]
     },
     "metadata": {},
     "output_type": "display_data"
    }
   ],
   "source": [
    "cor_south_asian = south_asian[['score', 'Generosity', 'Log GDP per capita']].corr()\n",
    "\n",
    "sns.scatterplot(data=cor_south_asian, x='score', y='Generosity')\n",
    "plt.title('South Asia - Generosity vs Score')\n",
    "plt.show()"
   ]
  },
  {
   "cell_type": "code",
   "execution_count": 92,
   "id": "cceb3602-cbb3-4406-9d8d-70ff11de651f",
   "metadata": {},
   "outputs": [
    {
     "data": {
      "image/png": "[encoded data removed]",
      "text/plain": [
       "<Figure size 640x480 with 1 Axes>"
      ]
     },
     "metadata": {},
     "output_type": "display_data"
    }
   ],
   "source": [
    "sns.scatterplot(data=cor_south_asian, x='score', y='Log GDP per capita')\n",
    "plt.title('South Asia - Log GDP per capita vs Score')\n",
    "plt.show()"
   ]
  },
  {
   "cell_type": "code",
   "execution_count": 93,
   "id": "f0ee0aae-73c3-4529-8139-3e64ce2815f6",
   "metadata": {},
   "outputs": [
    {
     "data": {
      "image/png": "[encoded data removed]",
      "text/plain": [
       "<Figure size 640x480 with 1 Axes>"
      ]
     },
     "metadata": {},
     "output_type": "display_data"
    }
   ],
   "source": [
    "cor_middle_east = df2[['score', 'Generosity', 'Log GDP per capita']].corr()\n",
    "\n",
    "sns.scatterplot(data=cor_middle_east, x='score', y='Generosity')\n",
    "plt.title('Middle East - Generosity vs Score')\n",
    "plt.show()"
   ]
  },
  {
   "cell_type": "code",
   "execution_count": 94,
   "id": "fc935a2c-8f7f-4ccf-b704-cdfe789cf47c",
   "metadata": {},
   "outputs": [
    {
     "data": {
      "image/png": "[encoded data removed]",
      "text/plain": [
       "<Figure size 640x480 with 1 Axes>"
      ]
     },
     "metadata": {},
     "output_type": "display_data"
    }
   ],
   "source": [
    "sns.scatterplot(data=cor_middle_east, x='score', y='Log GDP per capita')\n",
    "plt.title('Middle East - Log GDP per capita vs Score')\n",
    "plt.show()"
   ]
  },
  {
   "cell_type": "markdown",
   "id": "da956904-97d0-4743-a3b5-6cc088abaefb",
   "metadata": {},
   "source": [
    "<h1>Outlier Detection</h1>"
   ]
  },
  {
   "cell_type": "code",
   "execution_count": 96,
   "id": "437da916-2cc7-4eed-8db4-a5f5e6e466f5",
   "metadata": {},
   "outputs": [
    {
     "data": {
      "text/plain": [
       "<Axes: xlabel='Log GDP per capita', ylabel='score'>"
      ]
     },
     "execution_count": 96,
     "metadata": {},
     "output_type": "execute_result"
    },
    {
     "data": {
      "image/png": "[encoded data removed]",
      "text/plain": [
       "<Figure size 640x480 with 1 Axes>"
      ]
     },
     "metadata": {},
     "output_type": "display_data"
    }
   ],
   "source": [
    "sns.scatterplot(data=df2,x='Log GDP per capita',y='score')"
   ]
  },
  {
   "cell_type": "code",
   "execution_count": 97,
   "id": "600a514e-296b-4163-9ffb-2b20f90e51e5",
   "metadata": {},
   "outputs": [
    {
     "data": {
      "text/plain": [
       "<Axes: xlabel='Log GDP per capita', ylabel='score'>"
      ]
     },
     "execution_count": 97,
     "metadata": {},
     "output_type": "execute_result"
    },
    {
     "data": {
      "image/png": "[encoded data removed]",
      "text/plain": [
       "<Figure size 640x480 with 1 Axes>"
      ]
     },
     "metadata": {},
     "output_type": "display_data"
    }
   ],
   "source": [
    "sns.scatterplot(data=south_asian,x='Log GDP per capita',y='score')"
   ]
  },
  {
   "cell_type": "markdown",
   "id": "9ba8d3fb-0ea6-437e-80c3-8b101bf9a9aa",
   "metadata": {},
   "source": [
    "<h1>Visualization</h1>"
   ]
  },
  {
   "cell_type": "code",
   "execution_count": 99,
   "id": "b9394523-e609-4e3a-aa7b-5e8201987e09",
   "metadata": {},
   "outputs": [],
   "source": [
    "df_combined = pd.concat([df2['score'], south_asian['score']], axis=1)\n",
    "df_combined.columns = ['Middle_east_Scores', 'South_Asian_Scores']"
   ]
  },
  {
   "cell_type": "code",
   "execution_count": 100,
   "id": "8e7695ef-d3a3-48be-b0d1-6cafa4f75fc9",
   "metadata": {},
   "outputs": [
    {
     "data": {
      "text/plain": [
       "Middle_east_Scores    0\n",
       "South_Asian_Scores    3\n",
       "dtype: int64"
      ]
     },
     "execution_count": 100,
     "metadata": {},
     "output_type": "execute_result"
    }
   ],
   "source": [
    "df_combined.isnull().sum()"
   ]
  },
  {
   "cell_type": "code",
   "execution_count": 101,
   "id": "64fc651d-443a-45df-b4b8-b3e9dca13769",
   "metadata": {},
   "outputs": [],
   "source": [
    "df_combined = df_combined.dropna()"
   ]
  },
  {
   "cell_type": "code",
   "execution_count": 102,
   "id": "dac8e487-75b3-4b4d-8178-3a2898e6ba56",
   "metadata": {},
   "outputs": [
    {
     "data": {
      "text/html": [
       "<div>\n",
       "<style scoped>\n",
       "    .dataframe tbody tr th:only-of-type {\n",
       "        vertical-align: middle;\n",
       "    }\n",
       "\n",
       "    .dataframe tbody tr th {\n",
       "        vertical-align: top;\n",
       "    }\n",
       "\n",
       "    .dataframe thead th {\n",
       "        text-align: right;\n",
       "    }\n",
       "</style>\n",
       "<table border=\"1\" class=\"dataframe\">\n",
       "  <thead>\n",
       "    <tr style=\"text-align: right;\">\n",
       "      <th></th>\n",
       "      <th>Middle_east_Scores</th>\n",
       "      <th>South_Asian_Scores</th>\n",
       "    </tr>\n",
       "  </thead>\n",
       "  <tbody>\n",
       "    <tr>\n",
       "      <th>0</th>\n",
       "      <td>4.923</td>\n",
       "      <td>1.721</td>\n",
       "    </tr>\n",
       "    <tr>\n",
       "      <th>1</th>\n",
       "      <td>5.166</td>\n",
       "      <td>3.886</td>\n",
       "    </tr>\n",
       "    <tr>\n",
       "      <th>2</th>\n",
       "      <td>7.341</td>\n",
       "      <td>4.054</td>\n",
       "    </tr>\n",
       "    <tr>\n",
       "      <th>3</th>\n",
       "      <td>4.186</td>\n",
       "      <td>5.158</td>\n",
       "    </tr>\n",
       "    <tr>\n",
       "      <th>4</th>\n",
       "      <td>6.951</td>\n",
       "      <td>4.657</td>\n",
       "    </tr>\n",
       "    <tr>\n",
       "      <th>5</th>\n",
       "      <td>2.707</td>\n",
       "      <td>3.898</td>\n",
       "    </tr>\n",
       "  </tbody>\n",
       "</table>\n",
       "</div>"
      ],
      "text/plain": [
       "   Middle_east_Scores  South_Asian_Scores\n",
       "0               4.923               1.721\n",
       "1               5.166               3.886\n",
       "2               7.341               4.054\n",
       "3               4.186               5.158\n",
       "4               6.951               4.657\n",
       "5               2.707               3.898"
      ]
     },
     "execution_count": 102,
     "metadata": {},
     "output_type": "execute_result"
    }
   ],
   "source": [
    "df_combined"
   ]
  },
  {
   "cell_type": "code",
   "execution_count": 103,
   "id": "eae5b3d5-91ec-49a6-b8ae-74ad0f9320b0",
   "metadata": {},
   "outputs": [
    {
     "data": {
      "text/plain": [
       "<Axes: xlabel='Middle_east_Scores'>"
      ]
     },
     "execution_count": 103,
     "metadata": {},
     "output_type": "execute_result"
    },
    {
     "data": {
      "image/png": "[encoded data removed]",
      "text/plain": [
       "<Figure size 1000x600 with 1 Axes>"
      ]
     },
     "metadata": {},
     "output_type": "display_data"
    }
   ],
   "source": [
    "plt.figure(figsize=(10,6))\n",
    "sns.boxplot(data=df_combined,x='Middle_east_Scores')"
   ]
  },
  {
   "cell_type": "code",
   "execution_count": 104,
   "id": "ef0c3eac-7884-4846-8605-b6391586ed89",
   "metadata": {},
   "outputs": [
    {
     "data": {
      "text/plain": [
       "<Axes: xlabel='South_Asian_Scores'>"
      ]
     },
     "execution_count": 104,
     "metadata": {},
     "output_type": "execute_result"
    },
    {
     "data": {
      "image/png": "[encoded data removed]",
      "text/plain": [
       "<Figure size 1000x600 with 1 Axes>"
      ]
     },
     "metadata": {},
     "output_type": "display_data"
    }
   ],
   "source": [
    "plt.figure(figsize=(10,6))\n",
    "sns.boxplot(data=df_combined,x='South_Asian_Scores')"
   ]
  }
 ],
 "metadata": {
  "kernelspec": {
   "display_name": "Python 3 (ipykernel)",
   "language": "python",
   "name": "python3"
  },
  "language_info": {
   "codemirror_mode": {
    "name": "ipython",
    "version": 3
   },
   "file_extension": ".py",
   "mimetype": "text/x-python",
   "name": "python",
   "nbconvert_exporter": "python",
   "pygments_lexer": "ipython3",
   "version": "3.11.7"
  }
 },
 "nbformat": 4,
 "nbformat_minor": 5
}
