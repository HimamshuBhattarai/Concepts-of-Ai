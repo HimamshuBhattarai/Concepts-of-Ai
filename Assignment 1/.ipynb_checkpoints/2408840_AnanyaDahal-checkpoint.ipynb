{
 "cells": [
  {
   "cell_type": "markdown",
   "metadata": {
    "id": "HnebePzcbZcy"
   },
   "source": [
    "**<h1>Assignment-1</h1>\n",
    "**"
   ]
  },
  {
   "cell_type": "markdown",
   "metadata": {
    "id": "2xjAmhmCbmsh"
   },
   "source": [
    "<h1>3.1) Problem - 1:\n",
    " Getting Started with Data Exploration </h1>"
   ]
  },
  {
   "cell_type": "code",
   "execution_count": 239,
   "metadata": {
    "id": "8k5fE2vnaxeo"
   },
   "outputs": [],
   "source": [
    "import pandas as pd\n",
    "import matplotlib.pyplot as plt\n",
    "import seaborn as sns\n",
    "import warnings \n",
    "warnings.filterwarnings('ignore')"
   ]
  },
  {
   "cell_type": "markdown",
   "metadata": {
    "id": "0f4Zeyrlsp_W"
   },
   "source": [
    "<h1>1 - Data Exploration and Understanding:</h1>\n",
    "# New Section"
   ]
  },
  {
   "cell_type": "markdown",
   "metadata": {
    "id": "Sh9N1OCJuwR9"
   },
   "source": [
    "<h2>Dataset Overview:</h2>"
   ]
  },
  {
   "cell_type": "code",
   "execution_count": 69,
   "metadata": {
    "colab": {
     "base_uri": "https://localhost:8080/",
     "height": 435
    },
    "id": "8gKz_E4EbBbo",
    "outputId": "27b247e1-919b-4623-c092-ab8352a26418"
   },
   "outputs": [
    {
     "data": {
      "text/html": [
       "<div>\n",
       "<style scoped>\n",
       "    .dataframe tbody tr th:only-of-type {\n",
       "        vertical-align: middle;\n",
       "    }\n",
       "\n",
       "    .dataframe tbody tr th {\n",
       "        vertical-align: top;\n",
       "    }\n",
       "\n",
       "    .dataframe thead th {\n",
       "        text-align: right;\n",
       "    }\n",
       "</style>\n",
       "<table border=\"1\" class=\"dataframe\">\n",
       "  <thead>\n",
       "    <tr style=\"text-align: right;\">\n",
       "      <th></th>\n",
       "      <th>Country name</th>\n",
       "      <th>score</th>\n",
       "      <th>Log GDP per capita</th>\n",
       "      <th>Social support</th>\n",
       "      <th>Healthy life expectancy</th>\n",
       "      <th>Freedom to make life choices</th>\n",
       "      <th>Generosity</th>\n",
       "      <th>Perceptions of corruption</th>\n",
       "      <th>Dystopia + residual</th>\n",
       "    </tr>\n",
       "  </thead>\n",
       "  <tbody>\n",
       "    <tr>\n",
       "      <th>0</th>\n",
       "      <td>Finland</td>\n",
       "      <td>7.741</td>\n",
       "      <td>1.844</td>\n",
       "      <td>1.572</td>\n",
       "      <td>0.695</td>\n",
       "      <td>0.859</td>\n",
       "      <td>0.142</td>\n",
       "      <td>0.546</td>\n",
       "      <td>2.082</td>\n",
       "    </tr>\n",
       "    <tr>\n",
       "      <th>1</th>\n",
       "      <td>Denmark</td>\n",
       "      <td>7.583</td>\n",
       "      <td>1.908</td>\n",
       "      <td>1.520</td>\n",
       "      <td>0.699</td>\n",
       "      <td>0.823</td>\n",
       "      <td>0.204</td>\n",
       "      <td>0.548</td>\n",
       "      <td>1.881</td>\n",
       "    </tr>\n",
       "    <tr>\n",
       "      <th>2</th>\n",
       "      <td>Iceland</td>\n",
       "      <td>7.525</td>\n",
       "      <td>1.881</td>\n",
       "      <td>1.617</td>\n",
       "      <td>0.718</td>\n",
       "      <td>0.819</td>\n",
       "      <td>0.258</td>\n",
       "      <td>0.182</td>\n",
       "      <td>2.050</td>\n",
       "    </tr>\n",
       "    <tr>\n",
       "      <th>3</th>\n",
       "      <td>Sweden</td>\n",
       "      <td>7.344</td>\n",
       "      <td>1.878</td>\n",
       "      <td>1.501</td>\n",
       "      <td>0.724</td>\n",
       "      <td>0.838</td>\n",
       "      <td>0.221</td>\n",
       "      <td>0.524</td>\n",
       "      <td>1.658</td>\n",
       "    </tr>\n",
       "    <tr>\n",
       "      <th>4</th>\n",
       "      <td>Israel</td>\n",
       "      <td>7.341</td>\n",
       "      <td>1.803</td>\n",
       "      <td>1.513</td>\n",
       "      <td>0.740</td>\n",
       "      <td>0.641</td>\n",
       "      <td>0.153</td>\n",
       "      <td>0.193</td>\n",
       "      <td>2.298</td>\n",
       "    </tr>\n",
       "    <tr>\n",
       "      <th>5</th>\n",
       "      <td>Netherlands</td>\n",
       "      <td>7.319</td>\n",
       "      <td>1.901</td>\n",
       "      <td>1.462</td>\n",
       "      <td>0.706</td>\n",
       "      <td>0.725</td>\n",
       "      <td>0.247</td>\n",
       "      <td>0.372</td>\n",
       "      <td>1.906</td>\n",
       "    </tr>\n",
       "    <tr>\n",
       "      <th>6</th>\n",
       "      <td>Norway</td>\n",
       "      <td>7.302</td>\n",
       "      <td>1.952</td>\n",
       "      <td>1.517</td>\n",
       "      <td>0.704</td>\n",
       "      <td>0.835</td>\n",
       "      <td>0.224</td>\n",
       "      <td>0.484</td>\n",
       "      <td>1.586</td>\n",
       "    </tr>\n",
       "    <tr>\n",
       "      <th>7</th>\n",
       "      <td>Luxembourg</td>\n",
       "      <td>7.122</td>\n",
       "      <td>2.141</td>\n",
       "      <td>1.355</td>\n",
       "      <td>0.708</td>\n",
       "      <td>0.801</td>\n",
       "      <td>0.146</td>\n",
       "      <td>0.432</td>\n",
       "      <td>1.540</td>\n",
       "    </tr>\n",
       "    <tr>\n",
       "      <th>8</th>\n",
       "      <td>Switzerland</td>\n",
       "      <td>7.060</td>\n",
       "      <td>1.970</td>\n",
       "      <td>1.425</td>\n",
       "      <td>0.747</td>\n",
       "      <td>0.759</td>\n",
       "      <td>0.173</td>\n",
       "      <td>0.498</td>\n",
       "      <td>1.488</td>\n",
       "    </tr>\n",
       "    <tr>\n",
       "      <th>9</th>\n",
       "      <td>Australia</td>\n",
       "      <td>7.057</td>\n",
       "      <td>1.854</td>\n",
       "      <td>1.461</td>\n",
       "      <td>0.692</td>\n",
       "      <td>0.756</td>\n",
       "      <td>0.225</td>\n",
       "      <td>0.323</td>\n",
       "      <td>1.745</td>\n",
       "    </tr>\n",
       "  </tbody>\n",
       "</table>\n",
       "</div>"
      ],
      "text/plain": [
       "  Country name  score  Log GDP per capita  Social support  \\\n",
       "0      Finland  7.741               1.844           1.572   \n",
       "1      Denmark  7.583               1.908           1.520   \n",
       "2      Iceland  7.525               1.881           1.617   \n",
       "3       Sweden  7.344               1.878           1.501   \n",
       "4       Israel  7.341               1.803           1.513   \n",
       "5  Netherlands  7.319               1.901           1.462   \n",
       "6       Norway  7.302               1.952           1.517   \n",
       "7   Luxembourg  7.122               2.141           1.355   \n",
       "8  Switzerland  7.060               1.970           1.425   \n",
       "9    Australia  7.057               1.854           1.461   \n",
       "\n",
       "   Healthy life expectancy  Freedom to make life choices  Generosity  \\\n",
       "0                    0.695                         0.859       0.142   \n",
       "1                    0.699                         0.823       0.204   \n",
       "2                    0.718                         0.819       0.258   \n",
       "3                    0.724                         0.838       0.221   \n",
       "4                    0.740                         0.641       0.153   \n",
       "5                    0.706                         0.725       0.247   \n",
       "6                    0.704                         0.835       0.224   \n",
       "7                    0.708                         0.801       0.146   \n",
       "8                    0.747                         0.759       0.173   \n",
       "9                    0.692                         0.756       0.225   \n",
       "\n",
       "   Perceptions of corruption  Dystopia + residual  \n",
       "0                      0.546                2.082  \n",
       "1                      0.548                1.881  \n",
       "2                      0.182                2.050  \n",
       "3                      0.524                1.658  \n",
       "4                      0.193                2.298  \n",
       "5                      0.372                1.906  \n",
       "6                      0.484                1.586  \n",
       "7                      0.432                1.540  \n",
       "8                      0.498                1.488  \n",
       "9                      0.323                1.745  "
      ]
     },
     "execution_count": 69,
     "metadata": {},
     "output_type": "execute_result"
    }
   ],
   "source": [
    "#1)\n",
    "df = pd.read_csv(\"WHR-2024-5CS037.csv\")\n",
    "df.head(10)"
   ]
  },
  {
   "cell_type": "code",
   "execution_count": 70,
   "metadata": {
    "colab": {
     "base_uri": "https://localhost:8080/"
    },
    "id": "NrIyumFHtECN",
    "outputId": "16d62188-e2b9-4f61-c3e9-3254b8bf087d"
   },
   "outputs": [
    {
     "data": {
      "text/plain": [
       "(143, 9)"
      ]
     },
     "execution_count": 70,
     "metadata": {},
     "output_type": "execute_result"
    }
   ],
   "source": [
    "#2)\n",
    "df.shape"
   ]
  },
  {
   "cell_type": "code",
   "execution_count": 71,
   "metadata": {
    "colab": {
     "base_uri": "https://localhost:8080/",
     "height": 366
    },
    "id": "FhinE6iFtXvn",
    "outputId": "3d72cdcb-26e6-4dab-ed23-7285275d5baf"
   },
   "outputs": [
    {
     "data": {
      "text/plain": [
       "Country name                     object\n",
       "score                           float64\n",
       "Log GDP per capita              float64\n",
       "Social support                  float64\n",
       "Healthy life expectancy         float64\n",
       "Freedom to make life choices    float64\n",
       "Generosity                      float64\n",
       "Perceptions of corruption       float64\n",
       "Dystopia + residual             float64\n",
       "dtype: object"
      ]
     },
     "execution_count": 71,
     "metadata": {},
     "output_type": "execute_result"
    }
   ],
   "source": [
    "#3)\n",
    "df.dtypes"
   ]
  },
  {
   "cell_type": "markdown",
   "metadata": {
    "id": "Ckkkx5wpu6JK"
   },
   "source": [
    "<h2>Basic Statistics:</h2>\n"
   ]
  },
  {
   "cell_type": "code",
   "execution_count": 245,
   "metadata": {
    "colab": {
     "base_uri": "https://localhost:8080/"
    },
    "id": "H1F3U-YMvIp_",
    "outputId": "f576e9e4-6dc3-48a9-f8aa-80de80dcc628"
   },
   "outputs": [
    {
     "name": "stdout",
     "output_type": "stream",
     "text": [
      "Mean Score: 5.52758041958042\n",
      "Median Score: 5.785\n",
      "Standard Deviation of Score: 1.1707165099442995\n"
     ]
    }
   ],
   "source": [
    "#1)\n",
    "mean_score = df['score'].mean()\n",
    "median_score = df['score'].median()\n",
    "std_dev_score = df['score'].std()\n",
    "\n",
    "print(\"Mean Score:\", mean_score)\n",
    "print(\"Median Score:\", median_score)\n",
    "print(\"Standard Deviation of Score:\", std_dev_score)"
   ]
  },
  {
   "cell_type": "code",
   "execution_count": 247,
   "metadata": {
    "colab": {
     "base_uri": "https://localhost:8080/",
     "height": 81
    },
    "id": "O-BnQfYHKyjg",
    "outputId": "d1ba028e-60d6-439b-eaf7-2951b539733a"
   },
   "outputs": [
    {
     "data": {
      "text/html": [
       "<div>\n",
       "<style scoped>\n",
       "    .dataframe tbody tr th:only-of-type {\n",
       "        vertical-align: middle;\n",
       "    }\n",
       "\n",
       "    .dataframe tbody tr th {\n",
       "        vertical-align: top;\n",
       "    }\n",
       "\n",
       "    .dataframe thead th {\n",
       "        text-align: right;\n",
       "    }\n",
       "</style>\n",
       "<table border=\"1\" class=\"dataframe\">\n",
       "  <thead>\n",
       "    <tr style=\"text-align: right;\">\n",
       "      <th></th>\n",
       "      <th>Country name</th>\n",
       "      <th>score</th>\n",
       "    </tr>\n",
       "  </thead>\n",
       "  <tbody>\n",
       "    <tr>\n",
       "      <th>142</th>\n",
       "      <td>Afghanistan</td>\n",
       "      <td>1.721</td>\n",
       "    </tr>\n",
       "  </tbody>\n",
       "</table>\n",
       "</div>"
      ],
      "text/plain": [
       "    Country name  score\n",
       "142  Afghanistan  1.721"
      ]
     },
     "execution_count": 247,
     "metadata": {},
     "output_type": "execute_result"
    }
   ],
   "source": [
    "#2) Minimum score of the country\n",
    "min_score = df['score'].min()\n",
    "rows_with_min_score = df[df['score'] == min_score]\n",
    "rows_with_min_score[['Country name','score']]"
   ]
  },
  {
   "cell_type": "code",
   "execution_count": 249,
   "metadata": {
    "colab": {
     "base_uri": "https://localhost:8080/",
     "height": 81
    },
    "id": "fhqlu9UCKrmi",
    "outputId": "2dbb5e7d-ff63-4e6d-e996-b133bcfe810a"
   },
   "outputs": [
    {
     "data": {
      "text/html": [
       "<div>\n",
       "<style scoped>\n",
       "    .dataframe tbody tr th:only-of-type {\n",
       "        vertical-align: middle;\n",
       "    }\n",
       "\n",
       "    .dataframe tbody tr th {\n",
       "        vertical-align: top;\n",
       "    }\n",
       "\n",
       "    .dataframe thead th {\n",
       "        text-align: right;\n",
       "    }\n",
       "</style>\n",
       "<table border=\"1\" class=\"dataframe\">\n",
       "  <thead>\n",
       "    <tr style=\"text-align: right;\">\n",
       "      <th></th>\n",
       "      <th>Country name</th>\n",
       "      <th>score</th>\n",
       "    </tr>\n",
       "  </thead>\n",
       "  <tbody>\n",
       "    <tr>\n",
       "      <th>0</th>\n",
       "      <td>Finland</td>\n",
       "      <td>7.741</td>\n",
       "    </tr>\n",
       "  </tbody>\n",
       "</table>\n",
       "</div>"
      ],
      "text/plain": [
       "  Country name  score\n",
       "0      Finland  7.741"
      ]
     },
     "execution_count": 249,
     "metadata": {},
     "output_type": "execute_result"
    }
   ],
   "source": [
    "#2) Maximum score of the country\n",
    "max_score = df['score'].max()\n",
    "rows_with_max_score = df[df['score'] == max_score]\n",
    "rows_with_max_score[['Country name','score']]"
   ]
  },
  {
   "cell_type": "markdown",
   "metadata": {
    "id": "lDwgmxyEzcao"
   },
   "source": [
    "<h2>Missing Values:</h2>"
   ]
  },
  {
   "cell_type": "code",
   "execution_count": 251,
   "metadata": {
    "colab": {
     "base_uri": "https://localhost:8080/"
    },
    "id": "3zq7uN8UyWRp",
    "outputId": "f88728c8-aef7-4b97-8d18-c605ccdf6b93"
   },
   "outputs": [
    {
     "name": "stdout",
     "output_type": "stream",
     "text": [
      "Missing Values in Each Column:\n",
      "Country name                    0\n",
      "score                           0\n",
      "Log GDP per capita              3\n",
      "Social support                  3\n",
      "Healthy life expectancy         3\n",
      "Freedom to make life choices    3\n",
      "Generosity                      3\n",
      "Perceptions of corruption       3\n",
      "Dystopia + residual             3\n",
      "Happiness_Category              0\n",
      "dtype: int64\n"
     ]
    }
   ],
   "source": [
    "#1)\n",
    "missing_values = df.isnull().sum()\n",
    "\n",
    "print(\"Missing Values in Each Column:\")\n",
    "print(missing_values)"
   ]
  },
  {
   "cell_type": "markdown",
   "metadata": {
    "id": "y7nvxMqQ0Pos"
   },
   "source": [
    "<h2>Filtering and Sorting:</h2>"
   ]
  },
  {
   "cell_type": "code",
   "execution_count": 253,
   "metadata": {
    "colab": {
     "base_uri": "https://localhost:8080/",
     "height": 215
    },
    "id": "MhmmXsoUzzye",
    "outputId": "5e620ffb-4c97-4bac-be3f-b732446db117"
   },
   "outputs": [
    {
     "data": {
      "text/html": [
       "<div>\n",
       "<style scoped>\n",
       "    .dataframe tbody tr th:only-of-type {\n",
       "        vertical-align: middle;\n",
       "    }\n",
       "\n",
       "    .dataframe tbody tr th {\n",
       "        vertical-align: top;\n",
       "    }\n",
       "\n",
       "    .dataframe thead th {\n",
       "        text-align: right;\n",
       "    }\n",
       "</style>\n",
       "<table border=\"1\" class=\"dataframe\">\n",
       "  <thead>\n",
       "    <tr style=\"text-align: right;\">\n",
       "      <th></th>\n",
       "      <th>Country name</th>\n",
       "      <th>score</th>\n",
       "      <th>Log GDP per capita</th>\n",
       "      <th>Social support</th>\n",
       "      <th>Healthy life expectancy</th>\n",
       "      <th>Freedom to make life choices</th>\n",
       "      <th>Generosity</th>\n",
       "      <th>Perceptions of corruption</th>\n",
       "      <th>Dystopia + residual</th>\n",
       "      <th>Happiness_Category</th>\n",
       "    </tr>\n",
       "  </thead>\n",
       "  <tbody>\n",
       "    <tr>\n",
       "      <th>0</th>\n",
       "      <td>Finland</td>\n",
       "      <td>7.741</td>\n",
       "      <td>1.844</td>\n",
       "      <td>1.572</td>\n",
       "      <td>0.695</td>\n",
       "      <td>0.859</td>\n",
       "      <td>0.142</td>\n",
       "      <td>0.546</td>\n",
       "      <td>2.082</td>\n",
       "      <td>High</td>\n",
       "    </tr>\n",
       "    <tr>\n",
       "      <th>1</th>\n",
       "      <td>Denmark</td>\n",
       "      <td>7.583</td>\n",
       "      <td>1.908</td>\n",
       "      <td>1.520</td>\n",
       "      <td>0.699</td>\n",
       "      <td>0.823</td>\n",
       "      <td>0.204</td>\n",
       "      <td>0.548</td>\n",
       "      <td>1.881</td>\n",
       "      <td>High</td>\n",
       "    </tr>\n",
       "    <tr>\n",
       "      <th>2</th>\n",
       "      <td>Iceland</td>\n",
       "      <td>7.525</td>\n",
       "      <td>1.881</td>\n",
       "      <td>1.617</td>\n",
       "      <td>0.718</td>\n",
       "      <td>0.819</td>\n",
       "      <td>0.258</td>\n",
       "      <td>0.182</td>\n",
       "      <td>2.050</td>\n",
       "      <td>High</td>\n",
       "    </tr>\n",
       "  </tbody>\n",
       "</table>\n",
       "</div>"
      ],
      "text/plain": [
       "  Country name  score  Log GDP per capita  Social support  \\\n",
       "0      Finland  7.741               1.844           1.572   \n",
       "1      Denmark  7.583               1.908           1.520   \n",
       "2      Iceland  7.525               1.881           1.617   \n",
       "\n",
       "   Healthy life expectancy  Freedom to make life choices  Generosity  \\\n",
       "0                    0.695                         0.859       0.142   \n",
       "1                    0.699                         0.823       0.204   \n",
       "2                    0.718                         0.819       0.258   \n",
       "\n",
       "   Perceptions of corruption  Dystopia + residual Happiness_Category  \n",
       "0                      0.546                2.082               High  \n",
       "1                      0.548                1.881               High  \n",
       "2                      0.182                2.050               High  "
      ]
     },
     "execution_count": 253,
     "metadata": {},
     "output_type": "execute_result"
    }
   ],
   "source": [
    "#1)\n",
    "df1 = df[df[\"score\"]>7.5]\n",
    "df1"
   ]
  },
  {
   "cell_type": "code",
   "execution_count": 257,
   "metadata": {
    "colab": {
     "base_uri": "https://localhost:8080/",
     "height": 547
    },
    "id": "_O_1ejW006zf",
    "outputId": "4acb79c6-69b7-4776-e900-cc8a291cecfc"
   },
   "outputs": [
    {
     "data": {
      "text/html": [
       "<div>\n",
       "<style scoped>\n",
       "    .dataframe tbody tr th:only-of-type {\n",
       "        vertical-align: middle;\n",
       "    }\n",
       "\n",
       "    .dataframe tbody tr th {\n",
       "        vertical-align: top;\n",
       "    }\n",
       "\n",
       "    .dataframe thead th {\n",
       "        text-align: right;\n",
       "    }\n",
       "</style>\n",
       "<table border=\"1\" class=\"dataframe\">\n",
       "  <thead>\n",
       "    <tr style=\"text-align: right;\">\n",
       "      <th></th>\n",
       "      <th>Country name</th>\n",
       "      <th>score</th>\n",
       "      <th>Log GDP per capita</th>\n",
       "      <th>Social support</th>\n",
       "      <th>Healthy life expectancy</th>\n",
       "      <th>Freedom to make life choices</th>\n",
       "      <th>Generosity</th>\n",
       "      <th>Perceptions of corruption</th>\n",
       "      <th>Dystopia + residual</th>\n",
       "      <th>Happiness_Category</th>\n",
       "    </tr>\n",
       "  </thead>\n",
       "  <tbody>\n",
       "    <tr>\n",
       "      <th>7</th>\n",
       "      <td>Luxembourg</td>\n",
       "      <td>7.122</td>\n",
       "      <td>2.141</td>\n",
       "      <td>1.355</td>\n",
       "      <td>0.708</td>\n",
       "      <td>0.801</td>\n",
       "      <td>0.146</td>\n",
       "      <td>0.432</td>\n",
       "      <td>1.540</td>\n",
       "      <td>High</td>\n",
       "    </tr>\n",
       "    <tr>\n",
       "      <th>16</th>\n",
       "      <td>Ireland</td>\n",
       "      <td>6.838</td>\n",
       "      <td>2.129</td>\n",
       "      <td>1.390</td>\n",
       "      <td>0.700</td>\n",
       "      <td>0.758</td>\n",
       "      <td>0.205</td>\n",
       "      <td>0.418</td>\n",
       "      <td>1.239</td>\n",
       "      <td>High</td>\n",
       "    </tr>\n",
       "    <tr>\n",
       "      <th>29</th>\n",
       "      <td>Singapore</td>\n",
       "      <td>6.523</td>\n",
       "      <td>2.118</td>\n",
       "      <td>1.361</td>\n",
       "      <td>0.769</td>\n",
       "      <td>0.743</td>\n",
       "      <td>0.168</td>\n",
       "      <td>0.575</td>\n",
       "      <td>0.788</td>\n",
       "      <td>High</td>\n",
       "    </tr>\n",
       "    <tr>\n",
       "      <th>21</th>\n",
       "      <td>United Arab Emirates</td>\n",
       "      <td>6.733</td>\n",
       "      <td>1.983</td>\n",
       "      <td>1.164</td>\n",
       "      <td>0.563</td>\n",
       "      <td>0.815</td>\n",
       "      <td>0.209</td>\n",
       "      <td>0.258</td>\n",
       "      <td>1.741</td>\n",
       "      <td>High</td>\n",
       "    </tr>\n",
       "    <tr>\n",
       "      <th>8</th>\n",
       "      <td>Switzerland</td>\n",
       "      <td>7.060</td>\n",
       "      <td>1.970</td>\n",
       "      <td>1.425</td>\n",
       "      <td>0.747</td>\n",
       "      <td>0.759</td>\n",
       "      <td>0.173</td>\n",
       "      <td>0.498</td>\n",
       "      <td>1.488</td>\n",
       "      <td>High</td>\n",
       "    </tr>\n",
       "    <tr>\n",
       "      <th>6</th>\n",
       "      <td>Norway</td>\n",
       "      <td>7.302</td>\n",
       "      <td>1.952</td>\n",
       "      <td>1.517</td>\n",
       "      <td>0.704</td>\n",
       "      <td>0.835</td>\n",
       "      <td>0.224</td>\n",
       "      <td>0.484</td>\n",
       "      <td>1.586</td>\n",
       "      <td>High</td>\n",
       "    </tr>\n",
       "    <tr>\n",
       "      <th>22</th>\n",
       "      <td>United States</td>\n",
       "      <td>6.725</td>\n",
       "      <td>1.939</td>\n",
       "      <td>1.392</td>\n",
       "      <td>0.542</td>\n",
       "      <td>0.586</td>\n",
       "      <td>0.223</td>\n",
       "      <td>0.169</td>\n",
       "      <td>1.873</td>\n",
       "      <td>High</td>\n",
       "    </tr>\n",
       "    <tr>\n",
       "      <th>85</th>\n",
       "      <td>Hong Kong S.A.R. of China</td>\n",
       "      <td>5.316</td>\n",
       "      <td>1.909</td>\n",
       "      <td>1.184</td>\n",
       "      <td>0.857</td>\n",
       "      <td>0.485</td>\n",
       "      <td>0.147</td>\n",
       "      <td>0.402</td>\n",
       "      <td>0.333</td>\n",
       "      <td>Medium</td>\n",
       "    </tr>\n",
       "    <tr>\n",
       "      <th>1</th>\n",
       "      <td>Denmark</td>\n",
       "      <td>7.583</td>\n",
       "      <td>1.908</td>\n",
       "      <td>1.520</td>\n",
       "      <td>0.699</td>\n",
       "      <td>0.823</td>\n",
       "      <td>0.204</td>\n",
       "      <td>0.548</td>\n",
       "      <td>1.881</td>\n",
       "      <td>High</td>\n",
       "    </tr>\n",
       "    <tr>\n",
       "      <th>5</th>\n",
       "      <td>Netherlands</td>\n",
       "      <td>7.319</td>\n",
       "      <td>1.901</td>\n",
       "      <td>1.462</td>\n",
       "      <td>0.706</td>\n",
       "      <td>0.725</td>\n",
       "      <td>0.247</td>\n",
       "      <td>0.372</td>\n",
       "      <td>1.906</td>\n",
       "      <td>High</td>\n",
       "    </tr>\n",
       "  </tbody>\n",
       "</table>\n",
       "</div>"
      ],
      "text/plain": [
       "                 Country name  score  Log GDP per capita  Social support  \\\n",
       "7                  Luxembourg  7.122               2.141           1.355   \n",
       "16                    Ireland  6.838               2.129           1.390   \n",
       "29                  Singapore  6.523               2.118           1.361   \n",
       "21       United Arab Emirates  6.733               1.983           1.164   \n",
       "8                 Switzerland  7.060               1.970           1.425   \n",
       "6                      Norway  7.302               1.952           1.517   \n",
       "22              United States  6.725               1.939           1.392   \n",
       "85  Hong Kong S.A.R. of China  5.316               1.909           1.184   \n",
       "1                     Denmark  7.583               1.908           1.520   \n",
       "5                 Netherlands  7.319               1.901           1.462   \n",
       "\n",
       "    Healthy life expectancy  Freedom to make life choices  Generosity  \\\n",
       "7                     0.708                         0.801       0.146   \n",
       "16                    0.700                         0.758       0.205   \n",
       "29                    0.769                         0.743       0.168   \n",
       "21                    0.563                         0.815       0.209   \n",
       "8                     0.747                         0.759       0.173   \n",
       "6                     0.704                         0.835       0.224   \n",
       "22                    0.542                         0.586       0.223   \n",
       "85                    0.857                         0.485       0.147   \n",
       "1                     0.699                         0.823       0.204   \n",
       "5                     0.706                         0.725       0.247   \n",
       "\n",
       "    Perceptions of corruption  Dystopia + residual Happiness_Category  \n",
       "7                       0.432                1.540               High  \n",
       "16                      0.418                1.239               High  \n",
       "29                      0.575                0.788               High  \n",
       "21                      0.258                1.741               High  \n",
       "8                       0.498                1.488               High  \n",
       "6                       0.484                1.586               High  \n",
       "22                      0.169                1.873               High  \n",
       "85                      0.402                0.333             Medium  \n",
       "1                       0.548                1.881               High  \n",
       "5                       0.372                1.906               High  "
      ]
     },
     "execution_count": 257,
     "metadata": {},
     "output_type": "execute_result"
    }
   ],
   "source": [
    "#2)\n",
    "df2 = (df.sort_values(by=\"Log GDP per capita\",ascending=False)).head(10)\n",
    "df2"
   ]
  },
  {
   "cell_type": "markdown",
   "metadata": {
    "id": "mO_RWWW914qC"
   },
   "source": [
    "<h2>Adding New Columns:</h2>"
   ]
  },
  {
   "cell_type": "code",
   "execution_count": 261,
   "metadata": {
    "colab": {
     "base_uri": "https://localhost:8080/",
     "height": 278
    },
    "id": "XwbtEFNA1ktA",
    "outputId": "2e7b4e3b-0eab-42be-d5a2-d22686ec7be5"
   },
   "outputs": [
    {
     "data": {
      "text/html": [
       "<div>\n",
       "<style scoped>\n",
       "    .dataframe tbody tr th:only-of-type {\n",
       "        vertical-align: middle;\n",
       "    }\n",
       "\n",
       "    .dataframe tbody tr th {\n",
       "        vertical-align: top;\n",
       "    }\n",
       "\n",
       "    .dataframe thead th {\n",
       "        text-align: right;\n",
       "    }\n",
       "</style>\n",
       "<table border=\"1\" class=\"dataframe\">\n",
       "  <thead>\n",
       "    <tr style=\"text-align: right;\">\n",
       "      <th></th>\n",
       "      <th>Country name</th>\n",
       "      <th>score</th>\n",
       "      <th>Log GDP per capita</th>\n",
       "      <th>Social support</th>\n",
       "      <th>Healthy life expectancy</th>\n",
       "      <th>Freedom to make life choices</th>\n",
       "      <th>Generosity</th>\n",
       "      <th>Perceptions of corruption</th>\n",
       "      <th>Dystopia + residual</th>\n",
       "      <th>Happiness_Category</th>\n",
       "    </tr>\n",
       "  </thead>\n",
       "  <tbody>\n",
       "    <tr>\n",
       "      <th>0</th>\n",
       "      <td>Finland</td>\n",
       "      <td>7.741</td>\n",
       "      <td>1.844</td>\n",
       "      <td>1.572</td>\n",
       "      <td>0.695</td>\n",
       "      <td>0.859</td>\n",
       "      <td>0.142</td>\n",
       "      <td>0.546</td>\n",
       "      <td>2.082</td>\n",
       "      <td>High</td>\n",
       "    </tr>\n",
       "    <tr>\n",
       "      <th>1</th>\n",
       "      <td>Denmark</td>\n",
       "      <td>7.583</td>\n",
       "      <td>1.908</td>\n",
       "      <td>1.520</td>\n",
       "      <td>0.699</td>\n",
       "      <td>0.823</td>\n",
       "      <td>0.204</td>\n",
       "      <td>0.548</td>\n",
       "      <td>1.881</td>\n",
       "      <td>High</td>\n",
       "    </tr>\n",
       "    <tr>\n",
       "      <th>2</th>\n",
       "      <td>Iceland</td>\n",
       "      <td>7.525</td>\n",
       "      <td>1.881</td>\n",
       "      <td>1.617</td>\n",
       "      <td>0.718</td>\n",
       "      <td>0.819</td>\n",
       "      <td>0.258</td>\n",
       "      <td>0.182</td>\n",
       "      <td>2.050</td>\n",
       "      <td>High</td>\n",
       "    </tr>\n",
       "    <tr>\n",
       "      <th>3</th>\n",
       "      <td>Sweden</td>\n",
       "      <td>7.344</td>\n",
       "      <td>1.878</td>\n",
       "      <td>1.501</td>\n",
       "      <td>0.724</td>\n",
       "      <td>0.838</td>\n",
       "      <td>0.221</td>\n",
       "      <td>0.524</td>\n",
       "      <td>1.658</td>\n",
       "      <td>High</td>\n",
       "    </tr>\n",
       "    <tr>\n",
       "      <th>4</th>\n",
       "      <td>Israel</td>\n",
       "      <td>7.341</td>\n",
       "      <td>1.803</td>\n",
       "      <td>1.513</td>\n",
       "      <td>0.740</td>\n",
       "      <td>0.641</td>\n",
       "      <td>0.153</td>\n",
       "      <td>0.193</td>\n",
       "      <td>2.298</td>\n",
       "      <td>High</td>\n",
       "    </tr>\n",
       "  </tbody>\n",
       "</table>\n",
       "</div>"
      ],
      "text/plain": [
       "  Country name  score  Log GDP per capita  Social support  \\\n",
       "0      Finland  7.741               1.844           1.572   \n",
       "1      Denmark  7.583               1.908           1.520   \n",
       "2      Iceland  7.525               1.881           1.617   \n",
       "3       Sweden  7.344               1.878           1.501   \n",
       "4       Israel  7.341               1.803           1.513   \n",
       "\n",
       "   Healthy life expectancy  Freedom to make life choices  Generosity  \\\n",
       "0                    0.695                         0.859       0.142   \n",
       "1                    0.699                         0.823       0.204   \n",
       "2                    0.718                         0.819       0.258   \n",
       "3                    0.724                         0.838       0.221   \n",
       "4                    0.740                         0.641       0.153   \n",
       "\n",
       "   Perceptions of corruption  Dystopia + residual Happiness_Category  \n",
       "0                      0.546                2.082               High  \n",
       "1                      0.548                1.881               High  \n",
       "2                      0.182                2.050               High  \n",
       "3                      0.524                1.658               High  \n",
       "4                      0.193                2.298               High  "
      ]
     },
     "execution_count": 261,
     "metadata": {},
     "output_type": "execute_result"
    }
   ],
   "source": [
    "#1)\n",
    "df['Happiness_Category'] = df['score'].apply(lambda x: 'Low' if x < 4 else ('Medium' if 4 <= x <= 6 else 'High'))\n",
    "df.head()"
   ]
  },
  {
   "cell_type": "markdown",
   "metadata": {
    "id": "9DzSAGvf3b7A"
   },
   "source": [
    "<h2>2 - Data Visualizations:</h2>"
   ]
  },
  {
   "cell_type": "code",
   "execution_count": 263,
   "metadata": {
    "colab": {
     "base_uri": "https://localhost:8080/",
     "height": 496
    },
    "id": "8Sjdkm_E2S9R",
    "outputId": "f6c6cd4c-5117-433a-acf6-a3fdb7699c29"
   },
   "outputs": [
    {
     "data": {
      "image/png": "[encoded data removed]",
      "text/plain": [
       "<Figure size 1000x600 with 1 Axes>"
      ]
     },
     "metadata": {},
     "output_type": "display_data"
    }
   ],
   "source": [
    "#1) Bar-plot\n",
    "top10_happiest = df.sort_values(by='score', ascending=False).head(10)\n",
    "\n",
    "plt.figure(figsize=(10, 6))\n",
    "sns.barplot(x='Country name', y='score', data=top10_happiest)\n",
    "plt.title('Top 10 Countries by Happiness Score')\n",
    "plt.xlabel('Country')\n",
    "plt.ylabel('Happiness Score')\n",
    "plt.show()"
   ]
  },
  {
   "cell_type": "code",
   "execution_count": 265,
   "metadata": {
    "colab": {
     "base_uri": "https://localhost:8080/",
     "height": 484
    },
    "id": "7vGmJ-hc4WVW",
    "outputId": "08e5b36d-ddde-4ac6-c4d7-0ff37524bb37"
   },
   "outputs": [
    {
     "data": {
      "image/png": "[encoded data removed]",
      "text/plain": [
       "<Figure size 1000x600 with 1 Axes>"
      ]
     },
     "metadata": {},
     "output_type": "display_data"
    }
   ],
   "source": [
    "#2) line-plot\n",
    "top10_unhappiest = df.sort_values(by='score', ascending=True).head(10)\n",
    "\n",
    "plt.figure(figsize=(10, 6))\n",
    "sns.lineplot(x='Country name', y='score', data=top10_unhappiest)\n",
    "plt.title('Top 10 Countries by Unhappiness Score')\n",
    "plt.xlabel('Country')\n",
    "plt.ylabel('Unhappiness Score')\n",
    "plt.show()"
   ]
  },
  {
   "cell_type": "code",
   "execution_count": 267,
   "metadata": {
    "colab": {
     "base_uri": "https://localhost:8080/",
     "height": 484
    },
    "id": "O4XYcMG747ny",
    "outputId": "5e5b453e-011c-4108-c605-1b24c6542e33"
   },
   "outputs": [
    {
     "data": {
      "image/png": "[encoded data removed]",
      "text/plain": [
       "<Figure size 1000x600 with 1 Axes>"
      ]
     },
     "metadata": {},
     "output_type": "display_data"
    }
   ],
   "source": [
    "#3) histogram\n",
    "plt.figure(figsize=(10, 6))\n",
    "sns.histplot(df['score'])\n",
    "plt.xlabel('Happiness Score')\n",
    "plt.ylabel('Frequency')\n",
    "plt.title('Distribution of Happiness Scores')\n",
    "plt.show()"
   ]
  },
  {
   "cell_type": "code",
   "execution_count": 269,
   "metadata": {
    "colab": {
     "base_uri": "https://localhost:8080/",
     "height": 496
    },
    "id": "612Lyhnk5Qfb",
    "outputId": "9a27c9af-4ce6-490c-d2cb-3b09b761e9ca"
   },
   "outputs": [
    {
     "data": {
      "image/png": "[encoded data removed]",
      "text/plain": [
       "<Figure size 1000x600 with 1 Axes>"
      ]
     },
     "metadata": {},
     "output_type": "display_data"
    }
   ],
   "source": [
    "#4) Scatter Plot:\n",
    "plt.figure(figsize=(10, 6))\n",
    "sns.scatterplot(x='Log GDP per capita', y='score', data=df)\n",
    "plt.title('Score vs. Log GDP per Capita')\n",
    "plt.xlabel('Log GDP per Capita')\n",
    "plt.ylabel('Score')\n",
    "plt.show()"
   ]
  },
  {
   "cell_type": "markdown",
   "metadata": {
    "id": "KLXiNqKV6Sgz"
   },
   "source": [
    "<h2>3.2) Problem - 2 - Some Advance Data Exploration Task:</h2>"
   ]
  },
  {
   "cell_type": "markdown",
   "metadata": {
    "id": "Rs0wTOns7Y8_"
   },
   "source": [
    "<h2>Task - 1 - Setup Task - Preparing the South-Asia Dataset:</h2>"
   ]
  },
  {
   "cell_type": "code",
   "execution_count": 90,
   "metadata": {
    "id": "i_7aurng581y"
   },
   "outputs": [],
   "source": [
    "#1)\n",
    "south_asian_countries = [\n",
    "    \"Afghanistan\", \"Bangladesh\", \"Bhutan\", \"India\",\"Maldives\", \"Nepal\", \"Pakistan\", \"Sri Lanka\"\n",
    "]\n"
   ]
  },
  {
   "cell_type": "code",
   "execution_count": 91,
   "metadata": {
    "colab": {
     "base_uri": "https://localhost:8080/",
     "height": 309
    },
    "id": "agwgkLM-7Xyz",
    "outputId": "fb3b60c1-6265-4122-bc6e-d8ede20da896"
   },
   "outputs": [
    {
     "data": {
      "text/html": [
       "<div>\n",
       "<style scoped>\n",
       "    .dataframe tbody tr th:only-of-type {\n",
       "        vertical-align: middle;\n",
       "    }\n",
       "\n",
       "    .dataframe tbody tr th {\n",
       "        vertical-align: top;\n",
       "    }\n",
       "\n",
       "    .dataframe thead th {\n",
       "        text-align: right;\n",
       "    }\n",
       "</style>\n",
       "<table border=\"1\" class=\"dataframe\">\n",
       "  <thead>\n",
       "    <tr style=\"text-align: right;\">\n",
       "      <th></th>\n",
       "      <th>Country name</th>\n",
       "      <th>score</th>\n",
       "      <th>Log GDP per capita</th>\n",
       "      <th>Social support</th>\n",
       "      <th>Healthy life expectancy</th>\n",
       "      <th>Freedom to make life choices</th>\n",
       "      <th>Generosity</th>\n",
       "      <th>Perceptions of corruption</th>\n",
       "      <th>Dystopia + residual</th>\n",
       "      <th>Happiness_Category</th>\n",
       "    </tr>\n",
       "  </thead>\n",
       "  <tbody>\n",
       "    <tr>\n",
       "      <th>142</th>\n",
       "      <td>Afghanistan</td>\n",
       "      <td>1.721</td>\n",
       "      <td>0.628</td>\n",
       "      <td>0.000</td>\n",
       "      <td>0.242</td>\n",
       "      <td>0.000</td>\n",
       "      <td>0.091</td>\n",
       "      <td>0.088</td>\n",
       "      <td>0.672</td>\n",
       "      <td>Low</td>\n",
       "    </tr>\n",
       "    <tr>\n",
       "      <th>128</th>\n",
       "      <td>Bangladesh</td>\n",
       "      <td>3.886</td>\n",
       "      <td>1.122</td>\n",
       "      <td>0.249</td>\n",
       "      <td>0.513</td>\n",
       "      <td>0.775</td>\n",
       "      <td>0.140</td>\n",
       "      <td>0.167</td>\n",
       "      <td>0.919</td>\n",
       "      <td>Low</td>\n",
       "    </tr>\n",
       "    <tr>\n",
       "      <th>125</th>\n",
       "      <td>India</td>\n",
       "      <td>4.054</td>\n",
       "      <td>1.166</td>\n",
       "      <td>0.653</td>\n",
       "      <td>0.417</td>\n",
       "      <td>0.767</td>\n",
       "      <td>0.174</td>\n",
       "      <td>0.122</td>\n",
       "      <td>0.756</td>\n",
       "      <td>Medium</td>\n",
       "    </tr>\n",
       "    <tr>\n",
       "      <th>92</th>\n",
       "      <td>Nepal</td>\n",
       "      <td>5.158</td>\n",
       "      <td>0.965</td>\n",
       "      <td>0.990</td>\n",
       "      <td>0.443</td>\n",
       "      <td>0.653</td>\n",
       "      <td>0.209</td>\n",
       "      <td>0.115</td>\n",
       "      <td>1.783</td>\n",
       "      <td>Medium</td>\n",
       "    </tr>\n",
       "    <tr>\n",
       "      <th>107</th>\n",
       "      <td>Pakistan</td>\n",
       "      <td>4.657</td>\n",
       "      <td>1.069</td>\n",
       "      <td>0.600</td>\n",
       "      <td>0.321</td>\n",
       "      <td>0.542</td>\n",
       "      <td>0.144</td>\n",
       "      <td>0.074</td>\n",
       "      <td>1.907</td>\n",
       "      <td>Medium</td>\n",
       "    </tr>\n",
       "    <tr>\n",
       "      <th>127</th>\n",
       "      <td>Sri Lanka</td>\n",
       "      <td>3.898</td>\n",
       "      <td>1.361</td>\n",
       "      <td>1.179</td>\n",
       "      <td>0.586</td>\n",
       "      <td>0.583</td>\n",
       "      <td>0.144</td>\n",
       "      <td>0.031</td>\n",
       "      <td>0.014</td>\n",
       "      <td>Low</td>\n",
       "    </tr>\n",
       "  </tbody>\n",
       "</table>\n",
       "</div>"
      ],
      "text/plain": [
       "    Country name  score  Log GDP per capita  Social support  \\\n",
       "142  Afghanistan  1.721               0.628           0.000   \n",
       "128   Bangladesh  3.886               1.122           0.249   \n",
       "125        India  4.054               1.166           0.653   \n",
       "92         Nepal  5.158               0.965           0.990   \n",
       "107     Pakistan  4.657               1.069           0.600   \n",
       "127    Sri Lanka  3.898               1.361           1.179   \n",
       "\n",
       "     Healthy life expectancy  Freedom to make life choices  Generosity  \\\n",
       "142                    0.242                         0.000       0.091   \n",
       "128                    0.513                         0.775       0.140   \n",
       "125                    0.417                         0.767       0.174   \n",
       "92                     0.443                         0.653       0.209   \n",
       "107                    0.321                         0.542       0.144   \n",
       "127                    0.586                         0.583       0.144   \n",
       "\n",
       "     Perceptions of corruption  Dystopia + residual Happiness_Category  \n",
       "142                      0.088                0.672                Low  \n",
       "128                      0.167                0.919                Low  \n",
       "125                      0.122                0.756             Medium  \n",
       "92                       0.115                1.783             Medium  \n",
       "107                      0.074                1.907             Medium  \n",
       "127                      0.031                0.014                Low  "
      ]
     },
     "execution_count": 91,
     "metadata": {},
     "output_type": "execute_result"
    }
   ],
   "source": [
    "#2)\n",
    "#maldives ra bhutan xina\n",
    "def filter_country(lists):\n",
    "    new_df = pd.DataFrame()\n",
    "    for i in lists:\n",
    "        if i in df['Country name'].values:\n",
    "            new_df = pd.concat([new_df, df[df['Country name'] == i]])\n",
    "\n",
    "    return new_df\n",
    "\n",
    "filtered_df = filter_country(south_asian_countries)\n",
    "filtered_df\n"
   ]
  },
  {
   "cell_type": "code",
   "execution_count": 92,
   "metadata": {
    "colab": {
     "base_uri": "https://localhost:8080/"
    },
    "id": "pj1abX9476hj",
    "outputId": "5a28f687-41fe-4ef9-ca90-108264ac77a0"
   },
   "outputs": [
    {
     "name": "stdout",
     "output_type": "stream",
     "text": [
      "Filtered dataset saved as 'south_asian_countries.csv'\n"
     ]
    }
   ],
   "source": [
    "#3)\n",
    "filtered_df.to_csv('south_asian_countries.csv', index=False)\n",
    "\n",
    "print(\"Filtered dataset saved as 'south_asian_countries.csv'\")\n"
   ]
  },
  {
   "cell_type": "code",
   "execution_count": 122,
   "metadata": {
    "colab": {
     "base_uri": "https://localhost:8080/",
     "height": 309
    },
    "id": "K9TiUMstONpX",
    "outputId": "204e44d1-4f66-47f7-ccd6-b1fff82a525b"
   },
   "outputs": [
    {
     "data": {
      "text/html": [
       "<div>\n",
       "<style scoped>\n",
       "    .dataframe tbody tr th:only-of-type {\n",
       "        vertical-align: middle;\n",
       "    }\n",
       "\n",
       "    .dataframe tbody tr th {\n",
       "        vertical-align: top;\n",
       "    }\n",
       "\n",
       "    .dataframe thead th {\n",
       "        text-align: right;\n",
       "    }\n",
       "</style>\n",
       "<table border=\"1\" class=\"dataframe\">\n",
       "  <thead>\n",
       "    <tr style=\"text-align: right;\">\n",
       "      <th></th>\n",
       "      <th>Country name</th>\n",
       "      <th>score</th>\n",
       "      <th>Log GDP per capita</th>\n",
       "      <th>Social support</th>\n",
       "      <th>Healthy life expectancy</th>\n",
       "      <th>Freedom to make life choices</th>\n",
       "      <th>Generosity</th>\n",
       "      <th>Perceptions of corruption</th>\n",
       "      <th>Dystopia + residual</th>\n",
       "      <th>Happiness_Category</th>\n",
       "    </tr>\n",
       "  </thead>\n",
       "  <tbody>\n",
       "    <tr>\n",
       "      <th>0</th>\n",
       "      <td>Afghanistan</td>\n",
       "      <td>1.721</td>\n",
       "      <td>0.628</td>\n",
       "      <td>0.000</td>\n",
       "      <td>0.242</td>\n",
       "      <td>0.000</td>\n",
       "      <td>0.091</td>\n",
       "      <td>0.088</td>\n",
       "      <td>0.672</td>\n",
       "      <td>Low</td>\n",
       "    </tr>\n",
       "    <tr>\n",
       "      <th>1</th>\n",
       "      <td>Bangladesh</td>\n",
       "      <td>3.886</td>\n",
       "      <td>1.122</td>\n",
       "      <td>0.249</td>\n",
       "      <td>0.513</td>\n",
       "      <td>0.775</td>\n",
       "      <td>0.140</td>\n",
       "      <td>0.167</td>\n",
       "      <td>0.919</td>\n",
       "      <td>Low</td>\n",
       "    </tr>\n",
       "    <tr>\n",
       "      <th>2</th>\n",
       "      <td>India</td>\n",
       "      <td>4.054</td>\n",
       "      <td>1.166</td>\n",
       "      <td>0.653</td>\n",
       "      <td>0.417</td>\n",
       "      <td>0.767</td>\n",
       "      <td>0.174</td>\n",
       "      <td>0.122</td>\n",
       "      <td>0.756</td>\n",
       "      <td>Medium</td>\n",
       "    </tr>\n",
       "    <tr>\n",
       "      <th>3</th>\n",
       "      <td>Nepal</td>\n",
       "      <td>5.158</td>\n",
       "      <td>0.965</td>\n",
       "      <td>0.990</td>\n",
       "      <td>0.443</td>\n",
       "      <td>0.653</td>\n",
       "      <td>0.209</td>\n",
       "      <td>0.115</td>\n",
       "      <td>1.783</td>\n",
       "      <td>Medium</td>\n",
       "    </tr>\n",
       "    <tr>\n",
       "      <th>4</th>\n",
       "      <td>Pakistan</td>\n",
       "      <td>4.657</td>\n",
       "      <td>1.069</td>\n",
       "      <td>0.600</td>\n",
       "      <td>0.321</td>\n",
       "      <td>0.542</td>\n",
       "      <td>0.144</td>\n",
       "      <td>0.074</td>\n",
       "      <td>1.907</td>\n",
       "      <td>Medium</td>\n",
       "    </tr>\n",
       "    <tr>\n",
       "      <th>5</th>\n",
       "      <td>Sri Lanka</td>\n",
       "      <td>3.898</td>\n",
       "      <td>1.361</td>\n",
       "      <td>1.179</td>\n",
       "      <td>0.586</td>\n",
       "      <td>0.583</td>\n",
       "      <td>0.144</td>\n",
       "      <td>0.031</td>\n",
       "      <td>0.014</td>\n",
       "      <td>Low</td>\n",
       "    </tr>\n",
       "  </tbody>\n",
       "</table>\n",
       "</div>"
      ],
      "text/plain": [
       "  Country name  score  Log GDP per capita  Social support  \\\n",
       "0  Afghanistan  1.721               0.628           0.000   \n",
       "1   Bangladesh  3.886               1.122           0.249   \n",
       "2        India  4.054               1.166           0.653   \n",
       "3        Nepal  5.158               0.965           0.990   \n",
       "4     Pakistan  4.657               1.069           0.600   \n",
       "5    Sri Lanka  3.898               1.361           1.179   \n",
       "\n",
       "   Healthy life expectancy  Freedom to make life choices  Generosity  \\\n",
       "0                    0.242                         0.000       0.091   \n",
       "1                    0.513                         0.775       0.140   \n",
       "2                    0.417                         0.767       0.174   \n",
       "3                    0.443                         0.653       0.209   \n",
       "4                    0.321                         0.542       0.144   \n",
       "5                    0.586                         0.583       0.144   \n",
       "\n",
       "   Perceptions of corruption  Dystopia + residual Happiness_Category  \n",
       "0                      0.088                0.672                Low  \n",
       "1                      0.167                0.919                Low  \n",
       "2                      0.122                0.756             Medium  \n",
       "3                      0.115                1.783             Medium  \n",
       "4                      0.074                1.907             Medium  \n",
       "5                      0.031                0.014                Low  "
      ]
     },
     "execution_count": 122,
     "metadata": {},
     "output_type": "execute_result"
    }
   ],
   "source": [
    "South_asian = pd.read_csv('south_asian_countries.csv')\n",
    "South_asian"
   ]
  },
  {
   "cell_type": "markdown",
   "metadata": {
    "id": "2Xpj9ehz-hvH"
   },
   "source": [
    "<h2>Task - 2 - Composite Score Ranking:</h2>"
   ]
  },
  {
   "cell_type": "code",
   "execution_count": 125,
   "metadata": {
    "colab": {
     "base_uri": "https://localhost:8080/",
     "height": 278
    },
    "id": "T6T9MUt3-E5K",
    "outputId": "37b5cad2-b1f8-4bf1-8af6-c8e46cfa4a71"
   },
   "outputs": [
    {
     "data": {
      "text/html": [
       "<div>\n",
       "<style scoped>\n",
       "    .dataframe tbody tr th:only-of-type {\n",
       "        vertical-align: middle;\n",
       "    }\n",
       "\n",
       "    .dataframe tbody tr th {\n",
       "        vertical-align: top;\n",
       "    }\n",
       "\n",
       "    .dataframe thead th {\n",
       "        text-align: right;\n",
       "    }\n",
       "</style>\n",
       "<table border=\"1\" class=\"dataframe\">\n",
       "  <thead>\n",
       "    <tr style=\"text-align: right;\">\n",
       "      <th></th>\n",
       "      <th>Country name</th>\n",
       "      <th>score</th>\n",
       "      <th>Log GDP per capita</th>\n",
       "      <th>Social support</th>\n",
       "      <th>Healthy life expectancy</th>\n",
       "      <th>Freedom to make life choices</th>\n",
       "      <th>Generosity</th>\n",
       "      <th>Perceptions of corruption</th>\n",
       "      <th>Dystopia + residual</th>\n",
       "      <th>Happiness_Category</th>\n",
       "      <th>Composite_Score</th>\n",
       "    </tr>\n",
       "  </thead>\n",
       "  <tbody>\n",
       "    <tr>\n",
       "      <th>0</th>\n",
       "      <td>Afghanistan</td>\n",
       "      <td>1.721</td>\n",
       "      <td>0.628</td>\n",
       "      <td>0.000</td>\n",
       "      <td>0.242</td>\n",
       "      <td>0.000</td>\n",
       "      <td>0.091</td>\n",
       "      <td>0.088</td>\n",
       "      <td>0.672</td>\n",
       "      <td>Low</td>\n",
       "      <td>0.3238</td>\n",
       "    </tr>\n",
       "    <tr>\n",
       "      <th>1</th>\n",
       "      <td>Bangladesh</td>\n",
       "      <td>3.886</td>\n",
       "      <td>1.122</td>\n",
       "      <td>0.249</td>\n",
       "      <td>0.513</td>\n",
       "      <td>0.775</td>\n",
       "      <td>0.140</td>\n",
       "      <td>0.167</td>\n",
       "      <td>0.919</td>\n",
       "      <td>Low</td>\n",
       "      <td>0.6774</td>\n",
       "    </tr>\n",
       "    <tr>\n",
       "      <th>2</th>\n",
       "      <td>India</td>\n",
       "      <td>4.054</td>\n",
       "      <td>1.166</td>\n",
       "      <td>0.653</td>\n",
       "      <td>0.417</td>\n",
       "      <td>0.767</td>\n",
       "      <td>0.174</td>\n",
       "      <td>0.122</td>\n",
       "      <td>0.756</td>\n",
       "      <td>Medium</td>\n",
       "      <td>0.7874</td>\n",
       "    </tr>\n",
       "    <tr>\n",
       "      <th>3</th>\n",
       "      <td>Nepal</td>\n",
       "      <td>5.158</td>\n",
       "      <td>0.965</td>\n",
       "      <td>0.990</td>\n",
       "      <td>0.443</td>\n",
       "      <td>0.653</td>\n",
       "      <td>0.209</td>\n",
       "      <td>0.115</td>\n",
       "      <td>1.783</td>\n",
       "      <td>Medium</td>\n",
       "      <td>0.8159</td>\n",
       "    </tr>\n",
       "    <tr>\n",
       "      <th>4</th>\n",
       "      <td>Pakistan</td>\n",
       "      <td>4.657</td>\n",
       "      <td>1.069</td>\n",
       "      <td>0.600</td>\n",
       "      <td>0.321</td>\n",
       "      <td>0.542</td>\n",
       "      <td>0.144</td>\n",
       "      <td>0.074</td>\n",
       "      <td>1.907</td>\n",
       "      <td>Medium</td>\n",
       "      <td>0.7039</td>\n",
       "    </tr>\n",
       "  </tbody>\n",
       "</table>\n",
       "</div>"
      ],
      "text/plain": [
       "  Country name  score  Log GDP per capita  Social support  \\\n",
       "0  Afghanistan  1.721               0.628           0.000   \n",
       "1   Bangladesh  3.886               1.122           0.249   \n",
       "2        India  4.054               1.166           0.653   \n",
       "3        Nepal  5.158               0.965           0.990   \n",
       "4     Pakistan  4.657               1.069           0.600   \n",
       "\n",
       "   Healthy life expectancy  Freedom to make life choices  Generosity  \\\n",
       "0                    0.242                         0.000       0.091   \n",
       "1                    0.513                         0.775       0.140   \n",
       "2                    0.417                         0.767       0.174   \n",
       "3                    0.443                         0.653       0.209   \n",
       "4                    0.321                         0.542       0.144   \n",
       "\n",
       "   Perceptions of corruption  Dystopia + residual Happiness_Category  \\\n",
       "0                      0.088                0.672                Low   \n",
       "1                      0.167                0.919                Low   \n",
       "2                      0.122                0.756             Medium   \n",
       "3                      0.115                1.783             Medium   \n",
       "4                      0.074                1.907             Medium   \n",
       "\n",
       "   Composite_Score  \n",
       "0           0.3238  \n",
       "1           0.6774  \n",
       "2           0.7874  \n",
       "3           0.8159  \n",
       "4           0.7039  "
      ]
     },
     "execution_count": 125,
     "metadata": {},
     "output_type": "execute_result"
    }
   ],
   "source": [
    "#1)\n",
    "South_asian['Composite_Score'] =0.40 * South_asian['Log GDP per capita'] + 0.30 * South_asian['Social support'] + 0.30 * South_asian['Healthy life expectancy']\n",
    "South_asian.head()"
   ]
  },
  {
   "cell_type": "code",
   "execution_count": 127,
   "metadata": {
    "colab": {
     "base_uri": "https://localhost:8080/",
     "height": 309
    },
    "id": "ZocxDoYPLhF2",
    "outputId": "4d084d25-eb26-46b5-c5fe-12532ae77233"
   },
   "outputs": [
    {
     "data": {
      "text/html": [
       "<div>\n",
       "<style scoped>\n",
       "    .dataframe tbody tr th:only-of-type {\n",
       "        vertical-align: middle;\n",
       "    }\n",
       "\n",
       "    .dataframe tbody tr th {\n",
       "        vertical-align: top;\n",
       "    }\n",
       "\n",
       "    .dataframe thead th {\n",
       "        text-align: right;\n",
       "    }\n",
       "</style>\n",
       "<table border=\"1\" class=\"dataframe\">\n",
       "  <thead>\n",
       "    <tr style=\"text-align: right;\">\n",
       "      <th></th>\n",
       "      <th>Country name</th>\n",
       "      <th>score</th>\n",
       "      <th>Log GDP per capita</th>\n",
       "      <th>Social support</th>\n",
       "      <th>Healthy life expectancy</th>\n",
       "      <th>Freedom to make life choices</th>\n",
       "      <th>Generosity</th>\n",
       "      <th>Perceptions of corruption</th>\n",
       "      <th>Dystopia + residual</th>\n",
       "      <th>Happiness_Category</th>\n",
       "      <th>Composite_Score</th>\n",
       "    </tr>\n",
       "  </thead>\n",
       "  <tbody>\n",
       "    <tr>\n",
       "      <th>5</th>\n",
       "      <td>Sri Lanka</td>\n",
       "      <td>3.898</td>\n",
       "      <td>1.361</td>\n",
       "      <td>1.179</td>\n",
       "      <td>0.586</td>\n",
       "      <td>0.583</td>\n",
       "      <td>0.144</td>\n",
       "      <td>0.031</td>\n",
       "      <td>0.014</td>\n",
       "      <td>Low</td>\n",
       "      <td>1.0739</td>\n",
       "    </tr>\n",
       "    <tr>\n",
       "      <th>3</th>\n",
       "      <td>Nepal</td>\n",
       "      <td>5.158</td>\n",
       "      <td>0.965</td>\n",
       "      <td>0.990</td>\n",
       "      <td>0.443</td>\n",
       "      <td>0.653</td>\n",
       "      <td>0.209</td>\n",
       "      <td>0.115</td>\n",
       "      <td>1.783</td>\n",
       "      <td>Medium</td>\n",
       "      <td>0.8159</td>\n",
       "    </tr>\n",
       "    <tr>\n",
       "      <th>2</th>\n",
       "      <td>India</td>\n",
       "      <td>4.054</td>\n",
       "      <td>1.166</td>\n",
       "      <td>0.653</td>\n",
       "      <td>0.417</td>\n",
       "      <td>0.767</td>\n",
       "      <td>0.174</td>\n",
       "      <td>0.122</td>\n",
       "      <td>0.756</td>\n",
       "      <td>Medium</td>\n",
       "      <td>0.7874</td>\n",
       "    </tr>\n",
       "    <tr>\n",
       "      <th>4</th>\n",
       "      <td>Pakistan</td>\n",
       "      <td>4.657</td>\n",
       "      <td>1.069</td>\n",
       "      <td>0.600</td>\n",
       "      <td>0.321</td>\n",
       "      <td>0.542</td>\n",
       "      <td>0.144</td>\n",
       "      <td>0.074</td>\n",
       "      <td>1.907</td>\n",
       "      <td>Medium</td>\n",
       "      <td>0.7039</td>\n",
       "    </tr>\n",
       "    <tr>\n",
       "      <th>1</th>\n",
       "      <td>Bangladesh</td>\n",
       "      <td>3.886</td>\n",
       "      <td>1.122</td>\n",
       "      <td>0.249</td>\n",
       "      <td>0.513</td>\n",
       "      <td>0.775</td>\n",
       "      <td>0.140</td>\n",
       "      <td>0.167</td>\n",
       "      <td>0.919</td>\n",
       "      <td>Low</td>\n",
       "      <td>0.6774</td>\n",
       "    </tr>\n",
       "    <tr>\n",
       "      <th>0</th>\n",
       "      <td>Afghanistan</td>\n",
       "      <td>1.721</td>\n",
       "      <td>0.628</td>\n",
       "      <td>0.000</td>\n",
       "      <td>0.242</td>\n",
       "      <td>0.000</td>\n",
       "      <td>0.091</td>\n",
       "      <td>0.088</td>\n",
       "      <td>0.672</td>\n",
       "      <td>Low</td>\n",
       "      <td>0.3238</td>\n",
       "    </tr>\n",
       "  </tbody>\n",
       "</table>\n",
       "</div>"
      ],
      "text/plain": [
       "  Country name  score  Log GDP per capita  Social support  \\\n",
       "5    Sri Lanka  3.898               1.361           1.179   \n",
       "3        Nepal  5.158               0.965           0.990   \n",
       "2        India  4.054               1.166           0.653   \n",
       "4     Pakistan  4.657               1.069           0.600   \n",
       "1   Bangladesh  3.886               1.122           0.249   \n",
       "0  Afghanistan  1.721               0.628           0.000   \n",
       "\n",
       "   Healthy life expectancy  Freedom to make life choices  Generosity  \\\n",
       "5                    0.586                         0.583       0.144   \n",
       "3                    0.443                         0.653       0.209   \n",
       "2                    0.417                         0.767       0.174   \n",
       "4                    0.321                         0.542       0.144   \n",
       "1                    0.513                         0.775       0.140   \n",
       "0                    0.242                         0.000       0.091   \n",
       "\n",
       "   Perceptions of corruption  Dystopia + residual Happiness_Category  \\\n",
       "5                      0.031                0.014                Low   \n",
       "3                      0.115                1.783             Medium   \n",
       "2                      0.122                0.756             Medium   \n",
       "4                      0.074                1.907             Medium   \n",
       "1                      0.167                0.919                Low   \n",
       "0                      0.088                0.672                Low   \n",
       "\n",
       "   Composite_Score  \n",
       "5           1.0739  \n",
       "3           0.8159  \n",
       "2           0.7874  \n",
       "4           0.7039  \n",
       "1           0.6774  \n",
       "0           0.3238  "
      ]
     },
     "execution_count": 127,
     "metadata": {},
     "output_type": "execute_result"
    }
   ],
   "source": [
    "#2)\n",
    "South_asian = South_asian.sort_values(by='Composite_Score', ascending=False)\n",
    "South_asian"
   ]
  },
  {
   "cell_type": "code",
   "execution_count": 129,
   "metadata": {
    "colab": {
     "base_uri": "https://localhost:8080/",
     "height": 457
    },
    "id": "4Mc1vN4UZ09r",
    "outputId": "91f5d994-d6e0-4012-fb7b-ba4a9f83e383"
   },
   "outputs": [
    {
     "data": {
      "image/png": "[encoded data removed]",
      "text/plain": [
       "<Figure size 1000x600 with 1 Axes>"
      ]
     },
     "metadata": {},
     "output_type": "display_data"
    }
   ],
   "source": [
    "#3)\n",
    "South_asian = South_asian.sort_values(by='Composite_Score', ascending=True)\n",
    "\n",
    "plt.figure(figsize=(10, 6))\n",
    "sns.barplot(y='Country name', x='Composite_Score', data=South_asian)\n",
    "plt.title('Countries by Composite Score')\n",
    "plt.xlabel('Country')\n",
    "plt.ylabel('Composite Score')\n",
    "plt.show()"
   ]
  },
  {
   "cell_type": "code",
   "execution_count": 130,
   "metadata": {
    "id": "ARezoUvWakaI"
   },
   "outputs": [],
   "source": [
    "#4)\n"
   ]
  },
  {
   "cell_type": "markdown",
   "metadata": {
    "id": "p3QUkSTNc9Jh"
   },
   "source": [
    "<h2>Task - 3 - Outlier Detection:</h3>"
   ]
  },
  {
   "cell_type": "code",
   "execution_count": 134,
   "metadata": {
    "colab": {
     "base_uri": "https://localhost:8080/",
     "height": 449
    },
    "id": "fN702IJlc8cp",
    "outputId": "e5b8b292-b706-4f7d-eb52-af8bf10e622d"
   },
   "outputs": [
    {
     "data": {
      "image/png": "[encoded data removed]",
      "text/plain": [
       "<Figure size 640x480 with 1 Axes>"
      ]
     },
     "metadata": {},
     "output_type": "display_data"
    }
   ],
   "source": [
    "#1)\n",
    "#outlier is the a noise in the data (also known as data which behaves abnormally from the rest) in this scatterplot we can see that the point in between 0.6 and 2.0 is far from rest of the points so that point is an outlar.\n",
    "sns.scatterplot(data=South_asian , x='Log GDP per capita',y='score')\n",
    "plt.show()\n"
   ]
  },
  {
   "cell_type": "code",
   "execution_count": 136,
   "metadata": {
    "colab": {
     "base_uri": "https://localhost:8080/",
     "height": 372
    },
    "id": "eRoUPIJxhqh2",
    "outputId": "b5fb89ff-9801-4a8a-aca7-451096f61412"
   },
   "outputs": [
    {
     "data": {
      "text/html": [
       "<div>\n",
       "<style scoped>\n",
       "    .dataframe tbody tr th:only-of-type {\n",
       "        vertical-align: middle;\n",
       "    }\n",
       "\n",
       "    .dataframe tbody tr th {\n",
       "        vertical-align: top;\n",
       "    }\n",
       "\n",
       "    .dataframe thead th {\n",
       "        text-align: right;\n",
       "    }\n",
       "</style>\n",
       "<table border=\"1\" class=\"dataframe\">\n",
       "  <thead>\n",
       "    <tr style=\"text-align: right;\">\n",
       "      <th></th>\n",
       "      <th>score</th>\n",
       "      <th>Log GDP per capita</th>\n",
       "      <th>Social support</th>\n",
       "      <th>Healthy life expectancy</th>\n",
       "      <th>Freedom to make life choices</th>\n",
       "      <th>Generosity</th>\n",
       "      <th>Perceptions of corruption</th>\n",
       "      <th>Dystopia + residual</th>\n",
       "      <th>Composite_Score</th>\n",
       "    </tr>\n",
       "  </thead>\n",
       "  <tbody>\n",
       "    <tr>\n",
       "      <th>count</th>\n",
       "      <td>6.000000</td>\n",
       "      <td>6.000000</td>\n",
       "      <td>6.000000</td>\n",
       "      <td>6.000000</td>\n",
       "      <td>6.000000</td>\n",
       "      <td>6.000000</td>\n",
       "      <td>6.000000</td>\n",
       "      <td>6.000000</td>\n",
       "      <td>6.000000</td>\n",
       "    </tr>\n",
       "    <tr>\n",
       "      <th>mean</th>\n",
       "      <td>3.895667</td>\n",
       "      <td>1.051833</td>\n",
       "      <td>0.611833</td>\n",
       "      <td>0.420333</td>\n",
       "      <td>0.553333</td>\n",
       "      <td>0.150333</td>\n",
       "      <td>0.099500</td>\n",
       "      <td>1.008500</td>\n",
       "      <td>0.730383</td>\n",
       "    </tr>\n",
       "    <tr>\n",
       "      <th>std</th>\n",
       "      <td>1.177069</td>\n",
       "      <td>0.245361</td>\n",
       "      <td>0.441024</td>\n",
       "      <td>0.125082</td>\n",
       "      <td>0.287022</td>\n",
       "      <td>0.039267</td>\n",
       "      <td>0.046427</td>\n",
       "      <td>0.718496</td>\n",
       "      <td>0.243880</td>\n",
       "    </tr>\n",
       "    <tr>\n",
       "      <th>min</th>\n",
       "      <td>1.721000</td>\n",
       "      <td>0.628000</td>\n",
       "      <td>0.000000</td>\n",
       "      <td>0.242000</td>\n",
       "      <td>0.000000</td>\n",
       "      <td>0.091000</td>\n",
       "      <td>0.031000</td>\n",
       "      <td>0.014000</td>\n",
       "      <td>0.323800</td>\n",
       "    </tr>\n",
       "    <tr>\n",
       "      <th>25%</th>\n",
       "      <td>3.889000</td>\n",
       "      <td>0.991000</td>\n",
       "      <td>0.336750</td>\n",
       "      <td>0.345000</td>\n",
       "      <td>0.552250</td>\n",
       "      <td>0.141000</td>\n",
       "      <td>0.077500</td>\n",
       "      <td>0.693000</td>\n",
       "      <td>0.684025</td>\n",
       "    </tr>\n",
       "    <tr>\n",
       "      <th>50%</th>\n",
       "      <td>3.976000</td>\n",
       "      <td>1.095500</td>\n",
       "      <td>0.626500</td>\n",
       "      <td>0.430000</td>\n",
       "      <td>0.618000</td>\n",
       "      <td>0.144000</td>\n",
       "      <td>0.101500</td>\n",
       "      <td>0.837500</td>\n",
       "      <td>0.745650</td>\n",
       "    </tr>\n",
       "    <tr>\n",
       "      <th>75%</th>\n",
       "      <td>4.506250</td>\n",
       "      <td>1.155000</td>\n",
       "      <td>0.905750</td>\n",
       "      <td>0.495500</td>\n",
       "      <td>0.738500</td>\n",
       "      <td>0.166500</td>\n",
       "      <td>0.120250</td>\n",
       "      <td>1.567000</td>\n",
       "      <td>0.808775</td>\n",
       "    </tr>\n",
       "    <tr>\n",
       "      <th>max</th>\n",
       "      <td>5.158000</td>\n",
       "      <td>1.361000</td>\n",
       "      <td>1.179000</td>\n",
       "      <td>0.586000</td>\n",
       "      <td>0.775000</td>\n",
       "      <td>0.209000</td>\n",
       "      <td>0.167000</td>\n",
       "      <td>1.907000</td>\n",
       "      <td>1.073900</td>\n",
       "    </tr>\n",
       "  </tbody>\n",
       "</table>\n",
       "</div>"
      ],
      "text/plain": [
       "          score  Log GDP per capita  Social support  Healthy life expectancy  \\\n",
       "count  6.000000            6.000000        6.000000                 6.000000   \n",
       "mean   3.895667            1.051833        0.611833                 0.420333   \n",
       "std    1.177069            0.245361        0.441024                 0.125082   \n",
       "min    1.721000            0.628000        0.000000                 0.242000   \n",
       "25%    3.889000            0.991000        0.336750                 0.345000   \n",
       "50%    3.976000            1.095500        0.626500                 0.430000   \n",
       "75%    4.506250            1.155000        0.905750                 0.495500   \n",
       "max    5.158000            1.361000        1.179000                 0.586000   \n",
       "\n",
       "       Freedom to make life choices  Generosity  Perceptions of corruption  \\\n",
       "count                      6.000000    6.000000                   6.000000   \n",
       "mean                       0.553333    0.150333                   0.099500   \n",
       "std                        0.287022    0.039267                   0.046427   \n",
       "min                        0.000000    0.091000                   0.031000   \n",
       "25%                        0.552250    0.141000                   0.077500   \n",
       "50%                        0.618000    0.144000                   0.101500   \n",
       "75%                        0.738500    0.166500                   0.120250   \n",
       "max                        0.775000    0.209000                   0.167000   \n",
       "\n",
       "       Dystopia + residual  Composite_Score  \n",
       "count             6.000000         6.000000  \n",
       "mean              1.008500         0.730383  \n",
       "std               0.718496         0.243880  \n",
       "min               0.014000         0.323800  \n",
       "25%               0.693000         0.684025  \n",
       "50%               0.837500         0.745650  \n",
       "75%               1.567000         0.808775  \n",
       "max               1.907000         1.073900  "
      ]
     },
     "execution_count": 136,
     "metadata": {},
     "output_type": "execute_result"
    }
   ],
   "source": [
    "#2)\n",
    "South_asian.describe()"
   ]
  },
  {
   "cell_type": "code",
   "execution_count": 138,
   "metadata": {
    "colab": {
     "base_uri": "https://localhost:8080/"
    },
    "id": "shxEcrO3iaur",
    "outputId": "ee8e814d-cfe9-4ec4-89e7-842eb319abac"
   },
   "outputs": [
    {
     "data": {
      "text/plain": [
       "(0.9258749999999998, 0.24600000000000005)"
      ]
     },
     "execution_count": 138,
     "metadata": {},
     "output_type": "execute_result"
    }
   ],
   "source": [
    "Q3_score = 4.506250\n",
    "Q1_score = 3.889000\n",
    "IQR_score = Q3_score - Q1_score;\n",
    "\n",
    "Q3_capita = 1.155000\n",
    "Q1_capita = .991000\n",
    "IQR_capita = Q3_capita - Q1_capita;\n",
    "\n",
    "outlier_score =1.5 * IQR_score\n",
    "outlier_capita = 1.5 * IQR_capita\n",
    "outlier_score,outlier_capita"
   ]
  },
  {
   "cell_type": "code",
   "execution_count": 140,
   "metadata": {
    "colab": {
     "base_uri": "https://localhost:8080/",
     "height": 489
    },
    "id": "4i9BJrY3ksyO",
    "outputId": "af285672-2249-428e-8cea-c620011706a4"
   },
   "outputs": [
    {
     "data": {
      "image/png": "[encoded data removed]",
      "text/plain": [
       "<Figure size 1000x600 with 1 Axes>"
      ]
     },
     "metadata": {},
     "output_type": "display_data"
    }
   ],
   "source": [
    "#3)\n",
    "score_lower, score_upper = 2.737, 5.809\n",
    "capita_lower, capita_upper = 0.745, 1.401\n",
    "\n",
    "South_asian['outlier'] = (\n",
    "    (South_asian['score'] < score_lower) | (South_asian['score'] > score_upper) |\n",
    "    (South_asian['Log GDP per capita'] < capita_lower) | (South_asian['Log GDP per capita'] > capita_upper)\n",
    ")\n",
    "\n",
    "\n",
    "plt.figure(figsize=(10, 6))\n",
    "sns.scatterplot(\n",
    "    data=South_asian,\n",
    "    x='Log GDP per capita',\n",
    "    y='score',\n",
    "    hue='outlier',  # Color points based on outlier status\n",
    "    palette={False: 'blue', True: 'red'},\n",
    "    style='outlier',  # Optionally, add different markers for outliers\n",
    "    markers={False: 'o', True: 'X'},\n",
    "    s=100  # Adjust marker size\n",
    ")\n",
    "plt.title('Scatterplot with Outliers Highlighted')\n",
    "plt.show()"
   ]
  },
  {
   "cell_type": "code",
   "execution_count": 141,
   "metadata": {
    "id": "F-qAHozzl6Cz"
   },
   "outputs": [],
   "source": [
    "#4)"
   ]
  },
  {
   "cell_type": "markdown",
   "metadata": {
    "id": "a2mliI8YpHV9"
   },
   "source": [
    "<h2>Task - 4 - Exploring Trends Across Metrics:</h2>"
   ]
  },
  {
   "cell_type": "code",
   "execution_count": 145,
   "metadata": {
    "colab": {
     "base_uri": "https://localhost:8080/",
     "height": 147
    },
    "id": "DWLjoGSApGjC",
    "outputId": "065c1408-77d2-46fd-e4c2-82b47fb3ace2"
   },
   "outputs": [
    {
     "data": {
      "text/plain": [
       "Freedom to make life choices    0.800519\n",
       "Generosity                      0.874512\n",
       "dtype: float64"
      ]
     },
     "execution_count": 145,
     "metadata": {},
     "output_type": "execute_result"
    }
   ],
   "source": [
    "#1)\n",
    "for_cor = South_asian[['Freedom to make life choices','Generosity']]\n",
    "for_sc = South_asian['score']\n",
    "\n",
    "correlations = for_cor.apply(lambda col: col.corr(for_sc))\n",
    "correlations"
   ]
  },
  {
   "cell_type": "code",
   "execution_count": 147,
   "metadata": {
    "colab": {
     "base_uri": "https://localhost:8080/",
     "height": 472
    },
    "id": "RRl1clk9p_8g",
    "outputId": "8966482c-f060-4467-b98e-79b5268f8ee6"
   },
   "outputs": [
    {
     "data": {
      "image/png": "[encoded data removed]",
      "text/plain": [
       "<Figure size 640x480 with 1 Axes>"
      ]
     },
     "metadata": {},
     "output_type": "display_data"
    }
   ],
   "source": [
    "#2)\n",
    "cor_df = correlations.reset_index()\n",
    "cor_df.columns = ['Metric', 'Correlation']\n",
    "\n",
    "\n",
    "cor_df = correlations.reset_index()\n",
    "cor_df.columns = ['Metric', 'Correlation']\n",
    "\n",
    "\n",
    "sns.scatterplot(data=cor_df, x='Metric', y='Correlation')\n",
    "plt.title('Correlation with Score')\n",
    "plt.xlabel('Metric')\n",
    "plt.ylabel('Correlation')\n",
    "plt.show()"
   ]
  },
  {
   "cell_type": "markdown",
   "metadata": {
    "id": "GZ0jhrwbqWmF"
   },
   "source": [
    "\n",
    "<h6>3) The relationship between the correlation is negative according to the scatterplot.</h6>"
   ]
  },
  {
   "cell_type": "markdown",
   "metadata": {
    "id": "PCOlQErw2pIS"
   },
   "source": [
    "<h2>Task - 5 - Gap Analysis:</h2>"
   ]
  },
  {
   "cell_type": "code",
   "execution_count": 152,
   "metadata": {
    "colab": {
     "base_uri": "https://localhost:8080/",
     "height": 278
    },
    "id": "jNgx7r4p2oYk",
    "outputId": "33d20a03-4d07-471b-93f5-20424473e605"
   },
   "outputs": [
    {
     "data": {
      "text/html": [
       "<div>\n",
       "<style scoped>\n",
       "    .dataframe tbody tr th:only-of-type {\n",
       "        vertical-align: middle;\n",
       "    }\n",
       "\n",
       "    .dataframe tbody tr th {\n",
       "        vertical-align: top;\n",
       "    }\n",
       "\n",
       "    .dataframe thead th {\n",
       "        text-align: right;\n",
       "    }\n",
       "</style>\n",
       "<table border=\"1\" class=\"dataframe\">\n",
       "  <thead>\n",
       "    <tr style=\"text-align: right;\">\n",
       "      <th></th>\n",
       "      <th>Country name</th>\n",
       "      <th>score</th>\n",
       "      <th>Log GDP per capita</th>\n",
       "      <th>Social support</th>\n",
       "      <th>Healthy life expectancy</th>\n",
       "      <th>Freedom to make life choices</th>\n",
       "      <th>Generosity</th>\n",
       "      <th>Perceptions of corruption</th>\n",
       "      <th>Dystopia + residual</th>\n",
       "      <th>Happiness_Category</th>\n",
       "      <th>Composite_Score</th>\n",
       "      <th>outlier</th>\n",
       "      <th>GDP-Score Gap</th>\n",
       "    </tr>\n",
       "  </thead>\n",
       "  <tbody>\n",
       "    <tr>\n",
       "      <th>0</th>\n",
       "      <td>Afghanistan</td>\n",
       "      <td>1.721</td>\n",
       "      <td>0.628</td>\n",
       "      <td>0.000</td>\n",
       "      <td>0.242</td>\n",
       "      <td>0.000</td>\n",
       "      <td>0.091</td>\n",
       "      <td>0.088</td>\n",
       "      <td>0.672</td>\n",
       "      <td>Low</td>\n",
       "      <td>0.3238</td>\n",
       "      <td>True</td>\n",
       "      <td>1.093</td>\n",
       "    </tr>\n",
       "    <tr>\n",
       "      <th>1</th>\n",
       "      <td>Bangladesh</td>\n",
       "      <td>3.886</td>\n",
       "      <td>1.122</td>\n",
       "      <td>0.249</td>\n",
       "      <td>0.513</td>\n",
       "      <td>0.775</td>\n",
       "      <td>0.140</td>\n",
       "      <td>0.167</td>\n",
       "      <td>0.919</td>\n",
       "      <td>Low</td>\n",
       "      <td>0.6774</td>\n",
       "      <td>False</td>\n",
       "      <td>2.764</td>\n",
       "    </tr>\n",
       "    <tr>\n",
       "      <th>4</th>\n",
       "      <td>Pakistan</td>\n",
       "      <td>4.657</td>\n",
       "      <td>1.069</td>\n",
       "      <td>0.600</td>\n",
       "      <td>0.321</td>\n",
       "      <td>0.542</td>\n",
       "      <td>0.144</td>\n",
       "      <td>0.074</td>\n",
       "      <td>1.907</td>\n",
       "      <td>Medium</td>\n",
       "      <td>0.7039</td>\n",
       "      <td>False</td>\n",
       "      <td>3.588</td>\n",
       "    </tr>\n",
       "    <tr>\n",
       "      <th>2</th>\n",
       "      <td>India</td>\n",
       "      <td>4.054</td>\n",
       "      <td>1.166</td>\n",
       "      <td>0.653</td>\n",
       "      <td>0.417</td>\n",
       "      <td>0.767</td>\n",
       "      <td>0.174</td>\n",
       "      <td>0.122</td>\n",
       "      <td>0.756</td>\n",
       "      <td>Medium</td>\n",
       "      <td>0.7874</td>\n",
       "      <td>False</td>\n",
       "      <td>2.888</td>\n",
       "    </tr>\n",
       "    <tr>\n",
       "      <th>3</th>\n",
       "      <td>Nepal</td>\n",
       "      <td>5.158</td>\n",
       "      <td>0.965</td>\n",
       "      <td>0.990</td>\n",
       "      <td>0.443</td>\n",
       "      <td>0.653</td>\n",
       "      <td>0.209</td>\n",
       "      <td>0.115</td>\n",
       "      <td>1.783</td>\n",
       "      <td>Medium</td>\n",
       "      <td>0.8159</td>\n",
       "      <td>False</td>\n",
       "      <td>4.193</td>\n",
       "    </tr>\n",
       "  </tbody>\n",
       "</table>\n",
       "</div>"
      ],
      "text/plain": [
       "  Country name  score  Log GDP per capita  Social support  \\\n",
       "0  Afghanistan  1.721               0.628           0.000   \n",
       "1   Bangladesh  3.886               1.122           0.249   \n",
       "4     Pakistan  4.657               1.069           0.600   \n",
       "2        India  4.054               1.166           0.653   \n",
       "3        Nepal  5.158               0.965           0.990   \n",
       "\n",
       "   Healthy life expectancy  Freedom to make life choices  Generosity  \\\n",
       "0                    0.242                         0.000       0.091   \n",
       "1                    0.513                         0.775       0.140   \n",
       "4                    0.321                         0.542       0.144   \n",
       "2                    0.417                         0.767       0.174   \n",
       "3                    0.443                         0.653       0.209   \n",
       "\n",
       "   Perceptions of corruption  Dystopia + residual Happiness_Category  \\\n",
       "0                      0.088                0.672                Low   \n",
       "1                      0.167                0.919                Low   \n",
       "4                      0.074                1.907             Medium   \n",
       "2                      0.122                0.756             Medium   \n",
       "3                      0.115                1.783             Medium   \n",
       "\n",
       "   Composite_Score  outlier  GDP-Score Gap  \n",
       "0           0.3238     True          1.093  \n",
       "1           0.6774    False          2.764  \n",
       "4           0.7039    False          3.588  \n",
       "2           0.7874    False          2.888  \n",
       "3           0.8159    False          4.193  "
      ]
     },
     "execution_count": 152,
     "metadata": {},
     "output_type": "execute_result"
    }
   ],
   "source": [
    "#1)\n",
    "South_asian['GDP-Score Gap'] = South_asian['score'] - South_asian['Log GDP per capita']\n",
    "South_asian.head()"
   ]
  },
  {
   "cell_type": "code",
   "execution_count": 154,
   "metadata": {
    "colab": {
     "base_uri": "https://localhost:8080/",
     "height": 309
    },
    "id": "vKYnUGiV3NjE",
    "outputId": "10782311-f343-4a26-c817-d54e6c58f9d7"
   },
   "outputs": [
    {
     "data": {
      "text/html": [
       "<div>\n",
       "<style scoped>\n",
       "    .dataframe tbody tr th:only-of-type {\n",
       "        vertical-align: middle;\n",
       "    }\n",
       "\n",
       "    .dataframe tbody tr th {\n",
       "        vertical-align: top;\n",
       "    }\n",
       "\n",
       "    .dataframe thead th {\n",
       "        text-align: right;\n",
       "    }\n",
       "</style>\n",
       "<table border=\"1\" class=\"dataframe\">\n",
       "  <thead>\n",
       "    <tr style=\"text-align: right;\">\n",
       "      <th></th>\n",
       "      <th>Country name</th>\n",
       "      <th>score</th>\n",
       "      <th>Log GDP per capita</th>\n",
       "      <th>Social support</th>\n",
       "      <th>Healthy life expectancy</th>\n",
       "      <th>Freedom to make life choices</th>\n",
       "      <th>Generosity</th>\n",
       "      <th>Perceptions of corruption</th>\n",
       "      <th>Dystopia + residual</th>\n",
       "      <th>Happiness_Category</th>\n",
       "      <th>Composite_Score</th>\n",
       "      <th>outlier</th>\n",
       "      <th>GDP-Score Gap</th>\n",
       "    </tr>\n",
       "  </thead>\n",
       "  <tbody>\n",
       "    <tr>\n",
       "      <th>3</th>\n",
       "      <td>Nepal</td>\n",
       "      <td>5.158</td>\n",
       "      <td>0.965</td>\n",
       "      <td>0.990</td>\n",
       "      <td>0.443</td>\n",
       "      <td>0.653</td>\n",
       "      <td>0.209</td>\n",
       "      <td>0.115</td>\n",
       "      <td>1.783</td>\n",
       "      <td>Medium</td>\n",
       "      <td>0.8159</td>\n",
       "      <td>False</td>\n",
       "      <td>4.193</td>\n",
       "    </tr>\n",
       "    <tr>\n",
       "      <th>4</th>\n",
       "      <td>Pakistan</td>\n",
       "      <td>4.657</td>\n",
       "      <td>1.069</td>\n",
       "      <td>0.600</td>\n",
       "      <td>0.321</td>\n",
       "      <td>0.542</td>\n",
       "      <td>0.144</td>\n",
       "      <td>0.074</td>\n",
       "      <td>1.907</td>\n",
       "      <td>Medium</td>\n",
       "      <td>0.7039</td>\n",
       "      <td>False</td>\n",
       "      <td>3.588</td>\n",
       "    </tr>\n",
       "    <tr>\n",
       "      <th>2</th>\n",
       "      <td>India</td>\n",
       "      <td>4.054</td>\n",
       "      <td>1.166</td>\n",
       "      <td>0.653</td>\n",
       "      <td>0.417</td>\n",
       "      <td>0.767</td>\n",
       "      <td>0.174</td>\n",
       "      <td>0.122</td>\n",
       "      <td>0.756</td>\n",
       "      <td>Medium</td>\n",
       "      <td>0.7874</td>\n",
       "      <td>False</td>\n",
       "      <td>2.888</td>\n",
       "    </tr>\n",
       "    <tr>\n",
       "      <th>1</th>\n",
       "      <td>Bangladesh</td>\n",
       "      <td>3.886</td>\n",
       "      <td>1.122</td>\n",
       "      <td>0.249</td>\n",
       "      <td>0.513</td>\n",
       "      <td>0.775</td>\n",
       "      <td>0.140</td>\n",
       "      <td>0.167</td>\n",
       "      <td>0.919</td>\n",
       "      <td>Low</td>\n",
       "      <td>0.6774</td>\n",
       "      <td>False</td>\n",
       "      <td>2.764</td>\n",
       "    </tr>\n",
       "    <tr>\n",
       "      <th>5</th>\n",
       "      <td>Sri Lanka</td>\n",
       "      <td>3.898</td>\n",
       "      <td>1.361</td>\n",
       "      <td>1.179</td>\n",
       "      <td>0.586</td>\n",
       "      <td>0.583</td>\n",
       "      <td>0.144</td>\n",
       "      <td>0.031</td>\n",
       "      <td>0.014</td>\n",
       "      <td>Low</td>\n",
       "      <td>1.0739</td>\n",
       "      <td>False</td>\n",
       "      <td>2.537</td>\n",
       "    </tr>\n",
       "    <tr>\n",
       "      <th>0</th>\n",
       "      <td>Afghanistan</td>\n",
       "      <td>1.721</td>\n",
       "      <td>0.628</td>\n",
       "      <td>0.000</td>\n",
       "      <td>0.242</td>\n",
       "      <td>0.000</td>\n",
       "      <td>0.091</td>\n",
       "      <td>0.088</td>\n",
       "      <td>0.672</td>\n",
       "      <td>Low</td>\n",
       "      <td>0.3238</td>\n",
       "      <td>True</td>\n",
       "      <td>1.093</td>\n",
       "    </tr>\n",
       "  </tbody>\n",
       "</table>\n",
       "</div>"
      ],
      "text/plain": [
       "  Country name  score  Log GDP per capita  Social support  \\\n",
       "3        Nepal  5.158               0.965           0.990   \n",
       "4     Pakistan  4.657               1.069           0.600   \n",
       "2        India  4.054               1.166           0.653   \n",
       "1   Bangladesh  3.886               1.122           0.249   \n",
       "5    Sri Lanka  3.898               1.361           1.179   \n",
       "0  Afghanistan  1.721               0.628           0.000   \n",
       "\n",
       "   Healthy life expectancy  Freedom to make life choices  Generosity  \\\n",
       "3                    0.443                         0.653       0.209   \n",
       "4                    0.321                         0.542       0.144   \n",
       "2                    0.417                         0.767       0.174   \n",
       "1                    0.513                         0.775       0.140   \n",
       "5                    0.586                         0.583       0.144   \n",
       "0                    0.242                         0.000       0.091   \n",
       "\n",
       "   Perceptions of corruption  Dystopia + residual Happiness_Category  \\\n",
       "3                      0.115                1.783             Medium   \n",
       "4                      0.074                1.907             Medium   \n",
       "2                      0.122                0.756             Medium   \n",
       "1                      0.167                0.919                Low   \n",
       "5                      0.031                0.014                Low   \n",
       "0                      0.088                0.672                Low   \n",
       "\n",
       "   Composite_Score  outlier  GDP-Score Gap  \n",
       "3           0.8159    False          4.193  \n",
       "4           0.7039    False          3.588  \n",
       "2           0.7874    False          2.888  \n",
       "1           0.6774    False          2.764  \n",
       "5           1.0739    False          2.537  \n",
       "0           0.3238     True          1.093  "
      ]
     },
     "execution_count": 154,
     "metadata": {},
     "output_type": "execute_result"
    }
   ],
   "source": [
    "#2) descending order\n",
    "South_asian = South_asian.sort_values(by='GDP-Score Gap', ascending=False)\n",
    "South_asian"
   ]
  },
  {
   "cell_type": "code",
   "execution_count": 156,
   "metadata": {
    "colab": {
     "base_uri": "https://localhost:8080/",
     "height": 309
    },
    "id": "4-Bz-nrk3mun",
    "outputId": "136d603b-4af9-4f11-dc4c-05c3aa5625cd"
   },
   "outputs": [
    {
     "data": {
      "text/html": [
       "<div>\n",
       "<style scoped>\n",
       "    .dataframe tbody tr th:only-of-type {\n",
       "        vertical-align: middle;\n",
       "    }\n",
       "\n",
       "    .dataframe tbody tr th {\n",
       "        vertical-align: top;\n",
       "    }\n",
       "\n",
       "    .dataframe thead th {\n",
       "        text-align: right;\n",
       "    }\n",
       "</style>\n",
       "<table border=\"1\" class=\"dataframe\">\n",
       "  <thead>\n",
       "    <tr style=\"text-align: right;\">\n",
       "      <th></th>\n",
       "      <th>Country name</th>\n",
       "      <th>score</th>\n",
       "      <th>Log GDP per capita</th>\n",
       "      <th>Social support</th>\n",
       "      <th>Healthy life expectancy</th>\n",
       "      <th>Freedom to make life choices</th>\n",
       "      <th>Generosity</th>\n",
       "      <th>Perceptions of corruption</th>\n",
       "      <th>Dystopia + residual</th>\n",
       "      <th>Happiness_Category</th>\n",
       "      <th>Composite_Score</th>\n",
       "      <th>outlier</th>\n",
       "      <th>GDP-Score Gap</th>\n",
       "    </tr>\n",
       "  </thead>\n",
       "  <tbody>\n",
       "    <tr>\n",
       "      <th>0</th>\n",
       "      <td>Afghanistan</td>\n",
       "      <td>1.721</td>\n",
       "      <td>0.628</td>\n",
       "      <td>0.000</td>\n",
       "      <td>0.242</td>\n",
       "      <td>0.000</td>\n",
       "      <td>0.091</td>\n",
       "      <td>0.088</td>\n",
       "      <td>0.672</td>\n",
       "      <td>Low</td>\n",
       "      <td>0.3238</td>\n",
       "      <td>True</td>\n",
       "      <td>1.093</td>\n",
       "    </tr>\n",
       "    <tr>\n",
       "      <th>5</th>\n",
       "      <td>Sri Lanka</td>\n",
       "      <td>3.898</td>\n",
       "      <td>1.361</td>\n",
       "      <td>1.179</td>\n",
       "      <td>0.586</td>\n",
       "      <td>0.583</td>\n",
       "      <td>0.144</td>\n",
       "      <td>0.031</td>\n",
       "      <td>0.014</td>\n",
       "      <td>Low</td>\n",
       "      <td>1.0739</td>\n",
       "      <td>False</td>\n",
       "      <td>2.537</td>\n",
       "    </tr>\n",
       "    <tr>\n",
       "      <th>1</th>\n",
       "      <td>Bangladesh</td>\n",
       "      <td>3.886</td>\n",
       "      <td>1.122</td>\n",
       "      <td>0.249</td>\n",
       "      <td>0.513</td>\n",
       "      <td>0.775</td>\n",
       "      <td>0.140</td>\n",
       "      <td>0.167</td>\n",
       "      <td>0.919</td>\n",
       "      <td>Low</td>\n",
       "      <td>0.6774</td>\n",
       "      <td>False</td>\n",
       "      <td>2.764</td>\n",
       "    </tr>\n",
       "    <tr>\n",
       "      <th>2</th>\n",
       "      <td>India</td>\n",
       "      <td>4.054</td>\n",
       "      <td>1.166</td>\n",
       "      <td>0.653</td>\n",
       "      <td>0.417</td>\n",
       "      <td>0.767</td>\n",
       "      <td>0.174</td>\n",
       "      <td>0.122</td>\n",
       "      <td>0.756</td>\n",
       "      <td>Medium</td>\n",
       "      <td>0.7874</td>\n",
       "      <td>False</td>\n",
       "      <td>2.888</td>\n",
       "    </tr>\n",
       "    <tr>\n",
       "      <th>4</th>\n",
       "      <td>Pakistan</td>\n",
       "      <td>4.657</td>\n",
       "      <td>1.069</td>\n",
       "      <td>0.600</td>\n",
       "      <td>0.321</td>\n",
       "      <td>0.542</td>\n",
       "      <td>0.144</td>\n",
       "      <td>0.074</td>\n",
       "      <td>1.907</td>\n",
       "      <td>Medium</td>\n",
       "      <td>0.7039</td>\n",
       "      <td>False</td>\n",
       "      <td>3.588</td>\n",
       "    </tr>\n",
       "    <tr>\n",
       "      <th>3</th>\n",
       "      <td>Nepal</td>\n",
       "      <td>5.158</td>\n",
       "      <td>0.965</td>\n",
       "      <td>0.990</td>\n",
       "      <td>0.443</td>\n",
       "      <td>0.653</td>\n",
       "      <td>0.209</td>\n",
       "      <td>0.115</td>\n",
       "      <td>1.783</td>\n",
       "      <td>Medium</td>\n",
       "      <td>0.8159</td>\n",
       "      <td>False</td>\n",
       "      <td>4.193</td>\n",
       "    </tr>\n",
       "  </tbody>\n",
       "</table>\n",
       "</div>"
      ],
      "text/plain": [
       "  Country name  score  Log GDP per capita  Social support  \\\n",
       "0  Afghanistan  1.721               0.628           0.000   \n",
       "5    Sri Lanka  3.898               1.361           1.179   \n",
       "1   Bangladesh  3.886               1.122           0.249   \n",
       "2        India  4.054               1.166           0.653   \n",
       "4     Pakistan  4.657               1.069           0.600   \n",
       "3        Nepal  5.158               0.965           0.990   \n",
       "\n",
       "   Healthy life expectancy  Freedom to make life choices  Generosity  \\\n",
       "0                    0.242                         0.000       0.091   \n",
       "5                    0.586                         0.583       0.144   \n",
       "1                    0.513                         0.775       0.140   \n",
       "2                    0.417                         0.767       0.174   \n",
       "4                    0.321                         0.542       0.144   \n",
       "3                    0.443                         0.653       0.209   \n",
       "\n",
       "   Perceptions of corruption  Dystopia + residual Happiness_Category  \\\n",
       "0                      0.088                0.672                Low   \n",
       "5                      0.031                0.014                Low   \n",
       "1                      0.167                0.919                Low   \n",
       "2                      0.122                0.756             Medium   \n",
       "4                      0.074                1.907             Medium   \n",
       "3                      0.115                1.783             Medium   \n",
       "\n",
       "   Composite_Score  outlier  GDP-Score Gap  \n",
       "0           0.3238     True          1.093  \n",
       "5           1.0739    False          2.537  \n",
       "1           0.6774    False          2.764  \n",
       "2           0.7874    False          2.888  \n",
       "4           0.7039    False          3.588  \n",
       "3           0.8159    False          4.193  "
      ]
     },
     "execution_count": 156,
     "metadata": {},
     "output_type": "execute_result"
    }
   ],
   "source": [
    "#2) ascending order\n",
    "South_asian = South_asian.sort_values(by='GDP-Score Gap', ascending=True)\n",
    "South_asian"
   ]
  },
  {
   "cell_type": "code",
   "execution_count": 158,
   "metadata": {
    "colab": {
     "base_uri": "https://localhost:8080/",
     "height": 474
    },
    "id": "epvZf2Pn3wba",
    "outputId": "d5ce1cbc-5c57-4964-f3fa-e38fcd347d6b"
   },
   "outputs": [
    {
     "data": {
      "image/png": "[encoded data removed]",
      "text/plain": [
       "<Figure size 1000x600 with 1 Axes>"
      ]
     },
     "metadata": {},
     "output_type": "display_data"
    }
   ],
   "source": [
    "#3)\n",
    "top3_positive = South_asian.nlargest(3, 'GDP-Score Gap')\n",
    "top3_negative = South_asian.nsmallest(3, 'GDP-Score Gap')\n",
    "countries = pd.concat([top3_positive, top3_negative])\n",
    "\n",
    "plt.figure(figsize=(10, 6))\n",
    "sns.barplot(x='Country name', y='GDP-Score Gap', data=countries)\n",
    "plt.title('Countries by GDP-Score Gap for top 3 positive and top3 negative countries in South asian countries')\n",
    "plt.show()"
   ]
  },
  {
   "cell_type": "markdown",
   "metadata": {
    "id": "vN-mMloE5cPF"
   },
   "source": [
    "<h2>3.3 Problem - 3 - Comparative Analysis:</h2>"
   ]
  },
  {
   "cell_type": "markdown",
   "metadata": {
    "id": "rOM4jdYl53F_"
   },
   "source": [
    "<h2>Task - 1 - Setup Task - Preparing the Middle Eastern Dataset:</h2>"
   ]
  },
  {
   "cell_type": "code",
   "execution_count": 162,
   "metadata": {
    "id": "NH8_Q6yQ42Pl"
   },
   "outputs": [],
   "source": [
    "#1)\n",
    "middle_east_countries = [ \"Bahrain\", \"Iran\", \"Iraq\", \"Israel\", \"Jordan\",\"Kuwait\", \"Lebanon\", \"Oman\", \"Palestine\", \"Qatar\", \"Saudi Arabia\", \"Syria\",\"United Arab Emirates\", \"Yemen\"]\n"
   ]
  },
  {
   "cell_type": "code",
   "execution_count": 164,
   "metadata": {
    "colab": {
     "base_uri": "https://localhost:8080/",
     "height": 487
    },
    "id": "E92KqNG56UrF",
    "outputId": "6c48b58f-2fc8-4337-eaa5-7d15da75a4ce"
   },
   "outputs": [
    {
     "data": {
      "text/html": [
       "<div>\n",
       "<style scoped>\n",
       "    .dataframe tbody tr th:only-of-type {\n",
       "        vertical-align: middle;\n",
       "    }\n",
       "\n",
       "    .dataframe tbody tr th {\n",
       "        vertical-align: top;\n",
       "    }\n",
       "\n",
       "    .dataframe thead th {\n",
       "        text-align: right;\n",
       "    }\n",
       "</style>\n",
       "<table border=\"1\" class=\"dataframe\">\n",
       "  <thead>\n",
       "    <tr style=\"text-align: right;\">\n",
       "      <th></th>\n",
       "      <th>Country name</th>\n",
       "      <th>score</th>\n",
       "      <th>Log GDP per capita</th>\n",
       "      <th>Social support</th>\n",
       "      <th>Healthy life expectancy</th>\n",
       "      <th>Freedom to make life choices</th>\n",
       "      <th>Generosity</th>\n",
       "      <th>Perceptions of corruption</th>\n",
       "      <th>Dystopia + residual</th>\n",
       "      <th>Happiness_Category</th>\n",
       "    </tr>\n",
       "  </thead>\n",
       "  <tbody>\n",
       "    <tr>\n",
       "      <th>61</th>\n",
       "      <td>Bahrain</td>\n",
       "      <td>5.959</td>\n",
       "      <td>NaN</td>\n",
       "      <td>NaN</td>\n",
       "      <td>NaN</td>\n",
       "      <td>NaN</td>\n",
       "      <td>NaN</td>\n",
       "      <td>NaN</td>\n",
       "      <td>NaN</td>\n",
       "      <td>Medium</td>\n",
       "    </tr>\n",
       "    <tr>\n",
       "      <th>99</th>\n",
       "      <td>Iran</td>\n",
       "      <td>4.923</td>\n",
       "      <td>1.435</td>\n",
       "      <td>1.136</td>\n",
       "      <td>0.571</td>\n",
       "      <td>0.366</td>\n",
       "      <td>0.235</td>\n",
       "      <td>0.123</td>\n",
       "      <td>1.057</td>\n",
       "      <td>Medium</td>\n",
       "    </tr>\n",
       "    <tr>\n",
       "      <th>91</th>\n",
       "      <td>Iraq</td>\n",
       "      <td>5.166</td>\n",
       "      <td>1.249</td>\n",
       "      <td>0.996</td>\n",
       "      <td>0.498</td>\n",
       "      <td>0.425</td>\n",
       "      <td>0.141</td>\n",
       "      <td>0.048</td>\n",
       "      <td>1.809</td>\n",
       "      <td>Medium</td>\n",
       "    </tr>\n",
       "    <tr>\n",
       "      <th>4</th>\n",
       "      <td>Israel</td>\n",
       "      <td>7.341</td>\n",
       "      <td>1.803</td>\n",
       "      <td>1.513</td>\n",
       "      <td>0.740</td>\n",
       "      <td>0.641</td>\n",
       "      <td>0.153</td>\n",
       "      <td>0.193</td>\n",
       "      <td>2.298</td>\n",
       "      <td>High</td>\n",
       "    </tr>\n",
       "    <tr>\n",
       "      <th>124</th>\n",
       "      <td>Jordan</td>\n",
       "      <td>4.186</td>\n",
       "      <td>1.262</td>\n",
       "      <td>0.983</td>\n",
       "      <td>0.594</td>\n",
       "      <td>0.593</td>\n",
       "      <td>0.059</td>\n",
       "      <td>0.189</td>\n",
       "      <td>0.504</td>\n",
       "      <td>Medium</td>\n",
       "    </tr>\n",
       "    <tr>\n",
       "      <th>12</th>\n",
       "      <td>Kuwait</td>\n",
       "      <td>6.951</td>\n",
       "      <td>1.845</td>\n",
       "      <td>1.364</td>\n",
       "      <td>0.661</td>\n",
       "      <td>0.827</td>\n",
       "      <td>0.200</td>\n",
       "      <td>0.172</td>\n",
       "      <td>1.884</td>\n",
       "      <td>High</td>\n",
       "    </tr>\n",
       "    <tr>\n",
       "      <th>141</th>\n",
       "      <td>Lebanon</td>\n",
       "      <td>2.707</td>\n",
       "      <td>1.377</td>\n",
       "      <td>0.577</td>\n",
       "      <td>0.556</td>\n",
       "      <td>0.173</td>\n",
       "      <td>0.068</td>\n",
       "      <td>0.029</td>\n",
       "      <td>-0.073</td>\n",
       "      <td>Low</td>\n",
       "    </tr>\n",
       "    <tr>\n",
       "      <th>27</th>\n",
       "      <td>Saudi Arabia</td>\n",
       "      <td>6.594</td>\n",
       "      <td>1.842</td>\n",
       "      <td>1.361</td>\n",
       "      <td>0.511</td>\n",
       "      <td>0.787</td>\n",
       "      <td>0.114</td>\n",
       "      <td>0.188</td>\n",
       "      <td>1.790</td>\n",
       "      <td>High</td>\n",
       "    </tr>\n",
       "    <tr>\n",
       "      <th>21</th>\n",
       "      <td>United Arab Emirates</td>\n",
       "      <td>6.733</td>\n",
       "      <td>1.983</td>\n",
       "      <td>1.164</td>\n",
       "      <td>0.563</td>\n",
       "      <td>0.815</td>\n",
       "      <td>0.209</td>\n",
       "      <td>0.258</td>\n",
       "      <td>1.741</td>\n",
       "      <td>High</td>\n",
       "    </tr>\n",
       "    <tr>\n",
       "      <th>132</th>\n",
       "      <td>Yemen</td>\n",
       "      <td>3.561</td>\n",
       "      <td>0.671</td>\n",
       "      <td>1.281</td>\n",
       "      <td>0.293</td>\n",
       "      <td>0.362</td>\n",
       "      <td>0.080</td>\n",
       "      <td>0.113</td>\n",
       "      <td>0.760</td>\n",
       "      <td>Low</td>\n",
       "    </tr>\n",
       "  </tbody>\n",
       "</table>\n",
       "</div>"
      ],
      "text/plain": [
       "             Country name  score  Log GDP per capita  Social support  \\\n",
       "61                Bahrain  5.959                 NaN             NaN   \n",
       "99                   Iran  4.923               1.435           1.136   \n",
       "91                   Iraq  5.166               1.249           0.996   \n",
       "4                  Israel  7.341               1.803           1.513   \n",
       "124                Jordan  4.186               1.262           0.983   \n",
       "12                 Kuwait  6.951               1.845           1.364   \n",
       "141               Lebanon  2.707               1.377           0.577   \n",
       "27           Saudi Arabia  6.594               1.842           1.361   \n",
       "21   United Arab Emirates  6.733               1.983           1.164   \n",
       "132                 Yemen  3.561               0.671           1.281   \n",
       "\n",
       "     Healthy life expectancy  Freedom to make life choices  Generosity  \\\n",
       "61                       NaN                           NaN         NaN   \n",
       "99                     0.571                         0.366       0.235   \n",
       "91                     0.498                         0.425       0.141   \n",
       "4                      0.740                         0.641       0.153   \n",
       "124                    0.594                         0.593       0.059   \n",
       "12                     0.661                         0.827       0.200   \n",
       "141                    0.556                         0.173       0.068   \n",
       "27                     0.511                         0.787       0.114   \n",
       "21                     0.563                         0.815       0.209   \n",
       "132                    0.293                         0.362       0.080   \n",
       "\n",
       "     Perceptions of corruption  Dystopia + residual Happiness_Category  \n",
       "61                         NaN                  NaN             Medium  \n",
       "99                       0.123                1.057             Medium  \n",
       "91                       0.048                1.809             Medium  \n",
       "4                        0.193                2.298               High  \n",
       "124                      0.189                0.504             Medium  \n",
       "12                       0.172                1.884               High  \n",
       "141                      0.029               -0.073                Low  \n",
       "27                       0.188                1.790               High  \n",
       "21                       0.258                1.741               High  \n",
       "132                      0.113                0.760                Low  "
      ]
     },
     "execution_count": 164,
     "metadata": {},
     "output_type": "execute_result"
    }
   ],
   "source": [
    "def filtered_country(lists):\n",
    "    new_df = pd.DataFrame()\n",
    "    for i in lists:\n",
    "        if i in df['Country name'].values:\n",
    "            new_df = pd.concat([new_df, df[df['Country name'] == i]])\n",
    "\n",
    "    return new_df\n",
    "\n",
    "middle_df = filtered_country(middle_east_countries)\n",
    "middle_df"
   ]
  },
  {
   "cell_type": "code",
   "execution_count": 166,
   "metadata": {
    "colab": {
     "base_uri": "https://localhost:8080/"
    },
    "id": "abtnVENE6umN",
    "outputId": "3abc30bf-d941-4ba3-835d-7ba7069f9ea8"
   },
   "outputs": [
    {
     "name": "stdout",
     "output_type": "stream",
     "text": [
      "Filtered dataset saved as 'middle_east_countries.csv'\n"
     ]
    }
   ],
   "source": [
    "middle_df.to_csv('middle_east_countries.csv', index=False)\n",
    "\n",
    "print(\"Filtered dataset saved as 'middle_east_countries.csv'\")"
   ]
  },
  {
   "cell_type": "code",
   "execution_count": 175,
   "metadata": {
    "colab": {
     "base_uri": "https://localhost:8080/",
     "height": 487
    },
    "id": "eeDVbEo6Tiba",
    "outputId": "f9ef17cf-6259-47f3-d476-3f3ab215f00e"
   },
   "outputs": [
    {
     "data": {
      "text/html": [
       "<div>\n",
       "<style scoped>\n",
       "    .dataframe tbody tr th:only-of-type {\n",
       "        vertical-align: middle;\n",
       "    }\n",
       "\n",
       "    .dataframe tbody tr th {\n",
       "        vertical-align: top;\n",
       "    }\n",
       "\n",
       "    .dataframe thead th {\n",
       "        text-align: right;\n",
       "    }\n",
       "</style>\n",
       "<table border=\"1\" class=\"dataframe\">\n",
       "  <thead>\n",
       "    <tr style=\"text-align: right;\">\n",
       "      <th></th>\n",
       "      <th>Country name</th>\n",
       "      <th>score</th>\n",
       "      <th>Log GDP per capita</th>\n",
       "      <th>Social support</th>\n",
       "      <th>Healthy life expectancy</th>\n",
       "      <th>Freedom to make life choices</th>\n",
       "      <th>Generosity</th>\n",
       "      <th>Perceptions of corruption</th>\n",
       "      <th>Dystopia + residual</th>\n",
       "      <th>Happiness_Category</th>\n",
       "    </tr>\n",
       "  </thead>\n",
       "  <tbody>\n",
       "    <tr>\n",
       "      <th>0</th>\n",
       "      <td>Bahrain</td>\n",
       "      <td>5.959</td>\n",
       "      <td>NaN</td>\n",
       "      <td>NaN</td>\n",
       "      <td>NaN</td>\n",
       "      <td>NaN</td>\n",
       "      <td>NaN</td>\n",
       "      <td>NaN</td>\n",
       "      <td>NaN</td>\n",
       "      <td>Medium</td>\n",
       "    </tr>\n",
       "    <tr>\n",
       "      <th>1</th>\n",
       "      <td>Iran</td>\n",
       "      <td>4.923</td>\n",
       "      <td>1.435</td>\n",
       "      <td>1.136</td>\n",
       "      <td>0.571</td>\n",
       "      <td>0.366</td>\n",
       "      <td>0.235</td>\n",
       "      <td>0.123</td>\n",
       "      <td>1.057</td>\n",
       "      <td>Medium</td>\n",
       "    </tr>\n",
       "    <tr>\n",
       "      <th>2</th>\n",
       "      <td>Iraq</td>\n",
       "      <td>5.166</td>\n",
       "      <td>1.249</td>\n",
       "      <td>0.996</td>\n",
       "      <td>0.498</td>\n",
       "      <td>0.425</td>\n",
       "      <td>0.141</td>\n",
       "      <td>0.048</td>\n",
       "      <td>1.809</td>\n",
       "      <td>Medium</td>\n",
       "    </tr>\n",
       "    <tr>\n",
       "      <th>3</th>\n",
       "      <td>Israel</td>\n",
       "      <td>7.341</td>\n",
       "      <td>1.803</td>\n",
       "      <td>1.513</td>\n",
       "      <td>0.740</td>\n",
       "      <td>0.641</td>\n",
       "      <td>0.153</td>\n",
       "      <td>0.193</td>\n",
       "      <td>2.298</td>\n",
       "      <td>High</td>\n",
       "    </tr>\n",
       "    <tr>\n",
       "      <th>4</th>\n",
       "      <td>Jordan</td>\n",
       "      <td>4.186</td>\n",
       "      <td>1.262</td>\n",
       "      <td>0.983</td>\n",
       "      <td>0.594</td>\n",
       "      <td>0.593</td>\n",
       "      <td>0.059</td>\n",
       "      <td>0.189</td>\n",
       "      <td>0.504</td>\n",
       "      <td>Medium</td>\n",
       "    </tr>\n",
       "    <tr>\n",
       "      <th>5</th>\n",
       "      <td>Kuwait</td>\n",
       "      <td>6.951</td>\n",
       "      <td>1.845</td>\n",
       "      <td>1.364</td>\n",
       "      <td>0.661</td>\n",
       "      <td>0.827</td>\n",
       "      <td>0.200</td>\n",
       "      <td>0.172</td>\n",
       "      <td>1.884</td>\n",
       "      <td>High</td>\n",
       "    </tr>\n",
       "    <tr>\n",
       "      <th>6</th>\n",
       "      <td>Lebanon</td>\n",
       "      <td>2.707</td>\n",
       "      <td>1.377</td>\n",
       "      <td>0.577</td>\n",
       "      <td>0.556</td>\n",
       "      <td>0.173</td>\n",
       "      <td>0.068</td>\n",
       "      <td>0.029</td>\n",
       "      <td>-0.073</td>\n",
       "      <td>Low</td>\n",
       "    </tr>\n",
       "    <tr>\n",
       "      <th>7</th>\n",
       "      <td>Saudi Arabia</td>\n",
       "      <td>6.594</td>\n",
       "      <td>1.842</td>\n",
       "      <td>1.361</td>\n",
       "      <td>0.511</td>\n",
       "      <td>0.787</td>\n",
       "      <td>0.114</td>\n",
       "      <td>0.188</td>\n",
       "      <td>1.790</td>\n",
       "      <td>High</td>\n",
       "    </tr>\n",
       "    <tr>\n",
       "      <th>8</th>\n",
       "      <td>United Arab Emirates</td>\n",
       "      <td>6.733</td>\n",
       "      <td>1.983</td>\n",
       "      <td>1.164</td>\n",
       "      <td>0.563</td>\n",
       "      <td>0.815</td>\n",
       "      <td>0.209</td>\n",
       "      <td>0.258</td>\n",
       "      <td>1.741</td>\n",
       "      <td>High</td>\n",
       "    </tr>\n",
       "    <tr>\n",
       "      <th>9</th>\n",
       "      <td>Yemen</td>\n",
       "      <td>3.561</td>\n",
       "      <td>0.671</td>\n",
       "      <td>1.281</td>\n",
       "      <td>0.293</td>\n",
       "      <td>0.362</td>\n",
       "      <td>0.080</td>\n",
       "      <td>0.113</td>\n",
       "      <td>0.760</td>\n",
       "      <td>Low</td>\n",
       "    </tr>\n",
       "  </tbody>\n",
       "</table>\n",
       "</div>"
      ],
      "text/plain": [
       "           Country name  score  Log GDP per capita  Social support  \\\n",
       "0               Bahrain  5.959                 NaN             NaN   \n",
       "1                  Iran  4.923               1.435           1.136   \n",
       "2                  Iraq  5.166               1.249           0.996   \n",
       "3                Israel  7.341               1.803           1.513   \n",
       "4                Jordan  4.186               1.262           0.983   \n",
       "5                Kuwait  6.951               1.845           1.364   \n",
       "6               Lebanon  2.707               1.377           0.577   \n",
       "7          Saudi Arabia  6.594               1.842           1.361   \n",
       "8  United Arab Emirates  6.733               1.983           1.164   \n",
       "9                 Yemen  3.561               0.671           1.281   \n",
       "\n",
       "   Healthy life expectancy  Freedom to make life choices  Generosity  \\\n",
       "0                      NaN                           NaN         NaN   \n",
       "1                    0.571                         0.366       0.235   \n",
       "2                    0.498                         0.425       0.141   \n",
       "3                    0.740                         0.641       0.153   \n",
       "4                    0.594                         0.593       0.059   \n",
       "5                    0.661                         0.827       0.200   \n",
       "6                    0.556                         0.173       0.068   \n",
       "7                    0.511                         0.787       0.114   \n",
       "8                    0.563                         0.815       0.209   \n",
       "9                    0.293                         0.362       0.080   \n",
       "\n",
       "   Perceptions of corruption  Dystopia + residual Happiness_Category  \n",
       "0                        NaN                  NaN             Medium  \n",
       "1                      0.123                1.057             Medium  \n",
       "2                      0.048                1.809             Medium  \n",
       "3                      0.193                2.298               High  \n",
       "4                      0.189                0.504             Medium  \n",
       "5                      0.172                1.884               High  \n",
       "6                      0.029               -0.073                Low  \n",
       "7                      0.188                1.790               High  \n",
       "8                      0.258                1.741               High  \n",
       "9                      0.113                0.760                Low  "
      ]
     },
     "execution_count": 175,
     "metadata": {},
     "output_type": "execute_result"
    }
   ],
   "source": [
    "middle_east = pd.read_csv('middle_east_countries.csv')\n",
    "middle_east"
   ]
  },
  {
   "cell_type": "markdown",
   "metadata": {
    "id": "U_XUbFRRUNY2"
   },
   "source": [
    "<h2>1. Descriptive Statistics:</h2>\n"
   ]
  },
  {
   "cell_type": "code",
   "execution_count": 178,
   "metadata": {
    "colab": {
     "base_uri": "https://localhost:8080/"
    },
    "id": "WtClAAHjUA5O",
    "outputId": "acd08807-5220-4f32-acfa-79bc7739a6bf"
   },
   "outputs": [
    {
     "name": "stdout",
     "output_type": "stream",
     "text": [
      "Mean Score for South Asia: 3.895666666666667\n",
      "Mean Score for Middle East: 5.412100000000001\n"
     ]
    }
   ],
   "source": [
    "#!) Mean\n",
    "mean_south_asia = South_asian['score'].mean()\n",
    "mean_middle_east = middle_east['score'].mean()\n",
    "\n",
    "print(\"Mean Score for South Asia:\", mean_south_asia)\n",
    "print(\"Mean Score for Middle East:\", mean_middle_east)"
   ]
  },
  {
   "cell_type": "code",
   "execution_count": 180,
   "metadata": {
    "colab": {
     "base_uri": "https://localhost:8080/"
    },
    "id": "Aq0u0RIhVEl2",
    "outputId": "9f4ddece-caa3-4154-e89a-0c8a590b4c10"
   },
   "outputs": [
    {
     "name": "stdout",
     "output_type": "stream",
     "text": [
      "Standard Deviation of Score for South Asia: 1.1770690152521501\n",
      "Standard Deviation of Score for Middle East: 1.5662011684327144\n"
     ]
    }
   ],
   "source": [
    "#1)Standard deviation\n",
    "std_south_asia = South_asian['score'].std()\n",
    "std_middle_east = middle_east['score'].std()\n",
    "\n",
    "print(\"Standard Deviation of Score for South Asia:\", std_south_asia)\n",
    "print(\"Standard Deviation of Score for Middle East:\", std_middle_east)\n"
   ]
  },
  {
   "cell_type": "code",
   "execution_count": 182,
   "metadata": {
    "colab": {
     "base_uri": "https://localhost:8080/"
    },
    "id": "bg-K1066VO-9",
    "outputId": "df6a3d8b-5f37-4f25-b193-c522200a2564"
   },
   "outputs": [
    {
     "name": "stdout",
     "output_type": "stream",
     "text": [
      "Middle East is happier.\n"
     ]
    }
   ],
   "source": [
    "#2)\n",
    "if mean_south_asia > mean_middle_east:\n",
    "    print(\"South Asia is happier.\")\n",
    "elif mean_south_asia < mean_middle_east:\n",
    "    print(\"Middle East is happier.\")\n",
    "else:\n",
    "    print"
   ]
  },
  {
   "cell_type": "markdown",
   "metadata": {
    "id": "gCD7J0OZWXZZ"
   },
   "source": [
    "<h2>2. Top and Bottom Performers:</h2>"
   ]
  },
  {
   "cell_type": "code",
   "execution_count": 185,
   "metadata": {
    "colab": {
     "base_uri": "https://localhost:8080/"
    },
    "id": "qR2XD1TZWNq-",
    "outputId": "7f08201a-bc0c-4699-bf1d-b85df1fde04b"
   },
   "outputs": [
    {
     "name": "stdout",
     "output_type": "stream",
     "text": [
      "Top 3 Countries in South Asia:\n",
      "  Country name  score\n",
      "3        Nepal  5.158\n",
      "4     Pakistan  4.657\n",
      "2        India  4.054\n",
      "\n",
      "Top 3 Countries in Middle East:\n",
      "           Country name  score\n",
      "3                Israel  7.341\n",
      "5                Kuwait  6.951\n",
      "8  United Arab Emirates  6.733\n",
      "\n",
      "Bottom 3 Countries in South Asia:\n",
      "  Country name  score\n",
      "0  Afghanistan  1.721\n",
      "1   Bangladesh  3.886\n",
      "5    Sri Lanka  3.898\n",
      "\n",
      "Bottom 3 Countries in Middle East:\n",
      "  Country name  score\n",
      "6      Lebanon  2.707\n",
      "9        Yemen  3.561\n",
      "4       Jordan  4.186\n"
     ]
    }
   ],
   "source": [
    "#1)\n",
    "top3_south_asia = South_asian.nlargest(3, 'score')\n",
    "top3_middle_east = middle_east.nlargest(3, 'score')\n",
    "\n",
    "bottom3_south_asia = South_asian.nsmallest(3, 'score')\n",
    "bottom3_middle_east = middle_east.nsmallest(3, 'score')\n",
    "\n",
    "print(\"Top 3 Countries in South Asia:\")\n",
    "print(top3_south_asia[['Country name', 'score']])\n",
    "\n",
    "print(\"\\nTop 3 Countries in Middle East:\")\n",
    "print(top3_middle_east[['Country name', 'score']])\n",
    "\n",
    "print(\"\\nBottom 3 Countries in South Asia:\")\n",
    "print(bottom3_south_asia[['Country name', 'score']])\n",
    "\n",
    "print(\"\\nBottom 3 Countries in Middle East:\")\n",
    "print(bottom3_middle_east[['Country name', 'score']])"
   ]
  },
  {
   "cell_type": "code",
   "execution_count": 187,
   "metadata": {
    "colab": {
     "base_uri": "https://localhost:8080/",
     "height": 496
    },
    "id": "5188ahe_siKU",
    "outputId": "1ac231a8-f0e3-43fb-8026-ab9655c20d12"
   },
   "outputs": [
    {
     "data": {
      "image/png": "[encoded data removed]",
      "text/plain": [
       "<Figure size 1000x600 with 1 Axes>"
      ]
     },
     "metadata": {},
     "output_type": "display_data"
    }
   ],
   "source": [
    "#2) for south asia countries\n",
    "top_bottom_south_asia= pd.concat([top3_south_asia, bottom3_south_asia])\n",
    "\n",
    "top_bottom_south_asia['Category'] = ['Top'] * len(top3_south_asia) + ['Bottom'] * len(bottom3_south_asia)\n",
    "\n",
    "plt.figure(figsize=(10, 6))\n",
    "sns.barplot(x='Country name', y='score', data=top_bottom_south_asia, hue='Category', dodge=False)\n",
    "plt.title('Top and Bottom Countries in South Asia')\n",
    "plt.xlabel('Country Name')\n",
    "plt.ylabel('Score')\n",
    "plt.legend(title='Category')\n",
    "plt.show()"
   ]
  },
  {
   "cell_type": "code",
   "execution_count": 188,
   "metadata": {
    "colab": {
     "base_uri": "https://localhost:8080/",
     "height": 496
    },
    "id": "2C9gwtTNAVfE",
    "outputId": "a848e1af-6be6-45c1-cc8a-74bc43f95bf5"
   },
   "outputs": [
    {
     "data": {
      "image/png": "[encoded data removed]",
      "text/plain": [
       "<Figure size 1000x600 with 1 Axes>"
      ]
     },
     "metadata": {},
     "output_type": "display_data"
    }
   ],
   "source": [
    "#2) for middle east countries\n",
    "top_bottom_middle_east = pd.concat([top3_middle_east, bottom3_middle_east])\n",
    "\n",
    "top_bottom_middle_east['Category'] = ['Top'] * len(top3_middle_east) + ['Bottom'] * len(bottom3_middle_east)\n",
    "\n",
    "plt.figure(figsize=(10, 6))\n",
    "sns.barplot(x='Country name', y='score', data=top_bottom_middle_east, hue='Category', dodge=False,palette={'Top': 'red', 'Bottom': 'cyan'})\n",
    "plt.title('Top and Bottom Countries in Middle East')\n",
    "plt.xlabel('Country Name')\n",
    "plt.ylabel('Score')\n",
    "plt.legend(title='Category')\n",
    "plt.show()"
   ]
  },
  {
   "cell_type": "markdown",
   "metadata": {
    "id": "xpMAJwB4ZPmk"
   },
   "source": [
    "<h2>3. Metric Comparisons:</h2>"
   ]
  },
  {
   "cell_type": "code",
   "execution_count": 192,
   "metadata": {
    "colab": {
     "base_uri": "https://localhost:8080/",
     "height": 872
    },
    "id": "43eSWMxHYxc3",
    "outputId": "b0a2f810-2059-49a8-db1f-ef1204c20985"
   },
   "outputs": [
    {
     "data": {
      "text/plain": [
       "Text(0.5, 29.00000000000003, 'Metric')"
      ]
     },
     "execution_count": 192,
     "metadata": {},
     "output_type": "execute_result"
    },
    {
     "data": {
      "image/png": "[encoded data removed]",
      "text/plain": [
       "<Figure size 1098.88x600 with 1 Axes>"
      ]
     },
     "metadata": {},
     "output_type": "display_data"
    },
    {
     "data": {
      "image/png": "[encoded data removed]",
      "text/plain": [
       "<Figure size 1032.88x600 with 1 Axes>"
      ]
     },
     "metadata": {},
     "output_type": "display_data"
    }
   ],
   "source": [
    "#1)\n",
    "melted_df = middle_east.melt(id_vars=['Country name'],\n",
    "                     value_vars=['Log GDP per capita', 'Social support', 'Healthy life expectancy'],\n",
    "                     var_name='Metric',\n",
    "                     value_name='Value')\n",
    "\n",
    "melted_df2 = South_asian.melt(\n",
    "    id_vars=['Country name'],\n",
    "    value_vars=['Log GDP per capita', 'Social support', 'Healthy life expectancy'],\n",
    "    var_name='Metric',\n",
    "    value_name='Value'\n",
    ")\n",
    "\n",
    "sns.catplot(\n",
    "    data=melted_df,\n",
    "    x='Metric',\n",
    "    y='Value',\n",
    "    hue='Country name',\n",
    "    kind='bar',\n",
    "    height=6,\n",
    "    aspect=1.5\n",
    ")\n",
    "\n",
    "sns.catplot(\n",
    "    data=melted_df2,\n",
    "    x='Metric',\n",
    "    y='Value',\n",
    "    hue='Country name',\n",
    "    kind='bar',\n",
    "    height=6,\n",
    "    aspect=1.5\n",
    ")\n",
    "\n",
    "\n",
    "\n",
    "plt.title(\"Comparison of Key Metrics by Region\")\n",
    "plt.ylabel(\"Value\")\n",
    "plt.xlabel(\"Metric\")"
   ]
  },
  {
   "cell_type": "code",
   "execution_count": 193,
   "metadata": {
    "colab": {
     "base_uri": "https://localhost:8080/",
     "height": 238
    },
    "id": "h39hazyogrBi",
    "outputId": "deecbc3a-303b-485f-ac63-3252355fefc0"
   },
   "outputs": [
    {
     "name": "stdout",
     "output_type": "stream",
     "text": [
      "\n",
      "Country with the Smallest Disparity:\n",
      "Country name    Lebanon\n",
      "score             2.707\n",
      "Name: 6, dtype: object\n"
     ]
    },
    {
     "data": {
      "text/plain": [
       "Country name    Afghanistan\n",
       "score                 1.721\n",
       "Name: 0, dtype: object"
      ]
     },
     "execution_count": 193,
     "metadata": {},
     "output_type": "execute_result"
    }
   ],
   "source": [
    "#2)\n",
    "smallest_disparity = middle_east.loc[middle_east['score'].idxmin()]\n",
    "smallest_disparity2 = South_asian.loc[South_asian['score'].idxmin()]\n",
    "\n",
    "print(\"\\nCountry with the Smallest Disparity:\")\n",
    "print(smallest_disparity[['Country name', 'score']])\n",
    "smallest_disparity2[['Country name', 'score']]"
   ]
  },
  {
   "cell_type": "code",
   "execution_count": 194,
   "metadata": {
    "colab": {
     "base_uri": "https://localhost:8080/",
     "height": 220
    },
    "id": "S2vkP_KqhDSL",
    "outputId": "a4b208fe-e5e9-47da-87da-ea266cc06bf9"
   },
   "outputs": [
    {
     "name": "stdout",
     "output_type": "stream",
     "text": [
      "Country with the Largest Disparity:\n",
      "Country name    Israel\n",
      "score            7.341\n",
      "Name: 3, dtype: object\n"
     ]
    },
    {
     "data": {
      "text/plain": [
       "Country name    Nepal\n",
       "score           5.158\n",
       "Name: 3, dtype: object"
      ]
     },
     "execution_count": 194,
     "metadata": {},
     "output_type": "execute_result"
    }
   ],
   "source": [
    "#2)\n",
    "largest_disparity = middle_east.loc[middle_east['score'].idxmax()]\n",
    "largest_disparity2 = South_asian.loc[South_asian['score'].idxmax()]\n",
    "\n",
    "print(\"Country with the Largest Disparity:\")\n",
    "print(largest_disparity[['Country name', 'score']])\n",
    "largest_disparity2[['Country name', 'score']]"
   ]
  },
  {
   "cell_type": "markdown",
   "metadata": {
    "id": "lrs2XOS7aJWb"
   },
   "source": [
    "<h2>4. Happiness Disparity:</h2>"
   ]
  },
  {
   "cell_type": "code",
   "execution_count": 196,
   "metadata": {
    "colab": {
     "base_uri": "https://localhost:8080/"
    },
    "id": "JWRY1f9VaIba",
    "outputId": "74355e07-6ec4-48c9-990d-afdf9f2a5923"
   },
   "outputs": [
    {
     "name": "stdout",
     "output_type": "stream",
     "text": [
      "Range of Happiness Score for South Asia: 3.4370000000000003\n",
      "Coefficient of Variation for South Asia: 0.30214828833374263\n",
      "Range of Happiness Score for Middle East: 4.634\n",
      "Coefficient of Variation for Middle East: 0.28938880812119405\n"
     ]
    }
   ],
   "source": [
    "#1)\n",
    "range_south_asia = South_asian['score'].max() - South_asian['score'].min()\n",
    "print(\"Range of Happiness Score for South Asia:\", range_south_asia)\n",
    "cv_south_asia = std_south_asia / mean_south_asia\n",
    "print(\"Coefficient of Variation for South Asia:\", cv_south_asia)\n",
    "\n",
    "range_middle_east = middle_east['score'].max() - middle_east['score'].min()\n",
    "print(\"Range of Happiness Score for Middle East:\", range_middle_east)\n",
    "cv_middle_east = std_middle_east / mean_middle_east\n",
    "print(\"Coefficient of Variation for Middle East:\", cv_middle_east)"
   ]
  },
  {
   "cell_type": "code",
   "execution_count": 197,
   "metadata": {
    "colab": {
     "base_uri": "https://localhost:8080/"
    },
    "id": "VXEkM6Iaflf_",
    "outputId": "5650dca0-2819-4578-a865-d6981dbe9fda"
   },
   "outputs": [
    {
     "name": "stdout",
     "output_type": "stream",
     "text": [
      "Middle East has a larger range of happiness scores.\n"
     ]
    }
   ],
   "source": [
    "#2)\n",
    "if range_south_asia > range_middle_east:\n",
    "    print(\"South Asia has a larger range of happiness scores.\")\n",
    "elif range_south_asia < range_middle_east:\n",
    "    print(\"Middle East has a larger range of happiness scores.\")\n",
    "else:\n",
    "    print"
   ]
  },
  {
   "cell_type": "markdown",
   "metadata": {
    "id": "t-koXH_0gmkd"
   },
   "source": [
    "<h2>5. Correlation Analysis:</h2>"
   ]
  },
  {
   "cell_type": "code",
   "execution_count": 202,
   "metadata": {
    "colab": {
     "base_uri": "https://localhost:8080/",
     "height": 143
    },
    "id": "cVj323CTghdN",
    "outputId": "370cf157-ed17-46dd-9106-8a45ecdb29b7"
   },
   "outputs": [
    {
     "data": {
      "text/html": [
       "<div>\n",
       "<style scoped>\n",
       "    .dataframe tbody tr th:only-of-type {\n",
       "        vertical-align: middle;\n",
       "    }\n",
       "\n",
       "    .dataframe tbody tr th {\n",
       "        vertical-align: top;\n",
       "    }\n",
       "\n",
       "    .dataframe thead th {\n",
       "        text-align: right;\n",
       "    }\n",
       "</style>\n",
       "<table border=\"1\" class=\"dataframe\">\n",
       "  <thead>\n",
       "    <tr style=\"text-align: right;\">\n",
       "      <th></th>\n",
       "      <th>score</th>\n",
       "      <th>Generosity</th>\n",
       "      <th>Log GDP per capita</th>\n",
       "    </tr>\n",
       "  </thead>\n",
       "  <tbody>\n",
       "    <tr>\n",
       "      <th>score</th>\n",
       "      <td>1.000000</td>\n",
       "      <td>0.627524</td>\n",
       "      <td>0.802638</td>\n",
       "    </tr>\n",
       "    <tr>\n",
       "      <th>Generosity</th>\n",
       "      <td>0.627524</td>\n",
       "      <td>1.000000</td>\n",
       "      <td>0.558422</td>\n",
       "    </tr>\n",
       "    <tr>\n",
       "      <th>Log GDP per capita</th>\n",
       "      <td>0.802638</td>\n",
       "      <td>0.558422</td>\n",
       "      <td>1.000000</td>\n",
       "    </tr>\n",
       "  </tbody>\n",
       "</table>\n",
       "</div>"
      ],
      "text/plain": [
       "                       score  Generosity  Log GDP per capita\n",
       "score               1.000000    0.627524            0.802638\n",
       "Generosity          0.627524    1.000000            0.558422\n",
       "Log GDP per capita  0.802638    0.558422            1.000000"
      ]
     },
     "execution_count": 202,
     "metadata": {},
     "output_type": "execute_result"
    }
   ],
   "source": [
    "#1)\n",
    "cor_south_asia = South_asian[['score', 'Generosity', 'Log GDP per capita']].corr()\n",
    "cor_middle_east = middle_east[['score', 'Generosity', 'Log GDP per capita']].corr()\n",
    "\n",
    "cor_south_asia\n",
    "cor_middle_east"
   ]
  },
  {
   "cell_type": "code",
   "execution_count": 205,
   "metadata": {
    "colab": {
     "base_uri": "https://localhost:8080/",
     "height": 472
    },
    "id": "mffUfnY_hc_X",
    "outputId": "0c363f62-f597-455e-b025-487ae3edfe49"
   },
   "outputs": [
    {
     "data": {
      "image/png": "[encoded data removed]",
      "text/plain": [
       "<Figure size 640x480 with 1 Axes>"
      ]
     },
     "metadata": {},
     "output_type": "display_data"
    }
   ],
   "source": [
    "#2)\n",
    "cor_middle_east = df2[['score', 'Generosity', 'Log GDP per capita']].corr()\n",
    "\n",
    "sns.scatterplot(data=cor_middle_east, x='score', y='Generosity')\n",
    "plt.title('Middle East - Generosity vs Score')\n",
    "plt.show()"
   ]
  },
  {
   "cell_type": "code",
   "execution_count": 206,
   "metadata": {
    "colab": {
     "base_uri": "https://localhost:8080/",
     "height": 472
    },
    "id": "NS_L4G3sS_Tn",
    "outputId": "0aa6c66d-3f90-48eb-e034-602108b59f3a"
   },
   "outputs": [
    {
     "data": {
      "image/png": "[encoded data removed]",
      "text/plain": [
       "<Figure size 640x480 with 1 Axes>"
      ]
     },
     "metadata": {},
     "output_type": "display_data"
    }
   ],
   "source": [
    "#2)\n",
    "sns.scatterplot(data=cor_middle_east, x='score', y='Log GDP per capita')\n",
    "plt.title('Middle East - Log GDP per capita vs Score')\n",
    "plt.show()"
   ]
  },
  {
   "cell_type": "code",
   "execution_count": 208,
   "metadata": {
    "colab": {
     "base_uri": "https://localhost:8080/",
     "height": 472
    },
    "id": "t52d2pkViAyZ",
    "outputId": "8a6e1cfa-720a-4790-d265-75da3024b1b0"
   },
   "outputs": [
    {
     "data": {
      "image/png": "[encoded data removed]",
      "text/plain": [
       "<Figure size 640x480 with 1 Axes>"
      ]
     },
     "metadata": {},
     "output_type": "display_data"
    }
   ],
   "source": [
    "#2)\n",
    "cor_South_asian = South_asian[['score', 'Generosity', 'Log GDP per capita']].corr()\n",
    "\n",
    "sns.scatterplot(data=cor_South_asian, x='score', y='Generosity')\n",
    "plt.title('South Asia - Generosity vs Score')\n",
    "plt.show()\n"
   ]
  },
  {
   "cell_type": "code",
   "execution_count": 209,
   "metadata": {
    "colab": {
     "base_uri": "https://localhost:8080/",
     "height": 472
    },
    "id": "jzvXc8taS6rC",
    "outputId": "ead9ee42-441a-46ad-fb0a-8c29718a4f4c"
   },
   "outputs": [
    {
     "data": {
      "image/png": "[encoded data removed]",
      "text/plain": [
       "<Figure size 640x480 with 1 Axes>"
      ]
     },
     "metadata": {},
     "output_type": "display_data"
    }
   ],
   "source": [
    "#2)\n",
    "sns.scatterplot(data=cor_South_asian, x='score', y='Log GDP per capita')\n",
    "plt.title('South Asia - Log GDP per capita vs Score')\n",
    "plt.show()"
   ]
  },
  {
   "cell_type": "markdown",
   "metadata": {
    "id": "LZ0SEJqpmBNl"
   },
   "source": [
    "<h2>6. Outlier Detection:</h2>"
   ]
  },
  {
   "cell_type": "code",
   "execution_count": 213,
   "metadata": {
    "colab": {
     "base_uri": "https://localhost:8080/",
     "height": 472
    },
    "id": "NxZOplWUiYaf",
    "outputId": "b6fd1de2-57d5-4ecd-e5a3-33d779635231"
   },
   "outputs": [
    {
     "data": {
      "image/png": "[encoded data removed]",
      "text/plain": [
       "<Figure size 640x480 with 1 Axes>"
      ]
     },
     "metadata": {},
     "output_type": "display_data"
    }
   ],
   "source": [
    "#1)\n",
    "sns.scatterplot(data=middle_east,x='Log GDP per capita',y='score')\n",
    "\n",
    "plt.title('Scatterplot of Score vs. Log GDP per Capita')\n",
    "plt.xlabel('Log GDP per Capita')\n",
    "plt.ylabel('Score')\n",
    "plt.show()\n"
   ]
  },
  {
   "cell_type": "code",
   "execution_count": 214,
   "metadata": {
    "colab": {
     "base_uri": "https://localhost:8080/",
     "height": 472
    },
    "id": "LjoiOWKdpZEv",
    "outputId": "18af44f6-da6a-4e06-8df1-d3bce2340f89"
   },
   "outputs": [
    {
     "data": {
      "image/png": "[encoded data removed]",
      "text/plain": [
       "<Figure size 640x480 with 1 Axes>"
      ]
     },
     "metadata": {},
     "output_type": "display_data"
    }
   ],
   "source": [
    "#1)\n",
    "sns.scatterplot(data=South_asian,x='Log GDP per capita',y='score')\n",
    "\n",
    "plt.title('Scatterplot of Score vs. Log GDP per Capita')\n",
    "plt.xlabel('Log GDP per Capita')\n",
    "plt.ylabel('Score')\n",
    "plt.show()"
   ]
  },
  {
   "cell_type": "code",
   "execution_count": 215,
   "metadata": {
    "id": "gG8kx2v3mFmV"
   },
   "outputs": [],
   "source": [
    "#2) 4-3 ko bich ma bhako ra 1.4 ko mathi bhako is outliar"
   ]
  },
  {
   "cell_type": "markdown",
   "metadata": {
    "id": "4J6jiXgymILf"
   },
   "source": [
    "<h2>7. Visualization:</h2>"
   ]
  },
  {
   "cell_type": "code",
   "execution_count": 219,
   "metadata": {
    "colab": {
     "base_uri": "https://localhost:8080/",
     "height": 237
    },
    "id": "DchkLcUMmHVH",
    "outputId": "bb33e738-5568-4074-f1d8-1d9bf6189f79"
   },
   "outputs": [
    {
     "data": {
      "text/html": [
       "<div>\n",
       "<style scoped>\n",
       "    .dataframe tbody tr th:only-of-type {\n",
       "        vertical-align: middle;\n",
       "    }\n",
       "\n",
       "    .dataframe tbody tr th {\n",
       "        vertical-align: top;\n",
       "    }\n",
       "\n",
       "    .dataframe thead th {\n",
       "        text-align: right;\n",
       "    }\n",
       "</style>\n",
       "<table border=\"1\" class=\"dataframe\">\n",
       "  <thead>\n",
       "    <tr style=\"text-align: right;\">\n",
       "      <th></th>\n",
       "      <th>Middle_east_Scores</th>\n",
       "      <th>South_Asian_Scores</th>\n",
       "    </tr>\n",
       "  </thead>\n",
       "  <tbody>\n",
       "    <tr>\n",
       "      <th>0</th>\n",
       "      <td>5.959</td>\n",
       "      <td>1.721</td>\n",
       "    </tr>\n",
       "    <tr>\n",
       "      <th>1</th>\n",
       "      <td>4.923</td>\n",
       "      <td>3.886</td>\n",
       "    </tr>\n",
       "    <tr>\n",
       "      <th>2</th>\n",
       "      <td>5.166</td>\n",
       "      <td>4.054</td>\n",
       "    </tr>\n",
       "    <tr>\n",
       "      <th>3</th>\n",
       "      <td>7.341</td>\n",
       "      <td>5.158</td>\n",
       "    </tr>\n",
       "    <tr>\n",
       "      <th>4</th>\n",
       "      <td>4.186</td>\n",
       "      <td>4.657</td>\n",
       "    </tr>\n",
       "    <tr>\n",
       "      <th>5</th>\n",
       "      <td>6.951</td>\n",
       "      <td>3.898</td>\n",
       "    </tr>\n",
       "  </tbody>\n",
       "</table>\n",
       "</div>"
      ],
      "text/plain": [
       "   Middle_east_Scores  South_Asian_Scores\n",
       "0               5.959               1.721\n",
       "1               4.923               3.886\n",
       "2               5.166               4.054\n",
       "3               7.341               5.158\n",
       "4               4.186               4.657\n",
       "5               6.951               3.898"
      ]
     },
     "execution_count": 219,
     "metadata": {},
     "output_type": "execute_result"
    }
   ],
   "source": [
    "#1)\n",
    "df_combined = pd.concat([middle_east['score'], South_asian['score']], axis=1)\n",
    "df_combined.columns = ['Middle_east_Scores', 'South_Asian_Scores']\n",
    "\n",
    "df_combined.dropna()\n"
   ]
  },
  {
   "cell_type": "code",
   "execution_count": 220,
   "metadata": {
    "colab": {
     "base_uri": "https://localhost:8080/",
     "height": 489
    },
    "id": "PaK33m2Zup6T",
    "outputId": "a0c56221-b952-4cfc-d345-9e460ee1b8bc"
   },
   "outputs": [
    {
     "data": {
      "image/png": "[encoded data removed]",
      "text/plain": [
       "<Figure size 1000x600 with 1 Axes>"
      ]
     },
     "metadata": {},
     "output_type": "display_data"
    }
   ],
   "source": [
    "plt.figure(figsize=(10,6))\n",
    "sns.boxplot(data=df_combined,x='Middle_east_Scores',y='South_Asian_Scores')\n",
    "plt.title('Boxplot of Middle East and South Asia Scores')\n",
    "plt.xlabel('Middle East Scores')\n",
    "plt.ylabel('South Asia Scores')\n",
    "plt.show()"
   ]
  },
  {
   "cell_type": "code",
   "execution_count": 221,
   "metadata": {
    "colab": {
     "base_uri": "https://localhost:8080/",
     "height": 497
    },
    "id": "tAq_CvzymPeM",
    "outputId": "1bbed49b-5a2c-4873-c8e7-c43a7c0dbebe"
   },
   "outputs": [
    {
     "data": {
      "image/png": "[encoded data removed]",
      "text/plain": [
       "<Figure size 1000x600 with 1 Axes>"
      ]
     },
     "metadata": {},
     "output_type": "display_data"
    }
   ],
   "source": [
    "plt.figure(figsize=(10,6))\n",
    "sns.boxplot(data=df_combined,x='Middle_east_Scores')\n",
    "plt.show()"
   ]
  },
  {
   "cell_type": "code",
   "execution_count": 223,
   "metadata": {
    "colab": {
     "base_uri": "https://localhost:8080/",
     "height": 562
    },
    "id": "L2eflYOkmQcy",
    "outputId": "29278602-e99b-4c1e-9bca-47cb7eb6a66d"
   },
   "outputs": [
    {
     "data": {
      "image/png": "[encoded data removed]",
      "text/plain": [
       "<Figure size 1000x600 with 1 Axes>"
      ]
     },
     "metadata": {},
     "output_type": "display_data"
    }
   ],
   "source": [
    "plt.figure(figsize=(10,6))\n",
    "sns.boxplot(data=df_combined,x='South_Asian_Scores')\n",
    "plt.show()"
   ]
  },
  {
   "cell_type": "code",
   "execution_count": 226,
   "metadata": {
    "colab": {
     "base_uri": "https://localhost:8080/",
     "height": 497
    },
    "id": "QclMWdemvfsl",
    "outputId": "733bf1a7-11a9-4b2d-b941-e97776fd015c"
   },
   "outputs": [
    {
     "data": {
      "image/png": "[encoded data removed]",
      "text/plain": [
       "<Figure size 1000x600 with 1 Axes>"
      ]
     },
     "metadata": {},
     "output_type": "display_data"
    }
   ],
   "source": [
    "plt.figure(figsize=(10,6))\n",
    "\n",
    "sns.boxplot(data=South_asian,x='score')\n",
    "plt.show()"
   ]
  },
  {
   "cell_type": "code",
   "execution_count": 227,
   "metadata": {
    "colab": {
     "base_uri": "https://localhost:8080/",
     "height": 497
    },
    "id": "c6IaoOF7wNn5",
    "outputId": "ccdcf87d-d97a-4a6d-dfca-d3ef11fb8e2a"
   },
   "outputs": [
    {
     "data": {
      "image/png": "[encoded data removed]",
      "text/plain": [
       "<Figure size 1000x600 with 1 Axes>"
      ]
     },
     "metadata": {},
     "output_type": "display_data"
    }
   ],
   "source": [
    "plt.figure(figsize=(10,6))\n",
    "sns.boxplot(data=middle_east,x='score')\n",
    "plt.show()"
   ]
  },
  {
   "cell_type": "code",
   "execution_count": 230,
   "metadata": {
    "id": "lalXGsiYxeEM"
   },
   "outputs": [],
   "source": [
    "#2)\n"
   ]
  }
 ],
 "metadata": {
  "colab": {
   "provenance": []
  },
  "kernelspec": {
   "display_name": "Python 3 (ipykernel)",
   "language": "python",
   "name": "python3"
  },
  "language_info": {
   "codemirror_mode": {
    "name": "ipython",
    "version": 3
   },
   "file_extension": ".py",
   "mimetype": "text/x-python",
   "name": "python",
   "nbconvert_exporter": "python",
   "pygments_lexer": "ipython3",
   "version": "3.11.7"
  }
 },
 "nbformat": 4,
 "nbformat_minor": 4
}
