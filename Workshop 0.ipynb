{
 "cells": [
  {
   "cell_type": "code",
   "execution_count": 4,
   "id": "ec3adee5-0ff8-40bd-9c3a-3494ef966479",
   "metadata": {},
   "outputs": [],
   "source": [
    "import numpy as np\n",
    "import pandas as pd\n",
    "import matplotlib.pyplot as plt"
   ]
  },
  {
   "cell_type": "code",
   "execution_count": 5,
   "id": "c880b7a0-f05e-489e-aada-e80248344d58",
   "metadata": {},
   "outputs": [],
   "source": [
    "data = [8.2, 17.4, 14.1, 7.9, 18.0, 13.5, 9.0, 17.8, 13.0, 8.5,\n",
    "16.5, 12.9, 7.7, 17.2, 13.3, 8.4, 16.7, 14.0, 9.5, 18.3, 13.4, 8.1,\n",
    "17.9, 14.2, 7.6, 17.0, 12.8, 8.0, 16.8, 13.7, 7.8, 17.5, 13.6, 8.7,\n",
    "17.1, 13.8, 9.2, 18.1, 13.9, 8.3, 16.4, 12.7, 8.9, 18.2, 13.1, 7.8,\n",
    "16.6, 12.5]\n",
    "\n",
    "data=np.array(data)"
   ]
  },
  {
   "cell_type": "code",
   "execution_count": 6,
   "id": "911cb596-1b47-4efb-9bc4-91a4868ee219",
   "metadata": {},
   "outputs": [],
   "source": [
    "data=data.astype('int')"
   ]
  },
  {
   "cell_type": "code",
   "execution_count": 7,
   "id": "4e1b31e9-d02d-4a82-a739-b67ca208237d",
   "metadata": {},
   "outputs": [
    {
     "data": {
      "text/plain": [
       "array([8., 7., 9., 8., 7., 8., 9., 8., 7., 8., 7., 8., 9., 8., 8., 7.])"
      ]
     },
     "execution_count": 7,
     "metadata": {},
     "output_type": "execute_result"
    }
   ],
   "source": [
    "Cold=np.array([])\n",
    "for i in data:\n",
    "    if i<10:\n",
    "        Cold=np.append(Cold,i)\n",
    "Cold"
   ]
  },
  {
   "cell_type": "code",
   "execution_count": 8,
   "id": "ff5e4b01-4712-47fd-89f1-ed0a20897364",
   "metadata": {},
   "outputs": [
    {
     "data": {
      "text/plain": [
       "array([14., 13., 13., 12., 13., 14., 13., 14., 12., 13., 13., 13., 13.,\n",
       "       12., 13., 12.])"
      ]
     },
     "execution_count": 8,
     "metadata": {},
     "output_type": "execute_result"
    }
   ],
   "source": [
    "Mild=np.array([])\n",
    "\n",
    "for i in data:\n",
    "    if i>10 and i<15:\n",
    "        Mild=np.append(Mild,i)\n",
    "\n",
    "Mild"
   ]
  },
  {
   "cell_type": "code",
   "execution_count": 9,
   "id": "c9a8555d-8377-4e0d-b365-9f0c8e342b1e",
   "metadata": {},
   "outputs": [
    {
     "data": {
      "text/plain": [
       "array([17., 18., 17., 16., 17., 16., 18., 17., 17., 16., 17., 17., 18.,\n",
       "       16., 18., 16.])"
      ]
     },
     "execution_count": 9,
     "metadata": {},
     "output_type": "execute_result"
    }
   ],
   "source": [
    "Comfy=np.array([])\n",
    "\n",
    "for i in data:\n",
    "    if i>15 and i<20:\n",
    "        Comfy=np.append(Comfy , i)\n",
    "\n",
    "Comfy"
   ]
  },
  {
   "cell_type": "code",
   "execution_count": 10,
   "id": "f5300ef8-b24f-49d5-b5e6-a3f47e6d8499",
   "metadata": {},
   "outputs": [
    {
     "data": {
      "text/plain": [
       "16"
      ]
     },
     "execution_count": 10,
     "metadata": {},
     "output_type": "execute_result"
    }
   ],
   "source": [
    "len(Cold)"
   ]
  },
  {
   "cell_type": "code",
   "execution_count": 11,
   "id": "0f94e5ad-49b4-4a5a-9db4-297a7f7dc835",
   "metadata": {},
   "outputs": [
    {
     "data": {
      "text/plain": [
       "16"
      ]
     },
     "execution_count": 11,
     "metadata": {},
     "output_type": "execute_result"
    }
   ],
   "source": [
    "len(Comfy)"
   ]
  },
  {
   "cell_type": "code",
   "execution_count": 12,
   "id": "155bbad3-d306-4174-b527-b0c2d1a0e485",
   "metadata": {},
   "outputs": [
    {
     "data": {
      "text/plain": [
       "16"
      ]
     },
     "execution_count": 12,
     "metadata": {},
     "output_type": "execute_result"
    }
   ],
   "source": [
    "len(Mild)"
   ]
  },
  {
   "cell_type": "code",
   "execution_count": 13,
   "id": "4adb8e30-7c62-478d-823e-1dadda62c1fc",
   "metadata": {},
   "outputs": [],
   "source": [
    "New_temp=np.array([])\n",
    "\n",
    "\n",
    "def Convo(data, New_temp):\n",
    "    f = (data * 9/5) + 32\n",
    "    New_temp=np.append(New_temp , f)\n",
    "    return New_temp\n",
    "\n",
    "New_temp = Convo(data,New_temp)"
   ]
  },
  {
   "cell_type": "code",
   "execution_count": 14,
   "id": "d0b0d1da-5188-4cd3-8821-3eaf82038034",
   "metadata": {},
   "outputs": [
    {
     "name": "stdout",
     "output_type": "stream",
     "text": [
      "[46.4 62.6 57.2 44.6 64.4 55.4 48.2 62.6 55.4 46.4 60.8 53.6 44.6 62.6\n",
      " 55.4 46.4 60.8 57.2 48.2 64.4 55.4 46.4 62.6 57.2 44.6 62.6 53.6 46.4\n",
      " 60.8 55.4 44.6 62.6 55.4 46.4 62.6 55.4 48.2 64.4 55.4 46.4 60.8 53.6\n",
      " 46.4 64.4 55.4 44.6 60.8 53.6]\n"
     ]
    }
   ],
   "source": [
    "print(New_temp)"
   ]
  },
  {
   "cell_type": "code",
   "execution_count": 15,
   "id": "b7eddb18-d55c-4848-bb8f-48d5d5180803",
   "metadata": {},
   "outputs": [
    {
     "data": {
      "text/plain": [
       "array([ 8, 17, 14,  7, 18, 13,  9, 17])"
      ]
     },
     "execution_count": 15,
     "metadata": {},
     "output_type": "execute_result"
    }
   ],
   "source": [
    "Night=data[0:8]\n",
    "\n",
    "Night"
   ]
  },
  {
   "cell_type": "code",
   "execution_count": 16,
   "id": "8dfed9ae-a165-46db-bb22-036772ee3fdf",
   "metadata": {},
   "outputs": [
    {
     "data": {
      "text/plain": [
       "array([13,  8, 16, 12,  7, 17, 13,  8])"
      ]
     },
     "execution_count": 16,
     "metadata": {},
     "output_type": "execute_result"
    }
   ],
   "source": [
    "Evening=data[8:16]\n",
    "\n",
    "Evening"
   ]
  },
  {
   "cell_type": "code",
   "execution_count": 17,
   "id": "ef9d0e51-c350-4692-931b-e8e7633db029",
   "metadata": {},
   "outputs": [
    {
     "data": {
      "text/plain": [
       "13.625"
      ]
     },
     "execution_count": 17,
     "metadata": {},
     "output_type": "execute_result"
    }
   ],
   "source": [
    "Day=data[16:24]\n",
    "\n",
    "Day.mean()"
   ]
  },
  {
   "cell_type": "code",
   "execution_count": 18,
   "id": "698d94a4-4908-43ba-aa1e-46d72acdf033",
   "metadata": {},
   "outputs": [],
   "source": [
    "hrs=list(range(16,24))"
   ]
  },
  {
   "cell_type": "code",
   "execution_count": 19,
   "id": "835ec3d4-6bb0-42c1-a435-34904c615d82",
   "metadata": {},
   "outputs": [
    {
     "data": {
      "image/png": "[encoded data removed]",
      "text/plain": [
       "<Figure size 640x480 with 1 Axes>"
      ]
     },
     "metadata": {},
     "output_type": "display_data"
    }
   ],
   "source": [
    "plt.plot(Day,hrs)\n",
    "plt.title(\"Day vs Temperature\")\n",
    "plt.xlabel(\"Hour of the Day (16:00-24:00)\")\n",
    "plt.ylabel(\"Temperature (°C)\")\n",
    "plt.grid(True)\n",
    "plt.show()"
   ]
  },
  {
   "cell_type": "markdown",
   "id": "fbaee36f-fb4d-4e01-84a3-52b053bfe493",
   "metadata": {},
   "source": [
    "<h1>Task-2</h1>"
   ]
  },
  {
   "cell_type": "code",
   "execution_count": 21,
   "id": "c3bdbc9c-1d66-41a3-83ab-f59bee4ccbb0",
   "metadata": {},
   "outputs": [],
   "source": [
    "def sum_nested_list(nested_list):\n",
    "    total = 0\n",
    "    for element in nested_list:\n",
    "        if isinstance(element, list):  # Check if the element is a list\n",
    "            total += sum_nested_list(element)  # Recursively sum the nested list\n",
    "        else:\n",
    "            total += element  # Add the number to the total\n",
    "    return total\n"
   ]
  },
  {
   "cell_type": "code",
   "execution_count": 22,
   "id": "b8ac8a91-0600-4b60-9ea6-2dac93e9e8cf",
   "metadata": {},
   "outputs": [
    {
     "data": {
      "text/plain": [
       "28"
      ]
     },
     "execution_count": 22,
     "metadata": {},
     "output_type": "execute_result"
    }
   ],
   "source": [
    "sum_nested_list([1, [2, 3], [4, [5, 6]], 7])"
   ]
  },
  {
   "cell_type": "code",
   "execution_count": 23,
   "id": "f8658708-99f4-45f7-a65c-962d509d9c51",
   "metadata": {},
   "outputs": [],
   "source": [
    "def generate_permutations(s):\n",
    "    if len(s)==1:\n",
    "        return s\n",
    "    perm=[]\n",
    "    for i in range(len(s)):\n",
    "        result=generate_permutations(s[0:i]+s[i+1:])\n",
    "        for j in result:\n",
    "            perm.append(s[i]+j)\n",
    "    return perm\n"
   ]
  },
  {
   "cell_type": "code",
   "execution_count": 24,
   "id": "268d2204-be25-4aaa-aa7e-15401718b9a6",
   "metadata": {},
   "outputs": [
    {
     "data": {
      "text/plain": [
       "['abc', 'acb', 'bac', 'bca', 'cab', 'cba']"
      ]
     },
     "execution_count": 24,
     "metadata": {},
     "output_type": "execute_result"
    }
   ],
   "source": [
    "generate_permutations(\"abc\")"
   ]
  },
  {
   "cell_type": "code",
   "execution_count": 46,
   "id": "93e8d5c0-561e-45c7-848c-ffce67a86f14",
   "metadata": {},
   "outputs": [
    {
     "name": "stdout",
     "output_type": "stream",
     "text": [
      "Night temperatures: [2, 4, 6, 8, 10, 12, 14, 16]\n",
      "Evening temperatures: [18, 20, 22, 24, 26, 28, 30, 32]\n",
      "Day temperatures: [34, 36, 38, 40, 42, 44, 46, 48]\n",
      "Average day-time temperature: 41.0\n"
     ]
    },
    {
     "data": {
      "image/png": "[encoded data removed]",
      "text/plain": [
       "<Figure size 640x480 with 1 Axes>"
      ]
     },
     "metadata": {},
     "output_type": "display_data"
    }
   ],
   "source": [
    "import matplotlib.pyplot as plt\n",
    "\n",
    "#List of temperatures 24 readings for each hour of the day\n",
    "temperatures = [2,4,6,8,10,12,14,16,18,20,22,24,26,28,30,32,34,36,38,40,42,44,46,48]\n",
    "\n",
    "#1 Create empty lists for time-of-day temperature groups\n",
    "night = []  # 00:00 to 08:00\n",
    "evening = []  # 08:00 to 16:00\n",
    "day = []  # 16:00 to 24:00\n",
    "\n",
    "#2 Assign values to time-of-day lists based on their position\n",
    "for i, temp in enumerate(temperatures):\n",
    "    if 0 <= i < 8:\n",
    "        night.append(temp)\n",
    "    elif 8 <= i < 16:\n",
    "        evening.append(temp)\n",
    "    elif 16 <= i < 24:\n",
    "        day.append(temp)\n",
    "\n",
    "# 3 Calculate the average daytime temperature\n",
    "average_day_temperature = sum(day) / len(day)\n",
    "\n",
    "# Print results\n",
    "print(\"Night temperatures:\", night)\n",
    "print(\"Evening temperatures:\", evening)\n",
    "print(\"Day temperatures:\", day)\n",
    "print(\"Average day-time temperature:\", average_day_temperature)\n",
    "\n",
    "# 4 Plot \"day vs. temperature\"\n",
    "hours = list(range(24))\n",
    "plt.plot(hours, temperatures, marker='o', label='Temperature')\n",
    "plt.axvspan(0, 8, color='blue', alpha=0.1, label='Night')\n",
    "plt.axvspan(8, 16, color='green', alpha=0.1, label='Evening')\n",
    "plt.axvspan(16, 24, color='orange', alpha=0.1, label='Day')\n",
    "plt.title(\"Hourly Temperature Readings\")\n",
    "plt.xlabel(\"Hour of the Day\")\n",
    "plt.ylabel(\"Temperature (°C)\")\n",
    "plt.xticks(range(0, 24, 2))  # Tick every 2 hours\n",
    "plt.legend()\n",
    "plt.grid()\n",
    "plt.show()"
   ]
  },
  {
   "cell_type": "code",
   "execution_count": null,
   "id": "4e302c43-9770-414a-ae00-78133e052c99",
   "metadata": {},
   "outputs": [],
   "source": []
  }
 ],
 "metadata": {
  "kernelspec": {
   "display_name": "Python 3 (ipykernel)",
   "language": "python",
   "name": "python3"
  },
  "language_info": {
   "codemirror_mode": {
    "name": "ipython",
    "version": 3
   },
   "file_extension": ".py",
   "mimetype": "text/x-python",
   "name": "python",
   "nbconvert_exporter": "python",
   "pygments_lexer": "ipython3",
   "version": "3.11.7"
  }
 },
 "nbformat": 4,
 "nbformat_minor": 5
}
